{
 "cells": [
  {
   "cell_type": "markdown",
   "id": "b26638f8",
   "metadata": {},
   "source": [
    "<img src=\"https://sv1.picz.in.th/images/2023/05/26/FA0vO9.png\" width = 800   />"
   ]
  },
  {
   "cell_type": "markdown",
   "id": "6ccc0a46",
   "metadata": {},
   "source": [
    "## A Look at Math Operations"
   ]
  },
  {
   "cell_type": "code",
   "execution_count": 9,
   "id": "5b541c53",
   "metadata": {},
   "outputs": [
    {
     "name": "stdout",
     "output_type": "stream",
     "text": [
      "[[75 80 85]\n",
      " [85 80 75]\n",
      " [80 85 90]\n",
      " [90 85 80]\n",
      " [70 80 90]]\n"
     ]
    }
   ],
   "source": [
    "import numpy as np\n",
    "scores = np.array([\n",
    "    [75,80,85],\n",
    "\t[85,80,75],\n",
    "\t[80,85,90],\n",
    "\t[90,85,80],\n",
    "\t[70,80,90]\n",
    "])\n",
    "    \n",
    "print(scores)"
   ]
  },
  {
   "cell_type": "code",
   "execution_count": 12,
   "id": "93c0fbb3",
   "metadata": {},
   "outputs": [
    {
     "name": "stdout",
     "output_type": "stream",
     "text": [
      "[70 80 75]\n",
      "\n",
      "\n",
      "[75 75 80 80 70]\n"
     ]
    }
   ],
   "source": [
    "print(np.min(scores, axis=0))\n",
    "print('\\n')\n",
    "print(np.min(scores, axis=1))"
   ]
  },
  {
   "cell_type": "code",
   "execution_count": 13,
   "id": "ab29b17a",
   "metadata": {},
   "outputs": [
    {
     "name": "stdout",
     "output_type": "stream",
     "text": [
      "[90 85 90]\n",
      "\n",
      "\n",
      "[85 85 90 90 90]\n"
     ]
    }
   ],
   "source": [
    "print(np.max(scores, axis=0))\n",
    "print('\\n')\n",
    "print(np.max(scores, axis=1))"
   ]
  },
  {
   "cell_type": "code",
   "execution_count": 14,
   "id": "41fcd262",
   "metadata": {},
   "outputs": [
    {
     "name": "stdout",
     "output_type": "stream",
     "text": [
      "[80. 82. 84.]\n",
      "\n",
      "\n",
      "[80. 80. 85. 85. 80.]\n"
     ]
    }
   ],
   "source": [
    "print(np.mean(scores, axis=0))\n",
    "print('\\n')\n",
    "print(np.mean(scores, axis=1))"
   ]
  },
  {
   "cell_type": "code",
   "execution_count": 15,
   "id": "0bb061d5",
   "metadata": {},
   "outputs": [
    {
     "name": "stdout",
     "output_type": "stream",
     "text": [
      "[240 240 255 255 240]\n"
     ]
    }
   ],
   "source": [
    "print(np.sum(scores, axis=1))"
   ]
  },
  {
   "cell_type": "code",
   "execution_count": 19,
   "id": "44f0fa02",
   "metadata": {},
   "outputs": [
    {
     "name": "stdout",
     "output_type": "stream",
     "text": [
      "x: [-5 -4 -3 -2 -1  0  1  2  3  4]\n",
      "y: [ 0  2  4  6  8 10 12 14 16 18]\n"
     ]
    }
   ],
   "source": [
    "x = np.arange(-5,5)\n",
    "print('x:', x)\n",
    "\n",
    "y = 2*x +10\n",
    "\n",
    "print('y:', y)"
   ]
  },
  {
   "cell_type": "code",
   "execution_count": null,
   "id": "2a74d60d",
   "metadata": {},
   "outputs": [],
   "source": []
  },
  {
   "cell_type": "markdown",
   "id": "1856e3a6",
   "metadata": {},
   "source": [
    "## Sorting and Filtering/Searching"
   ]
  },
  {
   "cell_type": "markdown",
   "id": "b890bc8d",
   "metadata": {},
   "source": [
    "- Use `numpy.sort()` --> return a **copy** of sorted ndarray."
   ]
  },
  {
   "cell_type": "code",
   "execution_count": 20,
   "id": "96152abf",
   "metadata": {},
   "outputs": [
    {
     "data": {
      "text/plain": [
       "array([[75, 80, 85],\n",
       "       [85, 80, 75],\n",
       "       [80, 85, 90],\n",
       "       [90, 85, 80],\n",
       "       [70, 80, 90]])"
      ]
     },
     "execution_count": 20,
     "metadata": {},
     "output_type": "execute_result"
    }
   ],
   "source": [
    "scores"
   ]
  },
  {
   "cell_type": "code",
   "execution_count": 21,
   "id": "791452a4",
   "metadata": {},
   "outputs": [
    {
     "name": "stdout",
     "output_type": "stream",
     "text": [
      "[[70 80 75]\n",
      " [75 80 80]\n",
      " [80 80 85]\n",
      " [85 85 90]\n",
      " [90 85 90]]\n",
      "\n",
      "\n",
      "[[75 80 85]\n",
      " [75 80 85]\n",
      " [80 85 90]\n",
      " [80 85 90]\n",
      " [70 80 90]]\n"
     ]
    }
   ],
   "source": [
    "#ascending sort\n",
    "print(np.sort(scores, axis=0))\n",
    "print('\\n')\n",
    "print(np.sort(scores, axis=1))"
   ]
  },
  {
   "cell_type": "code",
   "execution_count": 22,
   "id": "55e19f2f",
   "metadata": {},
   "outputs": [
    {
     "name": "stdout",
     "output_type": "stream",
     "text": [
      "[[85 80 75]\n",
      " [85 80 75]\n",
      " [90 85 80]\n",
      " [90 85 80]\n",
      " [90 80 70]]\n"
     ]
    }
   ],
   "source": [
    "print(-(np.sort(-scores, axis=1)))"
   ]
  },
  {
   "cell_type": "markdown",
   "id": "86a4e1c8",
   "metadata": {},
   "source": [
    "- Sort by **structure field** - order by `field_name`"
   ]
  },
  {
   "cell_type": "code",
   "execution_count": 23,
   "id": "ab8a14c2",
   "metadata": {},
   "outputs": [
    {
     "name": "stdout",
     "output_type": "stream",
     "text": [
      "[('C100', 'David', 35) ('C200', 'Steve', 25) ('C300', 'Tom', 45)]\n"
     ]
    }
   ],
   "source": [
    "# create customer data type\n",
    "customer_dtype = np.dtype([('cid', str, 10), ('name', str, 30), ('age', np.int8)])\n",
    "\n",
    "# create customer records\n",
    "cust_list = [('C100', 'David', 35), ('C200', 'Steve', 25), ('C300', 'Tom',45)]\n",
    "\n",
    "# create NumPy array\n",
    "customers = np.array(cust_list, customer_dtype)\n",
    "\n",
    "print(customers)\n",
    "\f"
   ]
  },
  {
   "cell_type": "code",
   "execution_count": 24,
   "id": "f67d07d1",
   "metadata": {},
   "outputs": [
    {
     "name": "stdout",
     "output_type": "stream",
     "text": [
      "[('C200', 'Steve', 25) ('C100', 'David', 35) ('C300', 'Tom', 45)]\n"
     ]
    }
   ],
   "source": [
    "print(np.sort(customers, order='age'))"
   ]
  },
  {
   "cell_type": "code",
   "execution_count": 25,
   "id": "b792ff23",
   "metadata": {},
   "outputs": [
    {
     "name": "stdout",
     "output_type": "stream",
     "text": [
      "[('C300', 'Tom', 45) ('C100', 'David', 35) ('C200', 'Steve', 25)]\n"
     ]
    }
   ],
   "source": [
    "print (np.sort(customers, order='age')[::-1])"
   ]
  }
 ],
 "metadata": {
  "kernelspec": {
   "display_name": "Python 3 (ipykernel)",
   "language": "python",
   "name": "python3"
  },
  "language_info": {
   "codemirror_mode": {
    "name": "ipython",
    "version": 3
   },
   "file_extension": ".py",
   "mimetype": "text/x-python",
   "name": "python",
   "nbconvert_exporter": "python",
   "pygments_lexer": "ipython3",
   "version": "3.11.3"
  }
 },
 "nbformat": 4,
 "nbformat_minor": 5
}
