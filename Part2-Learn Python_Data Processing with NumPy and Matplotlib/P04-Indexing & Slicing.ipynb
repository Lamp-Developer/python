{
 "cells": [
  {
   "cell_type": "markdown",
   "id": "bc8f36ae",
   "metadata": {},
   "source": [
    "## Understand array indexing"
   ]
  },
  {
   "cell_type": "code",
   "execution_count": 2,
   "id": "72072aec",
   "metadata": {},
   "outputs": [
    {
     "data": {
      "text/plain": [
       "array([[ 0,  1,  2],\n",
       "       [ 3,  4,  5],\n",
       "       [ 6,  7,  8],\n",
       "       [ 9, 10, 11]])"
      ]
     },
     "execution_count": 2,
     "metadata": {},
     "output_type": "execute_result"
    }
   ],
   "source": [
    "import numpy as np\n",
    "x = np.arange(0,12).reshape(4,3)\n",
    "x"
   ]
  },
  {
   "cell_type": "markdown",
   "id": "ab16a118",
   "metadata": {},
   "source": [
    "- Access **a specific item**"
   ]
  },
  {
   "cell_type": "code",
   "execution_count": 4,
   "id": "b609e972",
   "metadata": {},
   "outputs": [
    {
     "name": "stdout",
     "output_type": "stream",
     "text": [
      "[[ 0  1 -9]\n",
      " [ 3  4  5]\n",
      " [ 6  7  8]\n",
      " [ 9 10 11]]\n"
     ]
    }
   ],
   "source": [
    "x[0,2] = -9\n",
    "print(x)"
   ]
  },
  {
   "cell_type": "markdown",
   "id": "f5242f3b",
   "metadata": {},
   "source": [
    "- Access **an entire row**"
   ]
  },
  {
   "cell_type": "code",
   "execution_count": 7,
   "id": "d16f7806",
   "metadata": {},
   "outputs": [
    {
     "name": "stdout",
     "output_type": "stream",
     "text": [
      "[[ 0  1 -9]\n",
      " [ 8  8  8]\n",
      " [ 6  7  8]\n",
      " [ 9 10 11]]\n"
     ]
    }
   ],
   "source": [
    "x[1] = 8\n",
    "print(x)"
   ]
  },
  {
   "cell_type": "markdown",
   "id": "8b63e935",
   "metadata": {},
   "source": [
    "- Access **an entire column**"
   ]
  },
  {
   "cell_type": "code",
   "execution_count": 8,
   "id": "7fe2779f",
   "metadata": {},
   "outputs": [
    {
     "data": {
      "text/plain": [
       "array([[ 0,  1],\n",
       "       [ 8,  8],\n",
       "       [ 6,  7],\n",
       "       [ 9, 10]])"
      ]
     },
     "execution_count": 8,
     "metadata": {},
     "output_type": "execute_result"
    }
   ],
   "source": [
    "x[:,0:2]"
   ]
  },
  {
   "cell_type": "markdown",
   "id": "23165cd5",
   "metadata": {},
   "source": [
    "## Understand array slicing\n",
    "\n",
    "- ***Note***: The sliced array is **a VIEW of the original array.**"
   ]
  },
  {
   "cell_type": "markdown",
   "id": "04b338dd",
   "metadata": {},
   "source": [
    "### Slicing with` [SEEES2TEETET]`\n",
    "\n",
    "- Similar to the way of indexing list works\n",
    "- *Notice* that *difference between slicing and direct indexing on specific item*"
   ]
  },
  {
   "cell_type": "code",
   "execution_count": 19,
   "id": "20094331",
   "metadata": {},
   "outputs": [
    {
     "data": {
      "text/plain": [
       "array([[ 0,  1,  2,  3,  4],\n",
       "       [ 5,  6,  7,  8,  9],\n",
       "       [10, 11, 12, 13, 14],\n",
       "       [15, 16, 17, 18, 19]])"
      ]
     },
     "execution_count": 19,
     "metadata": {},
     "output_type": "execute_result"
    }
   ],
   "source": [
    "x = np.arange(0,20).reshape(4,5)\n",
    "x"
   ]
  },
  {
   "cell_type": "code",
   "execution_count": 22,
   "id": "31e05a35",
   "metadata": {},
   "outputs": [
    {
     "data": {
      "text/plain": [
       "array([[ 0,  1,  2,  3,  4],\n",
       "       [10, 11, 12, 13, 14]])"
      ]
     },
     "execution_count": 22,
     "metadata": {},
     "output_type": "execute_result"
    }
   ],
   "source": [
    "x[0:4:2]"
   ]
  },
  {
   "cell_type": "code",
   "execution_count": 23,
   "id": "57e49347",
   "metadata": {},
   "outputs": [
    {
     "data": {
      "text/plain": [
       "array([[ 5,  6,  7,  8,  9],\n",
       "       [10, 11, 12, 13, 14],\n",
       "       [15, 16, 17, 18, 19]])"
      ]
     },
     "execution_count": 23,
     "metadata": {},
     "output_type": "execute_result"
    }
   ],
   "source": [
    "x[-3:]"
   ]
  },
  {
   "cell_type": "code",
   "execution_count": 24,
   "id": "e492fbc6",
   "metadata": {},
   "outputs": [
    {
     "data": {
      "text/plain": [
       "array([[0, 1, 2, 3, 4]])"
      ]
     },
     "execution_count": 24,
     "metadata": {},
     "output_type": "execute_result"
    }
   ],
   "source": [
    "x[:-3]"
   ]
  },
  {
   "cell_type": "markdown",
   "id": "a63769c0",
   "metadata": {},
   "source": [
    "### Slicing 3d array"
   ]
  },
  {
   "cell_type": "code",
   "execution_count": 25,
   "id": "d3422973",
   "metadata": {},
   "outputs": [
    {
     "name": "stdout",
     "output_type": "stream",
     "text": [
      "[[[ 0  1]\n",
      "  [ 2  3]\n",
      "  [ 4  5]]\n",
      "\n",
      " [[ 6  7]\n",
      "  [ 8  9]\n",
      "  [10 11]]]\n"
     ]
    }
   ],
   "source": [
    "x = np.arange(0,12).reshape(2,3,2)\n",
    "print(x)"
   ]
  },
  {
   "cell_type": "code",
   "execution_count": 26,
   "id": "eb01e152",
   "metadata": {},
   "outputs": [
    {
     "data": {
      "text/plain": [
       "array([[0, 1],\n",
       "       [2, 3]])"
      ]
     },
     "execution_count": 26,
     "metadata": {},
     "output_type": "execute_result"
    }
   ],
   "source": [
    "x[0,0:2,]"
   ]
  },
  {
   "cell_type": "markdown",
   "id": "4906f5fa",
   "metadata": {},
   "source": [
    "### Advanced Indexing\n",
    "\n",
    "- Use **Integer Indexing** to select arbitrary items in each dimensions"
   ]
  },
  {
   "cell_type": "code",
   "execution_count": 27,
   "id": "b0a28427",
   "metadata": {},
   "outputs": [
    {
     "data": {
      "text/plain": [
       "array([[ 0,  1,  2,  3,  4],\n",
       "       [ 5,  6,  7,  8,  9],\n",
       "       [10, 11, 12, 13, 14],\n",
       "       [15, 16, 17, 18, 19]])"
      ]
     },
     "execution_count": 27,
     "metadata": {},
     "output_type": "execute_result"
    }
   ],
   "source": [
    "x = np.arange(0,20).reshape(4,5)\n",
    "x"
   ]
  },
  {
   "cell_type": "code",
   "execution_count": 28,
   "id": "24aebe33",
   "metadata": {},
   "outputs": [
    {
     "data": {
      "text/plain": [
       "array([[0, 1, 2, 3, 4],\n",
       "       [5, 6, 7, 8, 9]])"
      ]
     },
     "execution_count": 28,
     "metadata": {},
     "output_type": "execute_result"
    }
   ],
   "source": [
    "x[[0,1]]"
   ]
  },
  {
   "cell_type": "code",
   "execution_count": 29,
   "id": "399e0273",
   "metadata": {},
   "outputs": [
    {
     "data": {
      "text/plain": [
       "array([1, 8])"
      ]
     },
     "execution_count": 29,
     "metadata": {},
     "output_type": "execute_result"
    }
   ],
   "source": [
    "x[[0,1],[1,3]]#row 0,1 / column 1,3 "
   ]
  },
  {
   "cell_type": "code",
   "execution_count": 32,
   "id": "971d29e4",
   "metadata": {},
   "outputs": [
    {
     "data": {
      "text/plain": [
       "array([[ 6, 12],\n",
       "       [16, 17]])"
      ]
     },
     "execution_count": 32,
     "metadata": {},
     "output_type": "execute_result"
    }
   ],
   "source": [
    "x[[[1,2],[3,3]] , [[1,2],[1,2]] ]"
   ]
  },
  {
   "cell_type": "code",
   "execution_count": 35,
   "id": "8efa5029",
   "metadata": {},
   "outputs": [
    {
     "data": {
      "text/plain": [
       "array([[ 6,  7],\n",
       "       [16, 17],\n",
       "       [ 2, 13]])"
      ]
     },
     "execution_count": 35,
     "metadata": {},
     "output_type": "execute_result"
    }
   ],
   "source": [
    "x [[[1,1],[3,3],[0,2]] , [[1,2],[1,2],[2,3]] ]"
   ]
  },
  {
   "cell_type": "markdown",
   "id": "2c715190",
   "metadata": {},
   "source": [
    "- Use **Boolean Indexing** to select arbitrary items in each dimensions\n"
   ]
  },
  {
   "cell_type": "code",
   "execution_count": null,
   "id": "4c7bfe76",
   "metadata": {},
   "outputs": [],
   "source": []
  },
  {
   "cell_type": "markdown",
   "id": "48162885",
   "metadata": {},
   "source": [
    "- Use **Boolean as Masking index** to select specific elements based on certain criteria."
   ]
  },
  {
   "cell_type": "code",
   "execution_count": null,
   "id": "ef2d2200",
   "metadata": {},
   "outputs": [],
   "source": []
  }
 ],
 "metadata": {
  "kernelspec": {
   "display_name": "Python 3 (ipykernel)",
   "language": "python",
   "name": "python3"
  },
  "language_info": {
   "codemirror_mode": {
    "name": "ipython",
    "version": 3
   },
   "file_extension": ".py",
   "mimetype": "text/x-python",
   "name": "python",
   "nbconvert_exporter": "python",
   "pygments_lexer": "ipython3",
   "version": "3.11.3"
  }
 },
 "nbformat": 4,
 "nbformat_minor": 5
}
