{
 "cells": [
  {
   "cell_type": "markdown",
   "id": "1ebf5079",
   "metadata": {},
   "source": [
    "<img src=\"https://sv1.picz.in.th/images/2023/05/26/FojNB1.png\" alt=\"FojNB1.png\" border=\"0\" />"
   ]
  },
  {
   "cell_type": "markdown",
   "id": "3ac420ca",
   "metadata": {},
   "source": [
    "![FojV51.png](https://sv1.picz.in.th/images/2023/05/26/FojV51.png)"
   ]
  },
  {
   "cell_type": "markdown",
   "id": "ab6b50d1",
   "metadata": {},
   "source": [
    "## Use numpy array`()`"
   ]
  },
  {
   "cell_type": "code",
   "execution_count": 2,
   "id": "ecd9bb05",
   "metadata": {},
   "outputs": [
    {
     "name": "stdout",
     "output_type": "stream",
     "text": [
      "[ 1  2  3  4  5  6  7  8  9 10 11 12]\n",
      "(12,)\n"
     ]
    }
   ],
   "source": [
    "import numpy as np\n",
    "x = np.array(range(1,13))\n",
    "print(x)\n",
    "print(x.shape)"
   ]
  },
  {
   "cell_type": "markdown",
   "id": "428a7fbd",
   "metadata": {},
   "source": [
    "- **ndarray.reshape`()`**"
   ]
  },
  {
   "cell_type": "code",
   "execution_count": 3,
   "id": "b3fe5b74",
   "metadata": {},
   "outputs": [
    {
     "name": "stdout",
     "output_type": "stream",
     "text": [
      "[ 1  2  3  4  5  6  7  8  9 10 11 12]\n",
      "[[ 1  2  3  4]\n",
      " [ 5  6  7  8]\n",
      " [ 9 10 11 12]]\n"
     ]
    }
   ],
   "source": [
    "rx = x.reshape(3,4)\n",
    "print (x)\n",
    "print(rx)"
   ]
  },
  {
   "cell_type": "markdown",
   "id": "bea87d64",
   "metadata": {},
   "source": [
    "- **view** vs **copy**"
   ]
  },
  {
   "cell_type": "code",
   "execution_count": 4,
   "id": "eca998cd",
   "metadata": {},
   "outputs": [
    {
     "name": "stdout",
     "output_type": "stream",
     "text": [
      "[100   2   3   4   5   6   7   8   9  10  11  12]\n",
      "[[100   2   3   4]\n",
      " [  5   6   7   8]\n",
      " [  9  10  11  12]]\n"
     ]
    }
   ],
   "source": [
    "x[0] = 100\n",
    "\n",
    "print(x)\n",
    "print(rx)"
   ]
  },
  {
   "cell_type": "code",
   "execution_count": 6,
   "id": "8f83d952",
   "metadata": {},
   "outputs": [
    {
     "data": {
      "text/plain": [
       "array([100,   2,   3,   4,   5,   6,   7,   8,   9,  10,  11,  12])"
      ]
     },
     "execution_count": 6,
     "metadata": {},
     "output_type": "execute_result"
    }
   ],
   "source": [
    "rx.base"
   ]
  },
  {
   "cell_type": "code",
   "execution_count": 7,
   "id": "68d42683",
   "metadata": {},
   "outputs": [
    {
     "name": "stdout",
     "output_type": "stream",
     "text": [
      "[500   2   3   4   5   6   7   8   9  10  11  12]\n",
      "[[100   2   3   4]\n",
      " [  5   6   7   8]\n",
      " [  9  10  11  12]]\n"
     ]
    }
   ],
   "source": [
    "rx = x.reshape(3,4).copy()\n",
    "\n",
    "x[0] = 500\n",
    "print(x)\n",
    "print(rx)"
   ]
  },
  {
   "cell_type": "markdown",
   "id": "e171a255",
   "metadata": {},
   "source": [
    "- **Row-major** vs **Column-major Order**"
   ]
  },
  {
   "cell_type": "code",
   "execution_count": 8,
   "id": "bfecad60",
   "metadata": {},
   "outputs": [
    {
     "name": "stdout",
     "output_type": "stream",
     "text": [
      "[[ 1  2  3  4]\n",
      " [ 5  6  7  8]\n",
      " [ 9 10 11 12]]\n"
     ]
    }
   ],
   "source": [
    "# order = 'C' -> row-major order\n",
    "\n",
    "x = np.array(range(1,13)).reshape(3,4, order='C')\n",
    "print(x)"
   ]
  },
  {
   "cell_type": "code",
   "execution_count": 10,
   "id": "faf31147",
   "metadata": {},
   "outputs": [
    {
     "name": "stdout",
     "output_type": "stream",
     "text": [
      "[[ 1  2  3  4]\n",
      " [ 5  6  7  8]\n",
      " [ 9 10 11 12]]\n"
     ]
    }
   ],
   "source": [
    "# order = 'F' -> column-major order\n",
    "X = np.array(range(1,13)).reshape(3,4, order='F')\n",
    "print (x)"
   ]
  },
  {
   "cell_type": "markdown",
   "id": "bc081408",
   "metadata": {},
   "source": [
    "- Create **2d array** using numpy.array`()`"
   ]
  },
  {
   "cell_type": "code",
   "execution_count": 12,
   "id": "de499b33",
   "metadata": {},
   "outputs": [
    {
     "name": "stdout",
     "output_type": "stream",
     "text": [
      "[[1 2 3]\n",
      " [4 5 6]]\n",
      "(2, 3)\n"
     ]
    }
   ],
   "source": [
    "x = np.array([[1,2,3], [4,5,6]])\n",
    "\n",
    "print(x)\n",
    "print(x. shape)"
   ]
  },
  {
   "cell_type": "markdown",
   "id": "3f57e14e",
   "metadata": {},
   "source": [
    "## Working with Axis"
   ]
  },
  {
   "cell_type": "code",
   "execution_count": 14,
   "id": "1fab60b4",
   "metadata": {},
   "outputs": [
    {
     "data": {
      "text/plain": [
       "array([5, 7, 9])"
      ]
     },
     "execution_count": 14,
     "metadata": {},
     "output_type": "execute_result"
    }
   ],
   "source": [
    "np.sum(x, axis=0)"
   ]
  },
  {
   "cell_type": "code",
   "execution_count": 15,
   "id": "adb9a3b3",
   "metadata": {},
   "outputs": [
    {
     "name": "stdout",
     "output_type": "stream",
     "text": [
      "[[1 2 3]\n",
      " [4 5 6]] \n",
      "\n",
      "np.sum(x, axis=0) = [5 7 9]\n",
      "np.sum(x, axis=1) = [ 6 15]\n"
     ]
    }
   ],
   "source": [
    "print(x, '\\n')\n",
    "print('np.sum(x, axis=0) =', np.sum(x, axis=0))\n",
    "print('np.sum(x, axis=1) =', np.sum(x, axis=1))"
   ]
  },
  {
   "cell_type": "markdown",
   "id": "90494519",
   "metadata": {},
   "source": [
    "- Create **3d array** using numpy.array`()`"
   ]
  },
  {
   "cell_type": "code",
   "execution_count": 19,
   "id": "8478e23f",
   "metadata": {},
   "outputs": [
    {
     "name": "stdout",
     "output_type": "stream",
     "text": [
      "[[[ 1  2  3]\n",
      "  [ 4  5  6]]\n",
      "\n",
      " [[ 7  8  9]\n",
      "  [10 11 12]]]\n",
      "(2, 2, 3)\n"
     ]
    }
   ],
   "source": [
    "x = np.array([ [ [1,2,3], [4,5,6] ], [ [7,8,9], [10,11,12]]])\n",
    "print(x)\n",
    "print(x.shape)"
   ]
  },
  {
   "cell_type": "markdown",
   "id": "2772ff4e",
   "metadata": {},
   "source": [
    "- Create **ndarray of objects**"
   ]
  },
  {
   "cell_type": "code",
   "execution_count": 21,
   "id": "1621ee67",
   "metadata": {},
   "outputs": [
    {
     "ename": "ValueError",
     "evalue": "setting an array element with a sequence. The requested array has an inhomogeneous shape after 1 dimensions. The detected shape was (3,) + inhomogeneous part.",
     "output_type": "error",
     "traceback": [
      "\u001b[1;31m---------------------------------------------------------------------------\u001b[0m",
      "\u001b[1;31mValueError\u001b[0m                                Traceback (most recent call last)",
      "Cell \u001b[1;32mIn[21], line 1\u001b[0m\n\u001b[1;32m----> 1\u001b[0m x \u001b[38;5;241m=\u001b[39m \u001b[43mnp\u001b[49m\u001b[38;5;241;43m.\u001b[39;49m\u001b[43marray\u001b[49m\u001b[43m(\u001b[49m\u001b[43m[\u001b[49m\u001b[43m \u001b[49m\u001b[43m[\u001b[49m\u001b[38;5;241;43m1\u001b[39;49m\u001b[43m,\u001b[49m\u001b[38;5;241;43m2\u001b[39;49m\u001b[43m,\u001b[49m\u001b[38;5;241;43m3\u001b[39;49m\u001b[43m]\u001b[49m\u001b[43m,\u001b[49m\u001b[43m \u001b[49m\u001b[43m[\u001b[49m\u001b[38;5;241;43m4\u001b[39;49m\u001b[43m,\u001b[49m\u001b[38;5;241;43m5\u001b[39;49m\u001b[43m,\u001b[49m\u001b[38;5;241;43m6\u001b[39;49m\u001b[43m]\u001b[49m\u001b[43m,\u001b[49m\u001b[43m \u001b[49m\u001b[43m[\u001b[49m\u001b[38;5;241;43m7\u001b[39;49m\u001b[43m,\u001b[49m\u001b[38;5;241;43m8\u001b[39;49m\u001b[43m]\u001b[49m\u001b[43m \u001b[49m\u001b[43m]\u001b[49m\u001b[43m)\u001b[49m\n",
      "\u001b[1;31mValueError\u001b[0m: setting an array element with a sequence. The requested array has an inhomogeneous shape after 1 dimensions. The detected shape was (3,) + inhomogeneous part."
     ]
    }
   ],
   "source": [
    "x = np.array([ [1,2,3], [4,5,6], [7,8] ])"
   ]
  },
  {
   "cell_type": "code",
   "execution_count": 25,
   "id": "9fc5a84f",
   "metadata": {},
   "outputs": [
    {
     "name": "stdout",
     "output_type": "stream",
     "text": [
      "[list([1, 2, 3]) list([4, 5, 6]) list([7, 8])]\n",
      "(3,)\n",
      "[0] <class 'list'>\n"
     ]
    }
   ],
   "source": [
    "x = np.array([ [1,2,3], [4,5,6], [7,8] ], dtype=object)\n",
    "print(x)\n",
    "print(x.shape)\n",
    "print([0],type(x[0]))"
   ]
  },
  {
   "cell_type": "markdown",
   "id": "bdfa6182",
   "metadata": {},
   "source": [
    "## Use numpy.arange`()`\n",
    "- Create an array using `arange()` based on the specified number range and step."
   ]
  },
  {
   "cell_type": "code",
   "execution_count": 26,
   "id": "32fba715",
   "metadata": {},
   "outputs": [
    {
     "name": "stdout",
     "output_type": "stream",
     "text": [
      "[10. 20. 30. 40. 50. 60. 70. 80.]\n",
      "(8,)\n"
     ]
    }
   ],
   "source": [
    "x = np.arange(10, 90, 10, np.float64)\n",
    "print (x)\n",
    "print(x. shape)"
   ]
  },
  {
   "cell_type": "markdown",
   "id": "e722a589",
   "metadata": {},
   "source": [
    "## Use numpy.empty(), numpy.zeros(), numpy.ones()\n",
    "\n",
    "\t\tnumpy.empty(shape, dtype = float, order = 'C')\n",
    "    \n",
    "- Create an uninitialized array (i.e. created with whatever values in the allocated memory of ndarray)\n"
   ]
  },
  {
   "cell_type": "code",
   "execution_count": 27,
   "id": "b4c21d7d",
   "metadata": {},
   "outputs": [
    {
     "name": "stdout",
     "output_type": "stream",
     "text": [
      "[[-1806859072         615]\n",
      " [-1806859136         615]\n",
      " [-1806945856         615]]\n"
     ]
    }
   ],
   "source": [
    "m = np.empty((3,2), dtype=int)\n",
    "print(m)"
   ]
  },
  {
   "cell_type": "code",
   "execution_count": 28,
   "id": "c0476130",
   "metadata": {},
   "outputs": [
    {
     "name": "stdout",
     "output_type": "stream",
     "text": [
      "[[0 0]\n",
      " [0 0]\n",
      " [0 0]]\n"
     ]
    }
   ],
   "source": [
    "m = np.zeros((3,2), dtype=int)\n",
    "print (m)"
   ]
  },
  {
   "cell_type": "code",
   "execution_count": 30,
   "id": "93dfbc67",
   "metadata": {
    "scrolled": true
   },
   "outputs": [
    {
     "name": "stdout",
     "output_type": "stream",
     "text": [
      "[[1 1]\n",
      " [1 1]\n",
      " [1 1]]\n"
     ]
    }
   ],
   "source": [
    "m = np.ones((3,2), dtype=int)\n",
    "print(m)"
   ]
  }
 ],
 "metadata": {
  "kernelspec": {
   "display_name": "Python 3 (ipykernel)",
   "language": "python",
   "name": "python3"
  },
  "language_info": {
   "codemirror_mode": {
    "name": "ipython",
    "version": 3
   },
   "file_extension": ".py",
   "mimetype": "text/x-python",
   "name": "python",
   "nbconvert_exporter": "python",
   "pygments_lexer": "ipython3",
   "version": "3.11.3"
  }
 },
 "nbformat": 4,
 "nbformat_minor": 5
}
