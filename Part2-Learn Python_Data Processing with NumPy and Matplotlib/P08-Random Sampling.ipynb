{
 "cells": [
  {
   "cell_type": "markdown",
   "id": "96973701",
   "metadata": {},
   "source": [
    "<a href=\"https://www.picz.in.th/image/FANvO8\"><img src=\"https://sv1.picz.in.th/images/2023/05/26/FANvO8.png\" alt=\"population vs sample\" border=\"0\"  width=850 hight=500/></a>"
   ]
  },
  {
   "cell_type": "markdown",
   "id": "5a459fee",
   "metadata": {},
   "source": [
    "<img src=\"https://sv1.picz.in.th/images/2023/05/26/FAB03l.png\" alt=\"population vs sample2\" border=\"0\" width=850 hight=500 />"
   ]
  },
  {
   "cell_type": "markdown",
   "id": "10ec141c",
   "metadata": {},
   "source": [
    "<img src=\"https://sv1.picz.in.th/images/2023/05/26/FABfdQ.png\" alt=\"population vs sample3\" border=\"0\" width=850 hight=500/>"
   ]
  },
  {
   "cell_type": "markdown",
   "id": "2c27783d",
   "metadata": {},
   "source": [
    "## NumPy - Random Sampling"
   ]
  },
  {
   "cell_type": "code",
   "execution_count": 1,
   "id": "a2a74079",
   "metadata": {},
   "outputs": [],
   "source": [
    "import numpy as np\n",
    "from numpy.random import default_rng"
   ]
  },
  {
   "cell_type": "markdown",
   "id": "d14879fc",
   "metadata": {},
   "source": [
    "# Random Number Generator"
   ]
  },
  {
   "cell_type": "markdown",
   "id": "7da3725d",
   "metadata": {},
   "source": [
    "## Recent NumPy Versions\n",
    "\n",
    "- The new approach to generate random numbers in NumPy with better statistical properties.\n"
   ]
  },
  {
   "cell_type": "code",
   "execution_count": 2,
   "id": "ff25f9cd",
   "metadata": {},
   "outputs": [
    {
     "data": {
      "text/plain": [
       "array([0.35741431, 0.26172963, 0.05443541, 0.38580493, 0.09816704])"
      ]
     },
     "execution_count": 2,
     "metadata": {},
     "output_type": "execute_result"
    }
   ],
   "source": [
    "# Create object of default random number generator\n",
    "rng = default_rng()\n",
    "# Random 5 float numbers from 0.0 to 1.0\n",
    "rng.random(5)"
   ]
  },
  {
   "cell_type": "markdown",
   "id": "a0db2091",
   "metadata": {},
   "source": [
    "## Legacy Versions"
   ]
  },
  {
   "cell_type": "code",
   "execution_count": 3,
   "id": "ddf59bea",
   "metadata": {},
   "outputs": [
    {
     "data": {
      "text/plain": [
       "array([0.98676214, 0.92159554, 0.8871501 , 0.52948658, 0.02536325])"
      ]
     },
     "execution_count": 3,
     "metadata": {},
     "output_type": "execute_result"
    }
   ],
   "source": [
    "#Old version\n",
    "from numpy import random\n",
    "\n",
    "random. rand(5) "
   ]
  },
  {
   "cell_type": "markdown",
   "id": "a6ed00c9",
   "metadata": {},
   "source": [
    "## Seed Number\n",
    "\n",
    "- Use to **control the sequence of random state of random number generator**\n"
   ]
  },
  {
   "cell_type": "code",
   "execution_count": 6,
   "id": "8270fcdd",
   "metadata": {},
   "outputs": [
    {
     "data": {
      "text/plain": [
       "array([0.75694783, 0.94138187, 0.59246304, 0.31884171, 0.62607384,\n",
       "       0.03551387, 0.25212696, 0.48501366, 0.30126688, 0.72195094,\n",
       "       0.92989066, 0.90823581, 0.08495856, 0.27036617, 0.97168176,\n",
       "       0.26015007, 0.80052031, 0.79827865, 0.6425692 , 0.66806864,\n",
       "       0.23521315, 0.02190576, 0.12961145, 0.12298406, 0.45408739,\n",
       "       0.47734517, 0.66692504, 0.80072716, 0.42069822, 0.11445225,\n",
       "       0.25617877, 0.48995179, 0.08528271, 0.7167631 , 0.33100379,\n",
       "       0.61018338, 0.59819869, 0.82549985, 0.88627002, 0.85022632,\n",
       "       0.52795471, 0.46057818, 0.02466648, 0.93499413, 0.33640568,\n",
       "       0.13258264, 0.19667242, 0.3612112 , 0.23337686, 0.15231137])"
      ]
     },
     "execution_count": 6,
     "metadata": {},
     "output_type": "execute_result"
    }
   ],
   "source": [
    "# seed = 2021\n",
    "rng = default_rng(2021)\n",
    "\n",
    "rng.random(50)"
   ]
  },
  {
   "cell_type": "code",
   "execution_count": 7,
   "id": "e36557c0",
   "metadata": {},
   "outputs": [
    {
     "data": {
      "text/plain": [
       "array([0.75694783, 0.94138187, 0.59246304, 0.31884171, 0.62607384,\n",
       "       0.03551387, 0.25212696, 0.48501366, 0.30126688, 0.72195094,\n",
       "       0.92989066, 0.90823581, 0.08495856, 0.27036617, 0.97168176,\n",
       "       0.26015007, 0.80052031, 0.79827865, 0.6425692 , 0.66806864,\n",
       "       0.23521315, 0.02190576, 0.12961145, 0.12298406, 0.45408739,\n",
       "       0.47734517, 0.66692504, 0.80072716, 0.42069822, 0.11445225,\n",
       "       0.25617877, 0.48995179, 0.08528271, 0.7167631 , 0.33100379,\n",
       "       0.61018338, 0.59819869, 0.82549985, 0.88627002, 0.85022632,\n",
       "       0.52795471, 0.46057818, 0.02466648, 0.93499413, 0.33640568,\n",
       "       0.13258264, 0.19667242, 0.3612112 , 0.23337686, 0.15231137])"
      ]
     },
     "execution_count": 7,
     "metadata": {},
     "output_type": "execute_result"
    }
   ],
   "source": [
    "# seed = 2021\n",
    "rng = default_rng(2021)\n",
    "\n",
    "rng.random(50)"
   ]
  }
 ],
 "metadata": {
  "kernelspec": {
   "display_name": "Python 3 (ipykernel)",
   "language": "python",
   "name": "python3"
  },
  "language_info": {
   "codemirror_mode": {
    "name": "ipython",
    "version": 3
   },
   "file_extension": ".py",
   "mimetype": "text/x-python",
   "name": "python",
   "nbconvert_exporter": "python",
   "pygments_lexer": "ipython3",
   "version": "3.11.3"
  }
 },
 "nbformat": 4,
 "nbformat_minor": 5
}
