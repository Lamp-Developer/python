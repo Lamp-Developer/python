{
 "cells": [
  {
   "cell_type": "markdown",
   "id": "510a49c4",
   "metadata": {},
   "source": [
    "<img src=\"https://sv1.picz.in.th/images/2023/05/26/FDm19I.png\" alt=\"FDmMft.png\" width=900    hight=500 >"
   ]
  },
  {
   "cell_type": "markdown",
   "id": "b8851552",
   "metadata": {},
   "source": [
    "<img src=\"https://sv1.picz.in.th/images/2023/05/26/FDmMft.png\" alt=\"FDmMft.png\" width=900    hight=500 >"
   ]
  },
  {
   "cell_type": "markdown",
   "id": "82658069",
   "metadata": {},
   "source": [
    "## NumPy - Basic Operations"
   ]
  },
  {
   "cell_type": "code",
   "execution_count": 3,
   "id": "1ee90072",
   "metadata": {},
   "outputs": [],
   "source": [
    "import numpy as np"
   ]
  },
  {
   "cell_type": "markdown",
   "id": "fb1d3f06",
   "metadata": {},
   "source": [
    "### Vectorization and Broadcasting"
   ]
  },
  {
   "cell_type": "markdown",
   "id": "10921c6d",
   "metadata": {},
   "source": [
    "#### NumPy operations on arrays with the same shape"
   ]
  },
  {
   "cell_type": "code",
   "execution_count": 4,
   "id": "5f8a5f62",
   "metadata": {},
   "outputs": [
    {
     "name": "stdout",
     "output_type": "stream",
     "text": [
      "x:\n",
      " [0 1 2 3 4] \n",
      "\n",
      "y:\n",
      " [5 6 7 8 9] \n",
      "\n",
      "[ 5  7  9 11 13]\n"
     ]
    }
   ],
   "source": [
    "#Vectorization\n",
    "x = np.arange(0,5)\n",
    "print('x:\\n', x, '\\n')\n",
    "\n",
    "y = np.arange(5,10)\n",
    "print('y:\\n', y, '\\n')\n",
    "\n",
    "print (x+y)"
   ]
  },
  {
   "cell_type": "code",
   "execution_count": 9,
   "id": "9c93179a",
   "metadata": {},
   "outputs": [
    {
     "name": "stdout",
     "output_type": "stream",
     "text": [
      "x:\n",
      " [0 1 2 3 4] \n",
      "\n",
      "x.shape = (5,)\n",
      "y:\n",
      " [5] \n",
      "\n",
      "y.shape = (1,)\n"
     ]
    }
   ],
   "source": [
    "x = np.arange(0,5)\n",
    "print('x:\\n', x, '\\n')\n",
    "print('x.shape =', x.shape)\n",
    "\n",
    "y = np.arange(5,6)\n",
    "print('y:\\n', y, '\\n')\n",
    "print('y.shape =', y.shape)"
   ]
  },
  {
   "cell_type": "code",
   "execution_count": 10,
   "id": "87d01d9c",
   "metadata": {},
   "outputs": [
    {
     "data": {
      "text/plain": [
       "array([5, 6, 7, 8, 9])"
      ]
     },
     "execution_count": 10,
     "metadata": {},
     "output_type": "execute_result"
    }
   ],
   "source": [
    "x+y"
   ]
  },
  {
   "cell_type": "markdown",
   "id": "4a4a2e32",
   "metadata": {},
   "source": [
    "## NumPy operations on arrays with compatible dimensions\n",
    "\n"
   ]
  },
  {
   "cell_type": "markdown",
   "id": "b8f53892",
   "metadata": {},
   "source": [
    "- with **1-d arrays**"
   ]
  },
  {
   "cell_type": "code",
   "execution_count": 11,
   "id": "90d42311",
   "metadata": {},
   "outputs": [
    {
     "name": "stdout",
     "output_type": "stream",
     "text": [
      "x:\n",
      " [0 1 2 3 4] \n",
      "\n",
      "x.shape = (5,)\n",
      "y:\n",
      " [10] \n",
      "\n",
      "y.shape = (1,)\n",
      "x*y:\n",
      " [ 0 10 20 30 40]\n"
     ]
    }
   ],
   "source": [
    "x = np.arange(0,5)\n",
    "print('x:\\n', x, '\\n')\n",
    "print('x.shape =', x.shape)\n",
    "\n",
    "y = np.array([10])\n",
    "print('y:\\n', y, '\\n')\n",
    "print('y.shape =', y.shape)\n",
    "\n",
    "print('x*y:\\n', x*y)"
   ]
  },
  {
   "cell_type": "markdown",
   "id": "00e987a3",
   "metadata": {},
   "source": [
    "- with **2-d arrays**"
   ]
  },
  {
   "cell_type": "code",
   "execution_count": 16,
   "id": "e2f2050b",
   "metadata": {
    "scrolled": true
   },
   "outputs": [
    {
     "name": "stdout",
     "output_type": "stream",
     "text": [
      "x:\n",
      " [[ 0  1  2  3  4  5]\n",
      " [ 6  7  8  9 10 11]] \n",
      "\n",
      "x.shape = (2, 6)\n",
      "y:\n",
      " [[0 1 2 3 4 5]] \n",
      "\n",
      "y.shape = (1, 6)\n",
      "x*y:\n",
      " [[ 0  1  4  9 16 25]\n",
      " [ 0  7 16 27 40 55]]\n"
     ]
    }
   ],
   "source": [
    "x = np.arange(0,12).reshape(2,6)\n",
    "print('x:\\n', x, '\\n')\n",
    "print('x.shape =', x.shape)\n",
    "\n",
    "y = np.arange(0,6).reshape(1,6)\n",
    "print('y:\\n', y, '\\n')\n",
    "print('y.shape =', y.shape)\n",
    "print('x*y:\\n', x*y)"
   ]
  },
  {
   "cell_type": "markdown",
   "id": "8bdcce34",
   "metadata": {},
   "source": [
    "- with **3-d arrays**"
   ]
  },
  {
   "cell_type": "code",
   "execution_count": 17,
   "id": "6d59404a",
   "metadata": {},
   "outputs": [
    {
     "name": "stdout",
     "output_type": "stream",
     "text": [
      "x:\n",
      " [[[ 0  1  2]\n",
      "  [ 3  4  5]\n",
      "  [ 6  7  8]]\n",
      "\n",
      " [[ 9 10 11]\n",
      "  [12 13 14]\n",
      "  [15 16 17]]] \n",
      "\n",
      "x.shape = (2, 3, 3)\n",
      "y:\n",
      " [[[0]\n",
      "  [1]\n",
      "  [2]]\n",
      "\n",
      " [[3]\n",
      "  [4]\n",
      "  [5]]] \n",
      "\n",
      "y.shape = (2, 3, 1)\n",
      "x*y:\n",
      " [[[ 0  0  0]\n",
      "  [ 3  4  5]\n",
      "  [12 14 16]]\n",
      "\n",
      " [[27 30 33]\n",
      "  [48 52 56]\n",
      "  [75 80 85]]]\n"
     ]
    }
   ],
   "source": [
    "x = np.arange(0,18).reshape(2,3,3)\n",
    "print('x:\\n', x, '\\n')\n",
    "print('x.shape =', x.shape)\n",
    "\n",
    "y = np.arange(0,6).reshape(2,3,1)\n",
    "print('y:\\n', y, '\\n')\n",
    "print('y.shape =', y.shape)\n",
    "print('x*y:\\n', x*y)"
   ]
  },
  {
   "cell_type": "markdown",
   "id": "e6a7bd50",
   "metadata": {},
   "source": [
    "- two arrays with **different number of dimensions**\n"
   ]
  },
  {
   "cell_type": "code",
   "execution_count": 18,
   "id": "94ce8d37",
   "metadata": {},
   "outputs": [
    {
     "name": "stdout",
     "output_type": "stream",
     "text": [
      "x:\n",
      " [[0 1 2]\n",
      " [3 4 5]] \n",
      "\n",
      "x.shape = (2, 3)\n",
      "y:\n",
      " [0 1 2] \n",
      "\n",
      "y.shape = (3,)\n",
      "x*y:\n",
      " [[ 0  1  4]\n",
      " [ 0  4 10]]\n"
     ]
    }
   ],
   "source": [
    "x = np.arange(0,6).reshape(2,3)\n",
    "print('x:\\n', x, '\\n')\n",
    "print('x.shape =', x.shape)\n",
    "\n",
    "y = np.arange(0,3)\n",
    "print('y:\\n', y, '\\n')\n",
    "print('y.shape =', y.shape)\n",
    "print('x*y:\\n', x*y)"
   ]
  }
 ],
 "metadata": {
  "kernelspec": {
   "display_name": "Python 3 (ipykernel)",
   "language": "python",
   "name": "python3"
  },
  "language_info": {
   "codemirror_mode": {
    "name": "ipython",
    "version": 3
   },
   "file_extension": ".py",
   "mimetype": "text/x-python",
   "name": "python",
   "nbconvert_exporter": "python",
   "pygments_lexer": "ipython3",
   "version": "3.11.3"
  }
 },
 "nbformat": 4,
 "nbformat_minor": 5
}
