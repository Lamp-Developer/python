{
 "cells": [
  {
   "cell_type": "markdown",
   "id": "47c72313",
   "metadata": {},
   "source": [
    "## Reshape Array\n"
   ]
  },
  {
   "cell_type": "markdown",
   "id": "694d2e99",
   "metadata": {},
   "source": [
    "### `reshape() `vs `resize()`\n",
    "- Change dimension of the existing array\n"
   ]
  },
  {
   "cell_type": "code",
   "execution_count": 1,
   "id": "1d740791",
   "metadata": {},
   "outputs": [],
   "source": [
    "import numpy as np\n"
   ]
  },
  {
   "cell_type": "code",
   "execution_count": 3,
   "id": "4e7c6cfa",
   "metadata": {},
   "outputs": [
    {
     "data": {
      "text/plain": [
       "array([ 1,  2,  3,  4,  5,  6,  7,  8,  9, 10, 11, 12])"
      ]
     },
     "execution_count": 3,
     "metadata": {},
     "output_type": "execute_result"
    }
   ],
   "source": [
    "x = np.arange(1,13)\n",
    "x"
   ]
  },
  {
   "cell_type": "code",
   "execution_count": 4,
   "id": "ceb4b515",
   "metadata": {},
   "outputs": [
    {
     "name": "stdout",
     "output_type": "stream",
     "text": [
      "[[ 1  2]\n",
      " [ 3  4]\n",
      " [ 5  6]\n",
      " [ 7  8]\n",
      " [ 9 10]\n",
      " [11 12]]\n"
     ]
    }
   ],
   "source": [
    "reshape_x = x.reshape(6,2)\n",
    "print(reshape_x)"
   ]
  },
  {
   "cell_type": "code",
   "execution_count": 5,
   "id": "e6a541b3",
   "metadata": {},
   "outputs": [
    {
     "name": "stdout",
     "output_type": "stream",
     "text": [
      "[[11  2]\n",
      " [ 3  4]\n",
      " [ 5  6]\n",
      " [ 7  8]\n",
      " [ 9 10]\n",
      " [11 12]]\n",
      "[11  2  3  4  5  6  7  8  9 10 11 12]\n"
     ]
    }
   ],
   "source": [
    "reshape_x[0,0] = 11\n",
    "print(reshape_x)\n",
    "print(x)"
   ]
  },
  {
   "cell_type": "code",
   "execution_count": 6,
   "id": "3f1fff5f",
   "metadata": {},
   "outputs": [
    {
     "data": {
      "text/plain": [
       "array([11,  2,  3,  4,  5,  6,  7,  8,  9, 10, 11, 12])"
      ]
     },
     "execution_count": 6,
     "metadata": {},
     "output_type": "execute_result"
    }
   ],
   "source": [
    "reshape_x.base"
   ]
  },
  {
   "cell_type": "code",
   "execution_count": 8,
   "id": "c1cb6a1d",
   "metadata": {},
   "outputs": [
    {
     "data": {
      "text/plain": [
       "True"
      ]
     },
     "execution_count": 8,
     "metadata": {},
     "output_type": "execute_result"
    }
   ],
   "source": [
    "reshape_x.base is x"
   ]
  },
  {
   "cell_type": "markdown",
   "id": "d5039159",
   "metadata": {},
   "source": [
    " **Different from using `resize()`**\n",
    "\n",
    "- `numpy.resize()` returns the new resized ndarray (not view).\n"
   ]
  },
  {
   "cell_type": "code",
   "execution_count": 12,
   "id": "0c1e917e",
   "metadata": {},
   "outputs": [
    {
     "name": "stdout",
     "output_type": "stream",
     "text": [
      "[[11  2]\n",
      " [ 3  4]\n",
      " [ 5  6]\n",
      " [ 7  8]\n",
      " [ 9 10]\n",
      " [11 12]]\n"
     ]
    }
   ],
   "source": [
    "resize_x = np.resize(x, (6,2))\n",
    "print(resize_x)"
   ]
  },
  {
   "cell_type": "code",
   "execution_count": 14,
   "id": "18779b65",
   "metadata": {},
   "outputs": [
    {
     "data": {
      "text/plain": [
       "False"
      ]
     },
     "execution_count": 14,
     "metadata": {},
     "output_type": "execute_result"
    }
   ],
   "source": [
    "resize_x.base is x"
   ]
  },
  {
   "cell_type": "code",
   "execution_count": 15,
   "id": "c813d8e3",
   "metadata": {},
   "outputs": [
    {
     "data": {
      "text/plain": [
       "array([11,  2,  3,  4,  5,  6,  7,  8,  9, 10, 11, 12])"
      ]
     },
     "execution_count": 15,
     "metadata": {},
     "output_type": "execute_result"
    }
   ],
   "source": [
    "resize_x.base"
   ]
  },
  {
   "cell_type": "code",
   "execution_count": 16,
   "id": "c727a8c3",
   "metadata": {},
   "outputs": [
    {
     "name": "stdout",
     "output_type": "stream",
     "text": [
      "True\n",
      "False\n"
     ]
    }
   ],
   "source": [
    "print (reshape_x.base is x)\n",
    "print(resize_x.base is x)"
   ]
  },
  {
   "cell_type": "markdown",
   "id": "39d6dd17",
   "metadata": {},
   "source": [
    "### `flatten()`\n",
    "\n",
    "- Convert n-dimension array to 1-d array\n"
   ]
  },
  {
   "cell_type": "code",
   "execution_count": 17,
   "id": "ac6d8767",
   "metadata": {},
   "outputs": [
    {
     "data": {
      "text/plain": [
       "array([11,  2,  3,  4,  5,  6,  7,  8,  9, 10, 11, 12])"
      ]
     },
     "execution_count": 17,
     "metadata": {},
     "output_type": "execute_result"
    }
   ],
   "source": [
    "resize_x.flatten()"
   ]
  },
  {
   "cell_type": "markdown",
   "id": "49568e0e",
   "metadata": {},
   "source": [
    "###  `transpose()`\n",
    "\n",
    "- Reverse the axes of array"
   ]
  },
  {
   "cell_type": "code",
   "execution_count": 18,
   "id": "ad7a3c31",
   "metadata": {},
   "outputs": [
    {
     "data": {
      "text/plain": [
       "array([[11,  2],\n",
       "       [ 3,  4],\n",
       "       [ 5,  6],\n",
       "       [ 7,  8],\n",
       "       [ 9, 10],\n",
       "       [11, 12]])"
      ]
     },
     "execution_count": 18,
     "metadata": {},
     "output_type": "execute_result"
    }
   ],
   "source": [
    "reshape_x"
   ]
  },
  {
   "cell_type": "code",
   "execution_count": 20,
   "id": "d9df8169",
   "metadata": {},
   "outputs": [
    {
     "data": {
      "text/plain": [
       "array([[11,  3,  5,  7,  9, 11],\n",
       "       [ 2,  4,  6,  8, 10, 12]])"
      ]
     },
     "execution_count": 20,
     "metadata": {},
     "output_type": "execute_result"
    }
   ],
   "source": [
    "reshape_x.transpose()"
   ]
  },
  {
   "cell_type": "code",
   "execution_count": 21,
   "id": "41406d13",
   "metadata": {},
   "outputs": [
    {
     "data": {
      "text/plain": [
       "array([[11,  3,  5,  7,  9, 11],\n",
       "       [ 2,  4,  6,  8, 10, 12]])"
      ]
     },
     "execution_count": 21,
     "metadata": {},
     "output_type": "execute_result"
    }
   ],
   "source": [
    "reshape_x.T"
   ]
  },
  {
   "cell_type": "markdown",
   "id": "8e704993",
   "metadata": {},
   "source": [
    "## Join Array"
   ]
  },
  {
   "cell_type": "markdown",
   "id": "8dc05865",
   "metadata": {},
   "source": [
    "### `concatenate()`\n",
    "- Concatenate **array elements along their corresponding, existing axis.**\n"
   ]
  },
  {
   "cell_type": "code",
   "execution_count": 22,
   "id": "e962b66b",
   "metadata": {},
   "outputs": [
    {
     "name": "stdout",
     "output_type": "stream",
     "text": [
      "x:\n",
      " [[0 1 2]\n",
      " [3 4 5]] \n",
      "\n",
      "y:\n",
      " [[ 6  7  8]\n",
      " [ 9 10 11]] \n",
      "\n",
      "concatenate with axis = 0 \n",
      "\n",
      "[[ 0  1  2]\n",
      " [ 3  4  5]\n",
      " [ 6  7  8]\n",
      " [ 9 10 11]] \n",
      "\n",
      "concatenate with axis = 1 \n",
      "\n",
      "[[ 0  1  2  6  7  8]\n",
      " [ 3  4  5  9 10 11]] \n",
      "\n"
     ]
    }
   ],
   "source": [
    "x = np.arange(0,6).reshape(2,3)\n",
    "print('x:\\n', x, '\\n')\n",
    "y = np.arange(6,12).reshape(2,3)\n",
    "print('y:\\n', y, '\\n')\n",
    "\n",
    "con_ax0 = np.concatenate((x,y))\n",
    "print('concatenate with axis = 0', '\\n')\n",
    "print(con_ax0, '\\n')\n",
    "\n",
    "con_ax1 = np.concatenate((x,y), axis=1)\n",
    "print('concatenate with axis = 1', '\\n')\n",
    "print(con_ax1, '\\n')"
   ]
  },
  {
   "cell_type": "markdown",
   "id": "a832e194",
   "metadata": {},
   "source": [
    "### `stack()`\n",
    "- Stack (not concatenate) arrays **on the specified new axis.**"
   ]
  },
  {
   "cell_type": "code",
   "execution_count": 23,
   "id": "ecebf925",
   "metadata": {},
   "outputs": [
    {
     "name": "stdout",
     "output_type": "stream",
     "text": [
      "x:\n",
      " [[0 1 2]\n",
      " [3 4 5]] \n",
      "\n",
      "x.shape = (2, 3) \n",
      "\n",
      "y:\n",
      " [[ 6  7  8]\n",
      " [ 9 10 11]] \n",
      "\n",
      "y.shape = (2, 3) \n",
      "\n"
     ]
    }
   ],
   "source": [
    "print('x:\\n', x, '\\n')\n",
    "print('x.shape =', x.shape, '\\n')\n",
    "print('y:\\n', y, '\\n')\n",
    "print('y.shape =', y.shape, '\\n')"
   ]
  },
  {
   "cell_type": "code",
   "execution_count": 27,
   "id": "1da34adc",
   "metadata": {},
   "outputs": [
    {
     "name": "stdout",
     "output_type": "stream",
     "text": [
      "stack with axis = 0\n",
      "\n",
      "[[[ 0  1  2]\n",
      "  [ 3  4  5]]\n",
      "\n",
      " [[ 6  7  8]\n",
      "  [ 9 10 11]]]\n",
      "\n",
      "st_ax0.shape = (2, 2, 3) \n",
      "\n",
      "stack with axis = 1\n",
      "\n",
      "[[[ 0  1  2]\n",
      "  [ 6  7  8]]\n",
      "\n",
      " [[ 3  4  5]\n",
      "  [ 9 10 11]]]\n",
      "\n",
      "st_axl.shape = (2, 2, 3) \n",
      "\n"
     ]
    }
   ],
   "source": [
    "st_ax0 = np.stack((x,y))\n",
    "\n",
    "print('stack with axis = 0\\n')\n",
    "print(st_ax0)\n",
    "print('\\nst_ax0.shape =', st_ax0.shape, '\\n')\n",
    "\n",
    "st_ax1 = np.stack((x,y), axis=1)\n",
    "print('stack with axis = 1\\n')\n",
    "print(st_ax1)\n",
    "print('\\nst_axl.shape =', st_ax1.shape, '\\n')"
   ]
  },
  {
   "cell_type": "markdown",
   "id": "015c2cc9",
   "metadata": {},
   "source": [
    "### Add/remove Array Elements"
   ]
  },
  {
   "cell_type": "markdown",
   "id": "e4946589",
   "metadata": {},
   "source": [
    "### **`insert()`**\n",
    "\n",
    "- Insert elements at the specified index."
   ]
  },
  {
   "cell_type": "code",
   "execution_count": 28,
   "id": "129d2bd8",
   "metadata": {},
   "outputs": [
    {
     "data": {
      "text/plain": [
       "array([ 0,  1,  2,  3,  4,  5,  6,  7,  8,  9, 10, 11])"
      ]
     },
     "execution_count": 28,
     "metadata": {},
     "output_type": "execute_result"
    }
   ],
   "source": [
    "x = np.arange(0,12)\n",
    "x"
   ]
  },
  {
   "cell_type": "code",
   "execution_count": 29,
   "id": "711cfaf8",
   "metadata": {},
   "outputs": [
    {
     "data": {
      "text/plain": [
       "array([ 0,  1,  2, 88,  3,  4,  5,  6,  7,  8,  9, 10, 11])"
      ]
     },
     "execution_count": 29,
     "metadata": {},
     "output_type": "execute_result"
    }
   ],
   "source": [
    "np.insert(x, 3, 88)"
   ]
  },
  {
   "cell_type": "markdown",
   "id": "ca7c7ae5",
   "metadata": {},
   "source": [
    "- Insert **without the specified axis --- array will be flatten.**"
   ]
  },
  {
   "cell_type": "code",
   "execution_count": 30,
   "id": "897e2e1c",
   "metadata": {},
   "outputs": [
    {
     "data": {
      "text/plain": [
       "array([[ 0,  1,  2],\n",
       "       [ 3,  4,  5],\n",
       "       [ 6,  7,  8],\n",
       "       [ 9, 10, 11]])"
      ]
     },
     "execution_count": 30,
     "metadata": {},
     "output_type": "execute_result"
    }
   ],
   "source": [
    "rx = x.reshape(4,3)\n",
    "rx"
   ]
  },
  {
   "cell_type": "code",
   "execution_count": 31,
   "id": "d0e2ec3c",
   "metadata": {},
   "outputs": [
    {
     "data": {
      "text/plain": [
       "array([ 0, 88,  1,  2,  3,  4,  5,  6,  7,  8,  9, 10, 11])"
      ]
     },
     "execution_count": 31,
     "metadata": {},
     "output_type": "execute_result"
    }
   ],
   "source": [
    "np.insert(rx, 1, 88)"
   ]
  },
  {
   "cell_type": "code",
   "execution_count": 32,
   "id": "d80af9fd",
   "metadata": {},
   "outputs": [
    {
     "data": {
      "text/plain": [
       "array([[ 0,  1,  2],\n",
       "       [88, 88, 88],\n",
       "       [ 3,  4,  5],\n",
       "       [ 6,  7,  8],\n",
       "       [ 9, 10, 11]])"
      ]
     },
     "execution_count": 32,
     "metadata": {},
     "output_type": "execute_result"
    }
   ],
   "source": [
    "np.insert(rx, 1, 88, axis=0)"
   ]
  },
  {
   "cell_type": "code",
   "execution_count": 33,
   "id": "5b2e3f8f",
   "metadata": {},
   "outputs": [
    {
     "data": {
      "text/plain": [
       "array([[ 0, 88,  1,  2],\n",
       "       [ 3, 88,  4,  5],\n",
       "       [ 6, 88,  7,  8],\n",
       "       [ 9, 88, 10, 11]])"
      ]
     },
     "execution_count": 33,
     "metadata": {},
     "output_type": "execute_result"
    }
   ],
   "source": [
    "np.insert(rx, 1, 88, axis=1)"
   ]
  },
  {
   "cell_type": "markdown",
   "id": "68fc3e89",
   "metadata": {},
   "source": [
    "### **`delete()`**\n",
    "\n",
    "- Delete elements at the spelified index and axis.\n",
    "- Similar to *`insert()`*, the array will be flatted before performing delete if axis is not specified."
   ]
  },
  {
   "cell_type": "code",
   "execution_count": 34,
   "id": "d6fe1993",
   "metadata": {},
   "outputs": [
    {
     "data": {
      "text/plain": [
       "array([ 0,  1,  2,  3,  4,  5,  6,  7,  8,  9, 10, 11])"
      ]
     },
     "execution_count": 34,
     "metadata": {},
     "output_type": "execute_result"
    }
   ],
   "source": [
    "X = np.arange(0,12)\n",
    "x"
   ]
  },
  {
   "cell_type": "code",
   "execution_count": 36,
   "id": "5746e0b4",
   "metadata": {},
   "outputs": [
    {
     "data": {
      "text/plain": [
       "array([ 0,  2,  3,  4,  5,  6,  7,  8,  9, 10, 11])"
      ]
     },
     "execution_count": 36,
     "metadata": {},
     "output_type": "execute_result"
    }
   ],
   "source": [
    "np.delete(x,1)"
   ]
  },
  {
   "cell_type": "code",
   "execution_count": 37,
   "id": "01b756ce",
   "metadata": {},
   "outputs": [
    {
     "data": {
      "text/plain": [
       "array([[ 0,  1,  2],\n",
       "       [ 3,  4,  5],\n",
       "       [ 6,  7,  8],\n",
       "       [ 9, 10, 11]])"
      ]
     },
     "execution_count": 37,
     "metadata": {},
     "output_type": "execute_result"
    }
   ],
   "source": [
    "rx = x.reshape(4,3)\n",
    "rx"
   ]
  },
  {
   "cell_type": "code",
   "execution_count": 38,
   "id": "2da23a02",
   "metadata": {},
   "outputs": [
    {
     "data": {
      "text/plain": [
       "array([[ 0,  1,  2],\n",
       "       [ 6,  7,  8],\n",
       "       [ 9, 10, 11]])"
      ]
     },
     "execution_count": 38,
     "metadata": {},
     "output_type": "execute_result"
    }
   ],
   "source": [
    "np.delete(rx, 1, axis=0)"
   ]
  },
  {
   "cell_type": "code",
   "execution_count": 39,
   "id": "fdee4af2",
   "metadata": {},
   "outputs": [
    {
     "data": {
      "text/plain": [
       "array([[ 0,  2],\n",
       "       [ 3,  5],\n",
       "       [ 6,  8],\n",
       "       [ 9, 11]])"
      ]
     },
     "execution_count": 39,
     "metadata": {},
     "output_type": "execute_result"
    }
   ],
   "source": [
    "np.delete(rx, 1, axis=1)"
   ]
  },
  {
   "cell_type": "code",
   "execution_count": 41,
   "id": "6757b67a",
   "metadata": {},
   "outputs": [
    {
     "data": {
      "text/plain": [
       "array([ 0,  2,  3,  4,  5,  6,  7,  8,  9, 10, 11])"
      ]
     },
     "execution_count": 41,
     "metadata": {},
     "output_type": "execute_result"
    }
   ],
   "source": [
    "np.delete(rx, 1) ## !!!"
   ]
  }
 ],
 "metadata": {
  "kernelspec": {
   "display_name": "Python 3 (ipykernel)",
   "language": "python",
   "name": "python3"
  },
  "language_info": {
   "codemirror_mode": {
    "name": "ipython",
    "version": 3
   },
   "file_extension": ".py",
   "mimetype": "text/x-python",
   "name": "python",
   "nbconvert_exporter": "python",
   "pygments_lexer": "ipython3",
   "version": "3.11.3"
  }
 },
 "nbformat": 4,
 "nbformat_minor": 5
}
