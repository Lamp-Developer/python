{
 "cells": [
  {
   "cell_type": "markdown",
   "id": "96c13897",
   "metadata": {},
   "source": [
    "## Basic Random Numbers"
   ]
  },
  {
   "cell_type": "markdown",
   "id": "96e36f8f",
   "metadata": {},
   "source": [
    "![basic random](https://techvidvan.com/tutorials/wp-content/uploads/sites/2/2020/07/Built-in-functions-for-generating-random-numbers-in-python-Copy.jpg)  "
   ]
  },
  {
   "cell_type": "markdown",
   "id": "6fb1351c",
   "metadata": {},
   "source": [
    "### Random Integer"
   ]
  },
  {
   "cell_type": "code",
   "execution_count": 4,
   "id": "5a78ae45",
   "metadata": {},
   "outputs": [
    {
     "data": {
      "text/plain": [
       "array([ 1, 10,  6,  2, 10], dtype=int64)"
      ]
     },
     "execution_count": 4,
     "metadata": {},
     "output_type": "execute_result"
    }
   ],
   "source": [
    "import numpy as np\n",
    "from numpy.random import default_rng\n",
    "rng = default_rng()\n",
    "\n",
    "rng.integers(low=0, high=10, endpoint=True, size=5)"
   ]
  },
  {
   "cell_type": "markdown",
   "id": "9cc13469",
   "metadata": {},
   "source": [
    "### Random Float Numbers"
   ]
  },
  {
   "cell_type": "markdown",
   "id": "d7697dca",
   "metadata": {},
   "source": [
    "- Random float numbers from [ 0.0, 1.0 ]"
   ]
  },
  {
   "cell_type": "code",
   "execution_count": 5,
   "id": "f6933f7f",
   "metadata": {},
   "outputs": [
    {
     "data": {
      "text/plain": [
       "array([0.93380562, 0.68614467, 0.89215885, 0.15149048, 0.12410956])"
      ]
     },
     "execution_count": 5,
     "metadata": {},
     "output_type": "execute_result"
    }
   ],
   "source": [
    "rng.random(5)"
   ]
  },
  {
   "cell_type": "code",
   "execution_count": 6,
   "id": "e3c02e44",
   "metadata": {},
   "outputs": [
    {
     "data": {
      "text/plain": [
       "array([[0.8528616 , 0.41256962, 0.11040869, 0.37702464, 0.92822548],\n",
       "       [0.88648792, 0.3209996 , 0.916406  , 0.54638705, 0.58786919]])"
      ]
     },
     "execution_count": 6,
     "metadata": {},
     "output_type": "execute_result"
    }
   ],
   "source": [
    "rng. random(10).reshape(2,5)"
   ]
  },
  {
   "cell_type": "markdown",
   "id": "3bf4b261",
   "metadata": {},
   "source": [
    "## Random a sample from a given dataset\n"
   ]
  },
  {
   "cell_type": "markdown",
   "id": "16c9011f",
   "metadata": {},
   "source": [
    "- Random from **1d array dataset**"
   ]
  },
  {
   "cell_type": "code",
   "execution_count": 7,
   "id": "235bd772",
   "metadata": {},
   "outputs": [
    {
     "data": {
      "text/plain": [
       "array([  0,   3,   6,   9,  12,  15,  18,  21,  24,  27,  30,  33,  36,\n",
       "        39,  42,  45,  48,  51,  54,  57,  60,  63,  66,  69,  72,  75,\n",
       "        78,  81,  84,  87,  90,  93,  96,  99, 102, 105, 108, 111, 114,\n",
       "       117, 120, 123, 126, 129, 132, 135, 138, 141, 144, 147])"
      ]
     },
     "execution_count": 7,
     "metadata": {},
     "output_type": "execute_result"
    }
   ],
   "source": [
    "int_ds = np.arange(0,150,3)\n",
    "int_ds"
   ]
  },
  {
   "cell_type": "code",
   "execution_count": 8,
   "id": "fece6dd2",
   "metadata": {},
   "outputs": [
    {
     "data": {
      "text/plain": [
       "array([117,  90,  78,   3, 138, 108,  66, 132,  42,  90])"
      ]
     },
     "execution_count": 8,
     "metadata": {},
     "output_type": "execute_result"
    }
   ],
   "source": [
    "rng.choice(int_ds, size=10)"
   ]
  },
  {
   "cell_type": "code",
   "execution_count": 9,
   "id": "433ebcae",
   "metadata": {},
   "outputs": [
    {
     "data": {
      "text/plain": [
       "array([[147, 123],\n",
       "       [135,  51],\n",
       "       [ 21, 141],\n",
       "       [ 69, 132],\n",
       "       [ 21,  18]])"
      ]
     },
     "execution_count": 9,
     "metadata": {},
     "output_type": "execute_result"
    }
   ],
   "source": [
    "rng.choice(int_ds, size=(5,2))"
   ]
  },
  {
   "cell_type": "markdown",
   "id": "88c7504a",
   "metadata": {},
   "source": [
    "- Random from **2d array dataset**"
   ]
  },
  {
   "cell_type": "code",
   "execution_count": 10,
   "id": "e60334b7",
   "metadata": {},
   "outputs": [
    {
     "data": {
      "text/plain": [
       "array([[  0,   3,   6,   9,  12,  15,  18,  21,  24,  27],\n",
       "       [ 30,  33,  36,  39,  42,  45,  48,  51,  54,  57],\n",
       "       [ 60,  63,  66,  69,  72,  75,  78,  81,  84,  87],\n",
       "       [ 90,  93,  96,  99, 102, 105, 108, 111, 114, 117],\n",
       "       [120, 123, 126, 129, 132, 135, 138, 141, 144, 147]])"
      ]
     },
     "execution_count": 10,
     "metadata": {},
     "output_type": "execute_result"
    }
   ],
   "source": [
    "int_ds2 = int_ds.reshape(5,10)\n",
    "int_ds2"
   ]
  },
  {
   "cell_type": "markdown",
   "id": "45c20dce",
   "metadata": {},
   "source": [
    "- Random along **axis=0 (row), but select all columns of the sampled rows**"
   ]
  },
  {
   "cell_type": "code",
   "execution_count": 11,
   "id": "b1190200",
   "metadata": {},
   "outputs": [
    {
     "name": "stdout",
     "output_type": "stream",
     "text": [
      "[[ 90  93  96  99 102 105 108 111 114 117]\n",
      " [ 30  33  36  39  42  45  48  51  54  57]] \n",
      "\n",
      "x.shape: (2, 10)\n"
     ]
    }
   ],
   "source": [
    "x = rng.choice(int_ds2, size=(2,), axis=0)\n",
    "print(x, '\\n')\n",
    "print('x.shape:', x.shape)"
   ]
  },
  {
   "cell_type": "markdown",
   "id": "1be7670f",
   "metadata": {},
   "source": [
    "- Random along **axis=1 (column), but select all rows of the sampled columns **"
   ]
  },
  {
   "cell_type": "code",
   "execution_count": 13,
   "id": "ec9b3b02",
   "metadata": {},
   "outputs": [
    {
     "name": "stdout",
     "output_type": "stream",
     "text": [
      "[[ 27  24]\n",
      " [ 57  54]\n",
      " [ 87  84]\n",
      " [117 114]\n",
      " [147 144]] \n",
      "\n",
      "x.shape: (5, 2)\n"
     ]
    }
   ],
   "source": [
    "x = rng.choice(int_ds2, size=(2,), axis=1)\n",
    "print(x, '\\n')\n",
    "print('x.shape:', x.shape)"
   ]
  },
  {
   "cell_type": "markdown",
   "id": "ad4b8fcc",
   "metadata": {},
   "source": [
    "## Permutation"
   ]
  },
  {
   "cell_type": "markdown",
   "id": "9ee6b1af",
   "metadata": {},
   "source": [
    "### shuffle method\n",
    "\n",
    "- **Shuffle** the array and update it **in-place** with the shuffled values."
   ]
  },
  {
   "cell_type": "code",
   "execution_count": 18,
   "id": "9dfa0545",
   "metadata": {},
   "outputs": [
    {
     "name": "stdout",
     "output_type": "stream",
     "text": [
      "[0 1 2 3 4 5 6 7 8 9]\n",
      "\n",
      "\n",
      "[1 8 5 3 9 7 6 2 4 0]\n"
     ]
    }
   ],
   "source": [
    "x = np.arange(0,10)\n",
    "print(x)\n",
    "print('\\n')\n",
    "\n",
    "rng = default_rng()\n",
    "rng. shuffle(x)\n",
    "print (x)"
   ]
  },
  {
   "cell_type": "code",
   "execution_count": 21,
   "id": "73aee0cc",
   "metadata": {},
   "outputs": [
    {
     "name": "stdout",
     "output_type": "stream",
     "text": [
      "[[ 0  1  2  3]\n",
      " [ 4  5  6  7]\n",
      " [ 8  9 10 11]] \n",
      "\n",
      "[[ 8  9 10 11]\n",
      " [ 0  1  2  3]\n",
      " [ 4  5  6  7]]\n"
     ]
    }
   ],
   "source": [
    "x = np.arange(0,12).reshape(3,4)\n",
    "print(x, '\\n')\n",
    "\n",
    "rng.shuffle(x, axis=0)\n",
    "print(x)"
   ]
  },
  {
   "cell_type": "code",
   "execution_count": 22,
   "id": "be2fd433",
   "metadata": {},
   "outputs": [
    {
     "name": "stdout",
     "output_type": "stream",
     "text": [
      "[[ 0  1  2  3]\n",
      " [ 4  5  6  7]\n",
      " [ 8  9 10 11]] \n",
      "\n",
      "[[ 0  2  3  1]\n",
      " [ 4  6  7  5]\n",
      " [ 8 10 11  9]]\n"
     ]
    }
   ],
   "source": [
    "x = np.arange(0,12).reshape(3,4)\n",
    "print(x, '\\n')\n",
    "\n",
    "rng.shuffle(x, axis=1)\n",
    "print(x)"
   ]
  },
  {
   "cell_type": "markdown",
   "id": "c9e9b6e3",
   "metadata": {},
   "source": [
    "### permuted method\n",
    "\n",
    "Use **permuted()** method - create a **new shuffled array**"
   ]
  },
  {
   "cell_type": "code",
   "execution_count": 23,
   "id": "ab9aaf9b",
   "metadata": {},
   "outputs": [
    {
     "name": "stdout",
     "output_type": "stream",
     "text": [
      "[0 1 2 3 4 5 6 7 8 9] \n",
      "\n",
      "[0 3 7 9 5 2 4 6 1 8]\n"
     ]
    }
   ],
   "source": [
    "x = np.arange(0,10)\n",
    "print(x, '\\n')\n",
    "\n",
    "pm = rng.permuted(x)\n",
    "print (pm)"
   ]
  },
  {
   "cell_type": "code",
   "execution_count": 24,
   "id": "9cfe7a52",
   "metadata": {},
   "outputs": [
    {
     "data": {
      "text/plain": [
       "False"
      ]
     },
     "execution_count": 24,
     "metadata": {},
     "output_type": "execute_result"
    }
   ],
   "source": [
    "x is pm"
   ]
  }
 ],
 "metadata": {
  "kernelspec": {
   "display_name": "Python 3 (ipykernel)",
   "language": "python",
   "name": "python3"
  },
  "language_info": {
   "codemirror_mode": {
    "name": "ipython",
    "version": 3
   },
   "file_extension": ".py",
   "mimetype": "text/x-python",
   "name": "python",
   "nbconvert_exporter": "python",
   "pygments_lexer": "ipython3",
   "version": "3.11.3"
  }
 },
 "nbformat": 4,
 "nbformat_minor": 5
}
