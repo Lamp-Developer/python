{
 "cells": [
  {
   "cell_type": "markdown",
   "id": "fcfad565",
   "metadata": {},
   "source": [
    " <img src=\"https://sv1.picz.in.th/images/2023/05/23/FqcJX0.png\" width=\"800\" hight=\"400\">"
   ]
  },
  {
   "cell_type": "markdown",
   "id": "d470dfb6",
   "metadata": {},
   "source": [
    " <img src=\"https://sv1.picz.in.th/images/2023/05/23/FqcGER.png\" width=\"800\" hight=\"400\">\n",
    " \n",
    " ### Ref:https://numpy.org/doc/stable/reference/arrays.dtypes.html"
   ]
  },
  {
   "cell_type": "markdown",
   "id": "4e8c4e2f",
   "metadata": {},
   "source": [
    "## Numpy ndarray structuer"
   ]
  },
  {
   "cell_type": "code",
   "execution_count": 1,
   "id": "2c424b7c",
   "metadata": {},
   "outputs": [
    {
     "name": "stdout",
     "output_type": "stream",
     "text": [
      "[10 20 30 40 50 60 70 80]\n",
      "dtype = int32\n",
      "item size = 4\n",
      "item x[0] = 10\n",
      "type of item x[0] = <class 'numpy.int32'>\n"
     ]
    }
   ],
   "source": [
    "import numpy as np\n",
    "x = np.array([10,20,30,40,50,60,70,80])\n",
    "\n",
    "print(x)\n",
    "print('dtype =', x.dtype)\n",
    "print('item size =', x.dtype.itemsize)\n",
    "print('item x[0] =', x[0])\n",
    "print('type of item x[0] =', type(x[0]))"
   ]
  },
  {
   "cell_type": "markdown",
   "id": "50644cad",
   "metadata": {},
   "source": [
    "## Data type object `(dtype)`"
   ]
  },
  {
   "cell_type": "code",
   "execution_count": 2,
   "id": "d51ba4c4",
   "metadata": {},
   "outputs": [
    {
     "name": "stdout",
     "output_type": "stream",
     "text": [
      "[10. 20. 30. 40. 50. 60. 70. 80.]\n",
      "dtype = float64\n",
      "item size = 8\n",
      "item x[0] = 10.0\n",
      "type of item x[0] = <class 'numpy.float64'>\n"
     ]
    }
   ],
   "source": [
    "x = np.array([10,20,30,40,50,60,70,80],np.float64)\n",
    "\n",
    "print(x)\n",
    "print('dtype =', x.dtype)\n",
    "print('item size =', x.dtype.itemsize)\n",
    "print('item x[0] =', x[0])\n",
    "print('type of item x[0] =', type(x[0]))"
   ]
  },
  {
   "cell_type": "code",
   "execution_count": 7,
   "id": "ad29b226",
   "metadata": {},
   "outputs": [
    {
     "name": "stdout",
     "output_type": "stream",
     "text": [
      "[('C100', 'David', 25) ('C200', 'Phil', 30) ('C300', 'Steve', 35)]\n",
      "('C100', 'David', 25)\n",
      "['David' 'Phil' 'Steve']\n",
      "[('C300', 'Steve', 35)]\n"
     ]
    }
   ],
   "source": [
    "# Define customer structure dtype\n",
    "customer_dtype = np.dtype([('cid', np.str_, 10), ('name', str, 30), ('age', np.int8)])\n",
    "\n",
    "# Customer records\n",
    "cust_list = [('C100', 'David', 25), ('C200', 'Phil', 30), ('C300', 'Steve', 35)]\n",
    "\n",
    "# Create customer_dtype ndarray\n",
    "customers = np.array(cust_list, customer_dtype)\n",
    "\n",
    "print (customers)\n",
    "print(customers[0])\n",
    "print(customers['name'])\n",
    "print(customers[customers['age'] > 30])"
   ]
  },
  {
   "cell_type": "code",
   "execution_count": 10,
   "id": "2d0bc00e",
   "metadata": {},
   "outputs": [
    {
     "name": "stdout",
     "output_type": "stream",
     "text": [
      "<class 'numpy.ndarray'>\n"
     ]
    }
   ],
   "source": [
    "#Test code\n",
    "x = np.array([10,20, 30, 40, 50, 60, 70, 80.0])\n",
    "print(type(x))"
   ]
  }
 ],
 "metadata": {
  "kernelspec": {
   "display_name": "Python 3 (ipykernel)",
   "language": "python",
   "name": "python3"
  },
  "language_info": {
   "codemirror_mode": {
    "name": "ipython",
    "version": 3
   },
   "file_extension": ".py",
   "mimetype": "text/x-python",
   "name": "python",
   "nbconvert_exporter": "python",
   "pygments_lexer": "ipython3",
   "version": "3.11.3"
  }
 },
 "nbformat": 4,
 "nbformat_minor": 5
}
