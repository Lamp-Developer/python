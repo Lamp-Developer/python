{
 "cells": [
  {
   "cell_type": "markdown",
   "id": "6d4e4e19",
   "metadata": {},
   "source": [
    "## SET\n",
    "\n",
    "- Sets are another data type in Python, storing **unordered** and **no duplicate** value items.\n"
   ]
  },
  {
   "cell_type": "markdown",
   "id": "baa720f2",
   "metadata": {},
   "source": [
    "### Creating Set\n",
    "\n",
    "- Sets can be created using curly brackets (braces) `{ }` , like dictionaries. Each item is separated by , ;\n",
    "- Sets can be created using `set()` function."
   ]
  },
  {
   "cell_type": "code",
   "execution_count": 1,
   "id": "aebe8a53",
   "metadata": {},
   "outputs": [
    {
     "name": "stdout",
     "output_type": "stream",
     "text": [
      "<class 'set'>\n",
      "{'volleyball', 'basketball', 'soccer', 'softball', 'rugby'}\n"
     ]
    }
   ],
   "source": [
    "# Create a set using curly brackets.\n",
    "sport = {'rugby', 'soccer', 'basketball', 'volleyball', 'softball', 'rugby'}\n",
    "\n",
    "print(type(sport))\n",
    "print (sport)"
   ]
  },
  {
   "cell_type": "code",
   "execution_count": 2,
   "id": "f74d0b81",
   "metadata": {},
   "outputs": [
    {
     "data": {
      "text/plain": [
       "5"
      ]
     },
     "execution_count": 2,
     "metadata": {},
     "output_type": "execute_result"
    }
   ],
   "source": [
    " len(sport)"
   ]
  },
  {
   "cell_type": "code",
   "execution_count": 3,
   "id": "b3bf18df",
   "metadata": {},
   "outputs": [
    {
     "name": "stdout",
     "output_type": "stream",
     "text": [
      "<class 'dict'>\n",
      "{}\n"
     ]
    }
   ],
   "source": [
    "s ={}\n",
    "print(type(s))\n",
    "print(s)"
   ]
  },
  {
   "cell_type": "markdown",
   "id": "5474dcee",
   "metadata": {},
   "source": [
    "- Sets can be created using set() function.\n",
    "\n",
    "\t\ts = set(<iterable object>)"
   ]
  },
  {
   "cell_type": "code",
   "execution_count": 7,
   "id": "fe7af7da",
   "metadata": {},
   "outputs": [
    {
     "name": "stdout",
     "output_type": "stream",
     "text": [
      "set()\n",
      "<class 'set'>\n"
     ]
    }
   ],
   "source": [
    "s = set()\n",
    "\n",
    "print(s)\n",
    "print (type(s) )"
   ]
  },
  {
   "cell_type": "code",
   "execution_count": 8,
   "id": "538258c7",
   "metadata": {},
   "outputs": [
    {
     "name": "stdout",
     "output_type": "stream",
     "text": [
      "{1}\n"
     ]
    }
   ],
   "source": [
    "s = set([1])\n",
    "print(s)"
   ]
  },
  {
   "cell_type": "code",
   "execution_count": 9,
   "id": "8e446478",
   "metadata": {},
   "outputs": [],
   "source": [
    "s = set('abc')"
   ]
  },
  {
   "cell_type": "code",
   "execution_count": 10,
   "id": "50ff5219",
   "metadata": {},
   "outputs": [
    {
     "name": "stdout",
     "output_type": "stream",
     "text": [
      "{'b', 'a', 'c'}\n"
     ]
    }
   ],
   "source": [
    "print(s)"
   ]
  },
  {
   "cell_type": "code",
   "execution_count": 11,
   "id": "a596c669",
   "metadata": {},
   "outputs": [
    {
     "name": "stdout",
     "output_type": "stream",
     "text": [
      "{1, 2}\n"
     ]
    }
   ],
   "source": [
    "s = set({1:'x', 2:'y'})\n",
    "print(s)"
   ]
  },
  {
   "cell_type": "markdown",
   "id": "9e088115",
   "metadata": {},
   "source": [
    "## Set operators\n",
    "\n",
    "![figure: Set operations. ](https://www.learnbyexample.org/wp-content/uploads/python/Python-Set-Operatioons.png)"
   ]
  },
  {
   "cell_type": "code",
   "execution_count": 12,
   "id": "296616bd",
   "metadata": {},
   "outputs": [],
   "source": [
    "dad_sport = {'soccer', 'baseball', 'basketball', 'tennis'}\n",
    "mom_sport = {'basketball', 'volleyball', 'tennis', 'rowing'}\n",
    "kid_sport = {'soccer', 'tennis', 'swimming'}"
   ]
  },
  {
   "cell_type": "markdown",
   "id": "d9c276a2",
   "metadata": {},
   "source": [
    "<img src=\"https://www.shutterstock.com/image-vector/venn-diagram-widely-used-style-260nw-2247152659.jpg\" alt=\"Set union\" style=\"width: 500px;\"/>\n",
    "\n",
    "- Set **union** returns a new set with distinct items from all the given sets.\n",
    "\t\t\n",
    "        1. Using `|` operator.\n",
    "\t\t1. Using `union()` method."
   ]
  },
  {
   "cell_type": "code",
   "execution_count": 13,
   "id": "3cbc7d12",
   "metadata": {},
   "outputs": [
    {
     "data": {
      "text/plain": [
       "{'baseball', 'basketball', 'rowing', 'soccer', 'tennis', 'volleyball'}"
      ]
     },
     "execution_count": 13,
     "metadata": {},
     "output_type": "execute_result"
    }
   ],
   "source": [
    "# Using | operator to union 2 set operands.\n",
    "dad_sport | mom_sport"
   ]
  },
  {
   "cell_type": "code",
   "execution_count": 14,
   "id": "98f37abf",
   "metadata": {},
   "outputs": [
    {
     "data": {
      "text/plain": [
       "{'baseball', 'basketball', 'rowing', 'soccer', 'tennis', 'volleyball'}"
      ]
     },
     "execution_count": 14,
     "metadata": {},
     "output_type": "execute_result"
    }
   ],
   "source": [
    "# Using union() method with iterable object(s) as the argument.\n",
    "dad_sport.union(mom_sport )"
   ]
  },
  {
   "cell_type": "code",
   "execution_count": 15,
   "id": "07fb4cfc",
   "metadata": {},
   "outputs": [
    {
     "data": {
      "text/plain": [
       "{'baseball',\n",
       " 'basketball',\n",
       " 'rowing',\n",
       " 'soccer',\n",
       " 'swimming',\n",
       " 'tennis',\n",
       " 'volleyball'}"
      ]
     },
     "execution_count": 15,
     "metadata": {},
     "output_type": "execute_result"
    }
   ],
   "source": [
    "dad_sport.union(mom_sport, kid_sport)"
   ]
  },
  {
   "cell_type": "markdown",
   "id": "2acecf3c",
   "metadata": {},
   "source": [
    "### Set intersection returns a new set with common items from all the given sets.\n",
    "\n",
    "\t1. Using & operator.\n",
    "\t2. Using intersection() method."
   ]
  },
  {
   "cell_type": "code",
   "execution_count": 16,
   "id": "f69b3661",
   "metadata": {},
   "outputs": [
    {
     "data": {
      "text/plain": [
       "{'basketball', 'tennis'}"
      ]
     },
     "execution_count": 16,
     "metadata": {},
     "output_type": "execute_result"
    }
   ],
   "source": [
    "dad_sport & mom_sport"
   ]
  },
  {
   "cell_type": "code",
   "execution_count": 17,
   "id": "56d00552",
   "metadata": {},
   "outputs": [
    {
     "data": {
      "text/plain": [
       "{'tennis'}"
      ]
     },
     "execution_count": 17,
     "metadata": {},
     "output_type": "execute_result"
    }
   ],
   "source": [
    "dad_sport & mom_sport & kid_sport"
   ]
  },
  {
   "cell_type": "code",
   "execution_count": 18,
   "id": "4717aa65",
   "metadata": {},
   "outputs": [],
   "source": [
    "uncle_sport = {'golf'}"
   ]
  },
  {
   "cell_type": "code",
   "execution_count": 19,
   "id": "1f4fe3da",
   "metadata": {},
   "outputs": [
    {
     "data": {
      "text/plain": [
       "set()"
      ]
     },
     "execution_count": 19,
     "metadata": {},
     "output_type": "execute_result"
    }
   ],
   "source": [
    "dad_sport & mom_sport & kid_sport & uncle_sport"
   ]
  },
  {
   "cell_type": "markdown",
   "id": "17b81475",
   "metadata": {},
   "source": [
    "<img srce=\"https://www.google.com/url?sa=i&url=https%3A%2F%2Fin.pinterest.com%2Fpin%2F800444533746388265%2F&psig=AOvVaw14Hj5uEcnWD-p16a3iSb1r&ust=1684387676980000&source=images&cd=vfe&ved=0CA4QjRxqFwoTCOjeppzP-_4CFQAAAAAdAAAAABAD\" alt=\"Set difference\" style=\"width: 300px;\"/>\n",
    "\n",
    "- Set **difference** returns a new set with all items in the given set but not in the other sets.\n",
    "    1. operator.\n",
    "\t1. Using `difference()` method."
   ]
  },
  {
   "cell_type": "code",
   "execution_count": 20,
   "id": "985839c9",
   "metadata": {},
   "outputs": [
    {
     "data": {
      "text/plain": [
       "{'baseball', 'soccer'}"
      ]
     },
     "execution_count": 20,
     "metadata": {},
     "output_type": "execute_result"
    }
   ],
   "source": [
    "dad_sport - mom_sport"
   ]
  },
  {
   "cell_type": "code",
   "execution_count": 21,
   "id": "4c6cb97e",
   "metadata": {},
   "outputs": [
    {
     "data": {
      "text/plain": [
       "{'swimming'}"
      ]
     },
     "execution_count": 21,
     "metadata": {},
     "output_type": "execute_result"
    }
   ],
   "source": [
    "kid_sport.difference(mom_sport, dad_sport)"
   ]
  },
  {
   "cell_type": "markdown",
   "id": "5eb94701",
   "metadata": {},
   "source": [
    "- Set symmetric differrence returns a new set of all items in either in A or B, but not both.\n",
    "\n",
    "\t\t1.Using * operator.\n",
    "\t\t2.Using symmetric difference() method."
   ]
  },
  {
   "cell_type": "code",
   "execution_count": 22,
   "id": "6c0a6944",
   "metadata": {},
   "outputs": [
    {
     "data": {
      "text/plain": [
       "{'baseball', 'rowing', 'soccer', 'volleyball'}"
      ]
     },
     "execution_count": 22,
     "metadata": {},
     "output_type": "execute_result"
    }
   ],
   "source": [
    "dad_sport ^ mom_sport"
   ]
  },
  {
   "cell_type": "code",
   "execution_count": 23,
   "id": "69bc9fd8",
   "metadata": {},
   "outputs": [
    {
     "data": {
      "text/plain": [
       "{'baseball', 'basketball', 'golf', 'soccer', 'tennis'}"
      ]
     },
     "execution_count": 23,
     "metadata": {},
     "output_type": "execute_result"
    }
   ],
   "source": [
    "dad_sport.symmetric_difference(uncle_sport)"
   ]
  },
  {
   "cell_type": "code",
   "execution_count": 24,
   "id": "2a68a79c",
   "metadata": {},
   "outputs": [
    {
     "data": {
      "text/plain": [
       "{'baseball', 'basketball', 'golf', 'soccer', 'tennis'}"
      ]
     },
     "execution_count": 24,
     "metadata": {},
     "output_type": "execute_result"
    }
   ],
   "source": [
    "dad_sport | uncle_sport"
   ]
  },
  {
   "cell_type": "markdown",
   "id": "e04b215a",
   "metadata": {},
   "source": [
    "## Adding, updating, and deleting items in a set.\n",
    "\n",
    "- Sets are a mutable collection of distinct immutable values that are unordered.\n",
    "\n",
    "- add`(<immutable object>)` method adds a single object to the set"
   ]
  },
  {
   "cell_type": "markdown",
   "id": "7832866e",
   "metadata": {},
   "source": [
    "![figure: Set operations. ](https://cdn.educba.com/academy/wp-content/uploads/2019/11/Python-Sets.png)"
   ]
  },
  {
   "cell_type": "code",
   "execution_count": 25,
   "id": "4361466b",
   "metadata": {},
   "outputs": [],
   "source": [
    "a= {1,2,3}\n",
    "b= {3,4,5}\n",
    "a.add(4)"
   ]
  },
  {
   "cell_type": "code",
   "execution_count": 26,
   "id": "1788657b",
   "metadata": {},
   "outputs": [
    {
     "name": "stdout",
     "output_type": "stream",
     "text": [
      "{1, 2, 3, 4}\n"
     ]
    }
   ],
   "source": [
    "print(a)"
   ]
  },
  {
   "cell_type": "code",
   "execution_count": 27,
   "id": "0752ad2d",
   "metadata": {},
   "outputs": [],
   "source": [
    "a.add(4)"
   ]
  },
  {
   "cell_type": "code",
   "execution_count": 28,
   "id": "f78b6999",
   "metadata": {},
   "outputs": [
    {
     "name": "stdout",
     "output_type": "stream",
     "text": [
      "{1, 2, 3, 4}\n"
     ]
    }
   ],
   "source": [
    "print(a)"
   ]
  },
  {
   "cell_type": "markdown",
   "id": "bb1a5524",
   "metadata": {},
   "source": [
    "- update`(<iterable object>)` method updates the set, adding items from other iterables."
   ]
  },
  {
   "cell_type": "code",
   "execution_count": 29,
   "id": "5e5159d5",
   "metadata": {},
   "outputs": [],
   "source": [
    "a.update(b)"
   ]
  },
  {
   "cell_type": "code",
   "execution_count": 30,
   "id": "40a4cf8d",
   "metadata": {},
   "outputs": [
    {
     "name": "stdout",
     "output_type": "stream",
     "text": [
      "{1, 2, 3, 4, 5}\n"
     ]
    }
   ],
   "source": [
    "print(a)"
   ]
  },
  {
   "cell_type": "code",
   "execution_count": 31,
   "id": "622ff670",
   "metadata": {},
   "outputs": [],
   "source": [
    "a.update([5,6,7], 'xyz')"
   ]
  },
  {
   "cell_type": "code",
   "execution_count": 32,
   "id": "4067b60d",
   "metadata": {},
   "outputs": [
    {
     "name": "stdout",
     "output_type": "stream",
     "text": [
      "{'z', 1, 2, 3, 4, 5, 6, 7, 'y', 'x'}\n"
     ]
    }
   ],
   "source": [
    "print(a)"
   ]
  },
  {
   "cell_type": "code",
   "execution_count": 33,
   "id": "22b43979",
   "metadata": {},
   "outputs": [],
   "source": [
    "a = {1,2,3}"
   ]
  },
  {
   "cell_type": "code",
   "execution_count": 34,
   "id": "fb27a369",
   "metadata": {},
   "outputs": [],
   "source": [
    "b = {3,4,5}"
   ]
  },
  {
   "cell_type": "code",
   "execution_count": 35,
   "id": "fed74d7b",
   "metadata": {},
   "outputs": [
    {
     "name": "stdout",
     "output_type": "stream",
     "text": [
      "{1, 2, 3}\n"
     ]
    }
   ],
   "source": [
    "print(a)"
   ]
  },
  {
   "cell_type": "code",
   "execution_count": 36,
   "id": "7c2045db",
   "metadata": {},
   "outputs": [
    {
     "name": "stdout",
     "output_type": "stream",
     "text": [
      "{3, 4, 5}\n"
     ]
    }
   ],
   "source": [
    "print(b)"
   ]
  },
  {
   "cell_type": "code",
   "execution_count": 37,
   "id": "a2ef9356",
   "metadata": {},
   "outputs": [],
   "source": [
    "a |= b"
   ]
  },
  {
   "cell_type": "code",
   "execution_count": 38,
   "id": "171da6f5",
   "metadata": {},
   "outputs": [
    {
     "name": "stdout",
     "output_type": "stream",
     "text": [
      "{1, 2, 3, 4, 5}\n"
     ]
    }
   ],
   "source": [
    "print(a)"
   ]
  },
  {
   "cell_type": "markdown",
   "id": "26969262",
   "metadata": {},
   "source": [
    "- `remove(<item>)` method removes an item from the set. Errpr is raised if the item is not in the set."
   ]
  },
  {
   "cell_type": "code",
   "execution_count": 39,
   "id": "fbb203b6",
   "metadata": {},
   "outputs": [],
   "source": [
    "a.remove(5)"
   ]
  },
  {
   "cell_type": "code",
   "execution_count": 40,
   "id": "d211d7e5",
   "metadata": {},
   "outputs": [
    {
     "name": "stdout",
     "output_type": "stream",
     "text": [
      "{1, 2, 3, 4}\n"
     ]
    }
   ],
   "source": [
    "print(a)"
   ]
  },
  {
   "cell_type": "code",
   "execution_count": 41,
   "id": "2f1a4c56",
   "metadata": {},
   "outputs": [
    {
     "ename": "KeyError",
     "evalue": "5",
     "output_type": "error",
     "traceback": [
      "\u001b[1;31m---------------------------------------------------------------------------\u001b[0m",
      "\u001b[1;31mKeyError\u001b[0m                                  Traceback (most recent call last)",
      "Cell \u001b[1;32mIn[41], line 1\u001b[0m\n\u001b[1;32m----> 1\u001b[0m \u001b[43ma\u001b[49m\u001b[38;5;241;43m.\u001b[39;49m\u001b[43mremove\u001b[49m\u001b[43m(\u001b[49m\u001b[38;5;241;43m5\u001b[39;49m\u001b[43m)\u001b[49m\n",
      "\u001b[1;31mKeyError\u001b[0m: 5"
     ]
    }
   ],
   "source": [
    "a.remove(5)"
   ]
  },
  {
   "cell_type": "markdown",
   "id": "74470fbc",
   "metadata": {},
   "source": [
    "- `discard(<item>)` method removes from the set. No exception throws if the item is not in the set."
   ]
  },
  {
   "cell_type": "code",
   "execution_count": 42,
   "id": "bd6e0c39",
   "metadata": {},
   "outputs": [],
   "source": [
    "a.discard(4)"
   ]
  },
  {
   "cell_type": "code",
   "execution_count": 43,
   "id": "ada102b1",
   "metadata": {},
   "outputs": [
    {
     "name": "stdout",
     "output_type": "stream",
     "text": [
      "{1, 2, 3}\n"
     ]
    }
   ],
   "source": [
    "print(a)"
   ]
  },
  {
   "cell_type": "code",
   "execution_count": 44,
   "id": "51a52bdb",
   "metadata": {},
   "outputs": [],
   "source": [
    "a.discard(4)"
   ]
  },
  {
   "cell_type": "code",
   "execution_count": 45,
   "id": "5de1a955",
   "metadata": {},
   "outputs": [
    {
     "name": "stdout",
     "output_type": "stream",
     "text": [
      "{1, 2, 3}\n"
     ]
    }
   ],
   "source": [
    "print(a)"
   ]
  },
  {
   "cell_type": "markdown",
   "id": "96e797dc",
   "metadata": {},
   "source": [
    "- `pop()` method deletes and returns a random item from the set. If the set is empty, Error is raised."
   ]
  },
  {
   "cell_type": "code",
   "execution_count": 46,
   "id": "0f854226",
   "metadata": {},
   "outputs": [
    {
     "data": {
      "text/plain": [
       "1"
      ]
     },
     "execution_count": 46,
     "metadata": {},
     "output_type": "execute_result"
    }
   ],
   "source": [
    "a.pop()"
   ]
  },
  {
   "cell_type": "code",
   "execution_count": 47,
   "id": "2518bbc1",
   "metadata": {},
   "outputs": [
    {
     "name": "stdout",
     "output_type": "stream",
     "text": [
      "{2, 3}\n"
     ]
    }
   ],
   "source": [
    "print(a)"
   ]
  },
  {
   "cell_type": "code",
   "execution_count": 48,
   "id": "0bae0089",
   "metadata": {},
   "outputs": [
    {
     "data": {
      "text/plain": [
       "2"
      ]
     },
     "execution_count": 48,
     "metadata": {},
     "output_type": "execute_result"
    }
   ],
   "source": [
    "a.pop()"
   ]
  },
  {
   "cell_type": "code",
   "execution_count": 49,
   "id": "f26bb481",
   "metadata": {},
   "outputs": [
    {
     "name": "stdout",
     "output_type": "stream",
     "text": [
      "{3}\n"
     ]
    }
   ],
   "source": [
    "print(a)"
   ]
  },
  {
   "cell_type": "code",
   "execution_count": 50,
   "id": "5bb71dae",
   "metadata": {},
   "outputs": [
    {
     "data": {
      "text/plain": [
       "3"
      ]
     },
     "execution_count": 50,
     "metadata": {},
     "output_type": "execute_result"
    }
   ],
   "source": [
    "a.pop()"
   ]
  },
  {
   "cell_type": "code",
   "execution_count": 51,
   "id": "1de16d1e",
   "metadata": {},
   "outputs": [
    {
     "name": "stdout",
     "output_type": "stream",
     "text": [
      "set()\n"
     ]
    }
   ],
   "source": [
    "print(a)"
   ]
  },
  {
   "cell_type": "code",
   "execution_count": 52,
   "id": "c5a2ef0f",
   "metadata": {},
   "outputs": [
    {
     "ename": "KeyError",
     "evalue": "'pop from an empty set'",
     "output_type": "error",
     "traceback": [
      "\u001b[1;31m---------------------------------------------------------------------------\u001b[0m",
      "\u001b[1;31mKeyError\u001b[0m                                  Traceback (most recent call last)",
      "Cell \u001b[1;32mIn[52], line 1\u001b[0m\n\u001b[1;32m----> 1\u001b[0m \u001b[43ma\u001b[49m\u001b[38;5;241;43m.\u001b[39;49m\u001b[43mpop\u001b[49m\u001b[43m(\u001b[49m\u001b[43m)\u001b[49m\n",
      "\u001b[1;31mKeyError\u001b[0m: 'pop from an empty set'"
     ]
    }
   ],
   "source": [
    "a.pop()"
   ]
  },
  {
   "cell_type": "markdown",
   "id": "53c5d6d4",
   "metadata": {},
   "source": [
    "- `clear()` method deletes all items from the set."
   ]
  },
  {
   "cell_type": "code",
   "execution_count": 53,
   "id": "01fbc51e",
   "metadata": {},
   "outputs": [
    {
     "name": "stdout",
     "output_type": "stream",
     "text": [
      "{3, 4, 5}\n"
     ]
    }
   ],
   "source": [
    "print(b)"
   ]
  },
  {
   "cell_type": "code",
   "execution_count": 54,
   "id": "b21a3949",
   "metadata": {},
   "outputs": [],
   "source": [
    "b.clear()"
   ]
  },
  {
   "cell_type": "code",
   "execution_count": 55,
   "id": "0bdae6b4",
   "metadata": {},
   "outputs": [
    {
     "name": "stdout",
     "output_type": "stream",
     "text": [
      "set()\n"
     ]
    }
   ],
   "source": [
    "print(b)"
   ]
  },
  {
   "cell_type": "markdown",
   "id": "788f1c11",
   "metadata": {},
   "source": [
    "## Testing on sets"
   ]
  },
  {
   "cell_type": "markdown",
   "id": "ad33e3bb",
   "metadata": {},
   "source": [
    "- Membership testing"
   ]
  },
  {
   "cell_type": "code",
   "execution_count": 56,
   "id": "08674762",
   "metadata": {},
   "outputs": [],
   "source": [
    "a= {1,2,3}\n",
    "b= {3,4,5}"
   ]
  },
  {
   "cell_type": "code",
   "execution_count": 57,
   "id": "d09308e3",
   "metadata": {},
   "outputs": [
    {
     "data": {
      "text/plain": [
       "True"
      ]
     },
     "execution_count": 57,
     "metadata": {},
     "output_type": "execute_result"
    }
   ],
   "source": [
    "3 in a"
   ]
  },
  {
   "cell_type": "code",
   "execution_count": 58,
   "id": "4f829a31",
   "metadata": {},
   "outputs": [
    {
     "data": {
      "text/plain": [
       "False"
      ]
     },
     "execution_count": 58,
     "metadata": {},
     "output_type": "execute_result"
    }
   ],
   "source": [
    "10 in b"
   ]
  },
  {
   "cell_type": "code",
   "execution_count": 59,
   "id": "23c44c72",
   "metadata": {},
   "outputs": [
    {
     "data": {
      "text/plain": [
       "True"
      ]
     },
     "execution_count": 59,
     "metadata": {},
     "output_type": "execute_result"
    }
   ],
   "source": [
    "5 in b"
   ]
  },
  {
   "cell_type": "markdown",
   "id": "d37fa5d8",
   "metadata": {},
   "source": [
    "\tDetermines whether or not two sets have any items in common.\n",
    "\t\t`isdisjoint()` method returns True if both sets have no items in common."
   ]
  },
  {
   "cell_type": "code",
   "execution_count": 60,
   "id": "92d5e6a6",
   "metadata": {},
   "outputs": [
    {
     "data": {
      "text/plain": [
       "False"
      ]
     },
     "execution_count": 60,
     "metadata": {},
     "output_type": "execute_result"
    }
   ],
   "source": [
    "a.isdisjoint(b)"
   ]
  },
  {
   "cell_type": "code",
   "execution_count": 61,
   "id": "3b3f3f2c",
   "metadata": {},
   "outputs": [],
   "source": [
    "a.discard(3)"
   ]
  },
  {
   "cell_type": "code",
   "execution_count": 62,
   "id": "c8f5f721",
   "metadata": {},
   "outputs": [
    {
     "data": {
      "text/plain": [
       "True"
      ]
     },
     "execution_count": 62,
     "metadata": {},
     "output_type": "execute_result"
    }
   ],
   "source": [
    "a.isdisjoint(b)"
   ]
  },
  {
   "cell_type": "markdown",
   "id": "a7e85076",
   "metadata": {},
   "source": [
    "Determin whether one set is a subset of the other.\n",
    "- `sl.issubset(s2)` method returns `True` if `sl` is a subset of `s2`.\n",
    "- `s1 <= s2`"
   ]
  },
  {
   "cell_type": "code",
   "execution_count": 63,
   "id": "8455bf11",
   "metadata": {},
   "outputs": [
    {
     "data": {
      "text/plain": [
       "False"
      ]
     },
     "execution_count": 63,
     "metadata": {},
     "output_type": "execute_result"
    }
   ],
   "source": [
    "a<=b"
   ]
  },
  {
   "cell_type": "code",
   "execution_count": 64,
   "id": "e2c07353",
   "metadata": {},
   "outputs": [],
   "source": [
    "c = {1,2,3}"
   ]
  },
  {
   "cell_type": "code",
   "execution_count": 65,
   "id": "a09177e8",
   "metadata": {},
   "outputs": [
    {
     "data": {
      "text/plain": [
       "True"
      ]
     },
     "execution_count": 65,
     "metadata": {},
     "output_type": "execute_result"
    }
   ],
   "source": [
    "a <= c"
   ]
  },
  {
   "cell_type": "code",
   "execution_count": 66,
   "id": "48f9089b",
   "metadata": {},
   "outputs": [
    {
     "data": {
      "text/plain": [
       "True"
      ]
     },
     "execution_count": 66,
     "metadata": {},
     "output_type": "execute_result"
    }
   ],
   "source": [
    "a <= a"
   ]
  },
  {
   "cell_type": "markdown",
   "id": "ebaf8cc0",
   "metadata": {},
   "source": [
    "Determines whether one set is a proper subset of the other.\n",
    "- `sl <s2>` returns `True` if `s1` is a proper subset of `s2`."
   ]
  },
  {
   "cell_type": "code",
   "execution_count": 67,
   "id": "0cd79f91",
   "metadata": {},
   "outputs": [
    {
     "data": {
      "text/plain": [
       "False"
      ]
     },
     "execution_count": 67,
     "metadata": {},
     "output_type": "execute_result"
    }
   ],
   "source": [
    "a < a"
   ]
  },
  {
   "cell_type": "code",
   "execution_count": 68,
   "id": "ca08976b",
   "metadata": {},
   "outputs": [
    {
     "data": {
      "text/plain": [
       "True"
      ]
     },
     "execution_count": 68,
     "metadata": {},
     "output_type": "execute_result"
    }
   ],
   "source": [
    "a < c"
   ]
  },
  {
   "cell_type": "markdown",
   "id": "ba55cae5",
   "metadata": {},
   "source": [
    "Determiile whether one set is a superset of the other.\n",
    "- `s1.issuperset(s2)` return `True` if `sl` is a superset of `s2`.\n",
    "- `s1 >= s2`"
   ]
  },
  {
   "cell_type": "code",
   "execution_count": 69,
   "id": "e7105e6d",
   "metadata": {},
   "outputs": [
    {
     "data": {
      "text/plain": [
       "True"
      ]
     },
     "execution_count": 69,
     "metadata": {},
     "output_type": "execute_result"
    }
   ],
   "source": [
    "c >= a"
   ]
  },
  {
   "cell_type": "markdown",
   "id": "2d3b761a",
   "metadata": {},
   "source": [
    "Determines whether one set is a proper superset of the other.\n",
    "\n",
    "- s1 > s2"
   ]
  },
  {
   "cell_type": "code",
   "execution_count": 70,
   "id": "9c691db3",
   "metadata": {},
   "outputs": [
    {
     "data": {
      "text/plain": [
       "False"
      ]
     },
     "execution_count": 70,
     "metadata": {},
     "output_type": "execute_result"
    }
   ],
   "source": [
    "c > c"
   ]
  },
  {
   "cell_type": "code",
   "execution_count": 71,
   "id": "2a6fe179",
   "metadata": {},
   "outputs": [
    {
     "data": {
      "text/plain": [
       "True"
      ]
     },
     "execution_count": 71,
     "metadata": {},
     "output_type": "execute_result"
    }
   ],
   "source": [
    "c > a"
   ]
  },
  {
   "cell_type": "markdown",
   "id": "20dcfcba",
   "metadata": {},
   "source": [
    "## Iterating through Set\n",
    "\n",
    "- we can use for loop to iterate through sets."
   ]
  },
  {
   "cell_type": "code",
   "execution_count": 72,
   "id": "15c4ebd4",
   "metadata": {},
   "outputs": [
    {
     "name": "stdout",
     "output_type": "stream",
     "text": [
      "{'soccer', 'baseball', 'basketball', 'tennis'}\n"
     ]
    }
   ],
   "source": [
    "print(dad_sport)"
   ]
  },
  {
   "cell_type": "code",
   "execution_count": 73,
   "id": "7878b1d2",
   "metadata": {},
   "outputs": [
    {
     "name": "stdout",
     "output_type": "stream",
     "text": [
      "soccer\n",
      "baseball\n",
      "basketball\n",
      "tennis\n"
     ]
    }
   ],
   "source": [
    "for i in dad_sport:\n",
    "    print(i)"
   ]
  },
  {
   "cell_type": "code",
   "execution_count": 75,
   "id": "8bce07b1",
   "metadata": {},
   "outputs": [
    {
     "name": "stdout",
     "output_type": "stream",
     "text": [
      "(0, 'soccer')\n",
      "(1, 'baseball')\n",
      "(2, 'basketball')\n",
      "(3, 'tennis')\n"
     ]
    }
   ],
   "source": [
    "for i in enumerate(dad_sport):\n",
    "    print(i)"
   ]
  }
 ],
 "metadata": {
  "kernelspec": {
   "display_name": "Python 3 (ipykernel)",
   "language": "python",
   "name": "python3"
  },
  "language_info": {
   "codemirror_mode": {
    "name": "ipython",
    "version": 3
   },
   "file_extension": ".py",
   "mimetype": "text/x-python",
   "name": "python",
   "nbconvert_exporter": "python",
   "pygments_lexer": "ipython3",
   "version": "3.11.3"
  }
 },
 "nbformat": 4,
 "nbformat_minor": 5
}
