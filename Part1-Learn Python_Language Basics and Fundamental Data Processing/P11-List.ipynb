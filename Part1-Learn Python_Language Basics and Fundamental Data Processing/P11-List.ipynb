{
 "cells": [
  {
   "cell_type": "markdown",
   "id": "6ad62556",
   "metadata": {},
   "source": [
    "# LIST\n",
    "\n",
    "Lists are another data type in Python to store multiple **item** in a single variable.\n",
    "\n",
    "### Creating Lists\n",
    "\n",
    "- Lists can be created using square brackets `[]`."
   ]
  },
  {
   "cell_type": "code",
   "execution_count": 1,
   "id": "578e321d",
   "metadata": {},
   "outputs": [],
   "source": [
    "colors = ['red','blue','green']"
   ]
  },
  {
   "cell_type": "code",
   "execution_count": 2,
   "id": "d9c184a9",
   "metadata": {},
   "outputs": [
    {
     "name": "stdout",
     "output_type": "stream",
     "text": [
      "['red', 'blue', 'green']\n"
     ]
    }
   ],
   "source": [
    "print(colors)"
   ]
  },
  {
   "cell_type": "code",
   "execution_count": 3,
   "id": "9cabe530",
   "metadata": {},
   "outputs": [
    {
     "name": "stdout",
     "output_type": "stream",
     "text": [
      "<class 'list'>\n"
     ]
    }
   ],
   "source": [
    "print(type(colors))"
   ]
  },
  {
   "cell_type": "markdown",
   "id": "76a5aca3",
   "metadata": {},
   "source": [
    "### Items in a list can be *same* or “different* data type. (**Heterogeous**)"
   ]
  },
  {
   "cell_type": "code",
   "execution_count": 4,
   "id": "3a39ddd7",
   "metadata": {},
   "outputs": [
    {
     "name": "stdout",
     "output_type": "stream",
     "text": [
      "['Python Basics', ['D.Amos', 'D.Bader', 'J.Jablonski', 'F.Heisler'], 37.99, True, 50]\n"
     ]
    }
   ],
   "source": [
    "digits = [0,1,2,3,4,5,6,7,8,9]\n",
    "\n",
    "book_info = ['Python Basics', ['D.Amos','D.Bader','J.Jablonski','F.Heisler'], 37.99, True, 50]\n",
    "print(book_info)"
   ]
  },
  {
   "cell_type": "markdown",
   "id": "e786211d",
   "metadata": {},
   "source": [
    "- Python has a built-in function ~len()~ for getting the total number of items in a list.\n",
    "- The maximum size of a python list on a 32 bit system is 536,870,912 elements."
   ]
  },
  {
   "cell_type": "code",
   "execution_count": 5,
   "id": "0fa2cfd1",
   "metadata": {},
   "outputs": [
    {
     "name": "stdout",
     "output_type": "stream",
     "text": [
      "colors length =  3\n",
      "digits length =  10\n",
      "book_info length =  5\n"
     ]
    }
   ],
   "source": [
    "print('colors length = ', len(colors))\n",
    "print('digits length = ', len(digits))\n",
    "print('book_info length = ', len(book_info))"
   ]
  },
  {
   "cell_type": "markdown",
   "id": "629d7ae3",
   "metadata": {},
   "source": [
    "- list can be empty."
   ]
  },
  {
   "cell_type": "code",
   "execution_count": 6,
   "id": "4f081dea",
   "metadata": {},
   "outputs": [
    {
     "name": "stdout",
     "output_type": "stream",
     "text": [
      "[] \n",
      " 0\n"
     ]
    }
   ],
   "source": [
    "a_list = []\n",
    "print(a_list, '\\n', len(a_list))"
   ]
  },
  {
   "cell_type": "markdown",
   "id": "622161f2",
   "metadata": {},
   "source": [
    "- Lists can Joe created using `list()` function."
   ]
  },
  {
   "cell_type": "code",
   "execution_count": 7,
   "id": "43dbb69c",
   "metadata": {},
   "outputs": [
    {
     "name": "stdout",
     "output_type": "stream",
     "text": [
      "[]\n"
     ]
    }
   ],
   "source": [
    "# The list() function creates a list object.\n",
    "list1 = list()\n",
    "print(list1)"
   ]
  },
  {
   "cell_type": "code",
   "execution_count": 8,
   "id": "78cd5193",
   "metadata": {},
   "outputs": [
    {
     "name": "stdout",
     "output_type": "stream",
     "text": [
      "['x', 'y', 'z']\n"
     ]
    }
   ],
   "source": [
    "# parameter = iterable object\n",
    "list2 = list('xyz')\n",
    "print(list2)"
   ]
  },
  {
   "cell_type": "code",
   "execution_count": 9,
   "id": "b3828d32",
   "metadata": {},
   "outputs": [],
   "source": [
    "list3 = list(range(10))"
   ]
  },
  {
   "cell_type": "code",
   "execution_count": 10,
   "id": "c8705310",
   "metadata": {},
   "outputs": [
    {
     "name": "stdout",
     "output_type": "stream",
     "text": [
      "[0, 1, 2, 3, 4, 5, 6, 7, 8, 9]\n"
     ]
    }
   ],
   "source": [
    "print(list3)"
   ]
  },
  {
   "cell_type": "markdown",
   "id": "ed07ef4f",
   "metadata": {},
   "source": [
    "### List items are \"ordered\", addressing by an *index*.\n",
    "\n",
    "- Python uses *zero-based* indexing. The first item has an index `0` , the second item has index `1` and so on.\n",
    "![Figure: List's indexing.](https://www.aipython.in/wp-content/uploads/2020/02/Index_in_python-list.png)\n",
    "Ref: <https://www.aipython.in/python-list-datastructure/>"
   ]
  },
  {
   "cell_type": "code",
   "execution_count": 11,
   "id": "0353b544",
   "metadata": {},
   "outputs": [],
   "source": [
    "a = 10\n",
    "b = 7.5\n",
    "c = 'Hello'\n",
    "d = True\n",
    "\n",
    "colors = ['red','blue','green']\n",
    "#เอาไป run ในเว็บนี้ Ref: http://pythontutor.com/visualize.html"
   ]
  },
  {
   "cell_type": "markdown",
   "id": "53b6aa1d",
   "metadata": {},
   "source": [
    "- To access an item in the list using **index**; we use a square bracket: `[ ]`"
   ]
  },
  {
   "cell_type": "markdown",
   "id": "cee4746f",
   "metadata": {},
   "source": [
    "### Slicing\n",
    "\n",
    "- We can also use **slicing** to access a *range of items* by defining the `start`, `stop`, an\n",
    "`step` parameters."
   ]
  },
  {
   "cell_type": "code",
   "execution_count": 12,
   "id": "184e009d",
   "metadata": {},
   "outputs": [
    {
     "name": "stdout",
     "output_type": "stream",
     "text": [
      "['c', 'd', 'e']\n",
      "cde\n"
     ]
    }
   ],
   "source": [
    "# SYNTAX: list[start:stop:step]\n",
    "# \"start\" refers to the \"start\" position of the slice\n",
    "# \"stop\" refers to the \"end\" position of the slice\n",
    "# \"step\" refers to the \"increment\"\n",
    "\n",
    "letters = 'abcdefghijklmnopqrstuvwxyz'\n",
    "l = list(letters)\n",
    "l_slice = l[2:5:1]\n",
    "s_slice = letters[2:5:1]\n",
    "\n",
    "print(l_slice)\n",
    "print(s_slice)"
   ]
  },
  {
   "cell_type": "code",
   "execution_count": 13,
   "id": "1df16070",
   "metadata": {},
   "outputs": [
    {
     "name": "stdout",
     "output_type": "stream",
     "text": [
      "['c', 'd', 'e']\n"
     ]
    }
   ],
   "source": [
    "# default \"step\" = 1\n",
    "print(l[2:5])"
   ]
  },
  {
   "cell_type": "code",
   "execution_count": 14,
   "id": "80955a56",
   "metadata": {},
   "outputs": [
    {
     "name": "stdout",
     "output_type": "stream",
     "text": [
      "['c', 'e', 'g', 'i']\n"
     ]
    }
   ],
   "source": [
    "# \"step\" allows us to take each nth-element within a start:stop range.\n",
    "print (l[2:10:2])"
   ]
  },
  {
   "cell_type": "code",
   "execution_count": 15,
   "id": "022edb40",
   "metadata": {},
   "outputs": [
    {
     "name": "stdout",
     "output_type": "stream",
     "text": [
      "['a', 'b', 'c', 'd', 'e']\n"
     ]
    }
   ],
   "source": [
    "# deafult “start” = 0\n",
    "print(l[:5])"
   ]
  },
  {
   "cell_type": "code",
   "execution_count": 16,
   "id": "ce30a6f7",
   "metadata": {},
   "outputs": [
    {
     "name": "stdout",
     "output_type": "stream",
     "text": [
      "['u', 'v', 'w', 'x', 'y', 'z']\n"
     ]
    }
   ],
   "source": [
    "# default “stop” = end of the list\n",
    "print(l[20:])"
   ]
  },
  {
   "cell_type": "code",
   "execution_count": 17,
   "id": "99f6c70f",
   "metadata": {},
   "outputs": [
    {
     "name": "stdout",
     "output_type": "stream",
     "text": [
      "['u', 'v', 'w', 'x', 'y']\n"
     ]
    }
   ],
   "source": [
    "# \"start\" & \"stop\" can be negative index\n",
    "print (l[20:-1])"
   ]
  },
  {
   "cell_type": "code",
   "execution_count": 18,
   "id": "859cf7e8",
   "metadata": {},
   "outputs": [
    {
     "name": "stdout",
     "output_type": "stream",
     "text": [
      "['v', 'w', 'x', 'y', 'z']\n"
     ]
    }
   ],
   "source": [
    "print(l[-5:])"
   ]
  },
  {
   "cell_type": "code",
   "execution_count": 19,
   "id": "9c6b8461",
   "metadata": {},
   "outputs": [
    {
     "name": "stdout",
     "output_type": "stream",
     "text": [
      "['a', 'c', 'e', 'g', 'i', 'k', 'm', 'o', 'q', 's', 'u', 'w', 'y']\n"
     ]
    }
   ],
   "source": [
    "# sample of every other items\n",
    "print (l[::2])"
   ]
  },
  {
   "cell_type": "code",
   "execution_count": 20,
   "id": "9cb198f0",
   "metadata": {},
   "outputs": [
    {
     "name": "stdout",
     "output_type": "stream",
     "text": [
      "['z', 'y', 'x', 'w', 'v', 'u', 't', 's', 'r', 'q', 'p', 'o', 'n', 'm', 'l', 'k', 'j', 'i', 'h', 'g', 'f', 'e', 'd', 'c', 'b', 'a']\n"
     ]
    }
   ],
   "source": [
    "# to reverse the order of the list\n",
    "print(l[::-1])"
   ]
  },
  {
   "cell_type": "markdown",
   "id": "b1607077",
   "metadata": {},
   "source": [
    "### Lists are \"mutable\"; its items can be modified.\n",
    "\n",
    "- We can add, update, delete items in a list after it has been created.\n",
    "- To **add** more item(s) to an existing list:\n",
    "\n",
    "\t- `append` adds an item to the end of the list.\n",
    "\t- `extend`adds multiple items to the end of the list.\n",
    "\t- `insert`insert an item at specified index.\n",
    "    - `+` combines lists"
   ]
  },
  {
   "cell_type": "code",
   "execution_count": 21,
   "id": "eed86745",
   "metadata": {},
   "outputs": [
    {
     "name": "stdout",
     "output_type": "stream",
     "text": [
      "['red', 'blue', 'green', 'yellow']\n"
     ]
    }
   ],
   "source": [
    "#Add an item using append()\n",
    "colors.append('yellow')\n",
    "print (colors)"
   ]
  },
  {
   "cell_type": "code",
   "execution_count": 22,
   "id": "1e0e87af",
   "metadata": {},
   "outputs": [
    {
     "name": "stdout",
     "output_type": "stream",
     "text": [
      "['red', 'blue', 'green', 'yellow', 'yellows', 'cyan', 'magenta']\n"
     ]
    }
   ],
   "source": [
    "# Add an iterable object to the list using extend()\n",
    "colors_mixed = ['yellows','cyan','magenta']\n",
    "colors.extend(colors_mixed)\n",
    "print (colors)"
   ]
  },
  {
   "cell_type": "code",
   "execution_count": 23,
   "id": "4cbc04d4",
   "metadata": {},
   "outputs": [
    {
     "name": "stdout",
     "output_type": "stream",
     "text": [
      "['red', 'blue', 'green', 'yellow', 'yellows', 'cyan', 'magenta', 'x', 'y', 'z']\n"
     ]
    }
   ],
   "source": [
    "colors .extend('xyz')\n",
    "print (colors)"
   ]
  },
  {
   "cell_type": "code",
   "execution_count": 24,
   "id": "f8ed9ad6",
   "metadata": {},
   "outputs": [
    {
     "name": "stdout",
     "output_type": "stream",
     "text": [
      "['red', 'pink', 'blue', 'green', 'yellow', 'yellows', 'cyan', 'magenta', 'x', 'y', 'z']\n"
     ]
    }
   ],
   "source": [
    "# Insert an item at specified index using insert()\n",
    "colors.insert(1, 'pink')\n",
    "print (colors)"
   ]
  },
  {
   "cell_type": "code",
   "execution_count": 25,
   "id": "20d2a90a",
   "metadata": {},
   "outputs": [
    {
     "name": "stdout",
     "output_type": "stream",
     "text": [
      "['red', 'green', 'blue', 'yellow', 'cyan', 'magenta']\n"
     ]
    }
   ],
   "source": [
    "# Combine lists using an operator '+'\n",
    "major_colors = ['red','green', 'blue']\n",
    "mixed_colors = ['yellow', 'cyan', 'magenta']\n",
    "\n",
    "colors = major_colors + mixed_colors\n",
    "print (colors)"
   ]
  },
  {
   "cell_type": "code",
   "execution_count": 26,
   "id": "849aeede",
   "metadata": {},
   "outputs": [
    {
     "name": "stdout",
     "output_type": "stream",
     "text": [
      "['red', 'green', 'blue']\n",
      "['yellow', 'cyan', 'magenta']\n"
     ]
    }
   ],
   "source": [
    "print(major_colors)\n",
    "print(mixed_colors)"
   ]
  },
  {
   "cell_type": "markdown",
   "id": "1baf3c32",
   "metadata": {},
   "source": [
    "- To **update** item(s) in a list."
   ]
  },
  {
   "cell_type": "code",
   "execution_count": 27,
   "id": "dff9744f",
   "metadata": {},
   "outputs": [
    {
     "name": "stdout",
     "output_type": "stream",
     "text": [
      "['red', 'grey', 'blue', 'yellow', 'cyan', 'magenta']\n"
     ]
    }
   ],
   "source": [
    "# Update an item in a list\n",
    "colors[1] = 'grey'\n",
    "print(colors)"
   ]
  },
  {
   "cell_type": "code",
   "execution_count": 28,
   "id": "66b4e24f",
   "metadata": {},
   "outputs": [
    {
     "name": "stdout",
     "output_type": "stream",
     "text": [
      "['red', 'brown', 'orange', 'yellow', 'cyan', 'magenta']\n"
     ]
    }
   ],
   "source": [
    "# Update multiple items within a specific range\n",
    "colors[1:3] = ['brown', 'orange' ]\n",
    "print(colors)"
   ]
  },
  {
   "cell_type": "code",
   "execution_count": 29,
   "id": "0361c146",
   "metadata": {},
   "outputs": [
    {
     "name": "stdout",
     "output_type": "stream",
     "text": [
      "['red', 'brown', 'orange', 'yellow', 'cyan', 'magenta']\n"
     ]
    }
   ],
   "source": [
    "# Update multiple items within a specific range\n",
    "colors[1:3] = ['brown', 'orange']\n",
    "print (colors)"
   ]
  },
  {
   "cell_type": "code",
   "execution_count": 30,
   "id": "2c9955ae",
   "metadata": {},
   "outputs": [
    {
     "name": "stdout",
     "output_type": "stream",
     "text": [
      "['red', 'bronze', 'yellow', 'cyan', 'magenta']\n"
     ]
    }
   ],
   "source": [
    "colors[1:3] = ['bronze']\n",
    "print(colors)"
   ]
  },
  {
   "cell_type": "code",
   "execution_count": 31,
   "id": "2aec4936",
   "metadata": {},
   "outputs": [
    {
     "name": "stdout",
     "output_type": "stream",
     "text": [
      "['gold', 'silver', 'red', 'bronze', 'yellow', 'cyan', 'magenta']\n"
     ]
    }
   ],
   "source": [
    "# Insert at the head\n",
    "colors[:0] = ['gold', 'silver']\n",
    "print (colors)"
   ]
  },
  {
   "cell_type": "code",
   "execution_count": 32,
   "id": "9987011a",
   "metadata": {},
   "outputs": [
    {
     "name": "stdout",
     "output_type": "stream",
     "text": [
      "['gold', 'silver', 'red', 'bronze', 'yellow', 'cyan', 'magenta', 'navy', 'white']\n"
     ]
    }
   ],
   "source": [
    "# Insert at the tail\n",
    "colors[len(colors):] = ['navy','white']\n",
    "print(colors)"
   ]
  },
  {
   "cell_type": "markdown",
   "id": "7cac854e",
   "metadata": {},
   "source": [
    "* To delete item(s) from a list.\n",
    "- `remove()` removes an item by value.\n",
    "- `pop()` removes an item by index and get its value.\n",
    "- `del` removes items by index or slice.\n",
    "- `clear()` removes all items."
   ]
  },
  {
   "cell_type": "code",
   "execution_count": 33,
   "id": "2477fdfc",
   "metadata": {},
   "outputs": [
    {
     "ename": "ValueError",
     "evalue": "list.remove(x): x not in list",
     "output_type": "error",
     "traceback": [
      "\u001b[1;31m---------------------------------------------------------------------------\u001b[0m",
      "\u001b[1;31mValueError\u001b[0m                                Traceback (most recent call last)",
      "Cell \u001b[1;32mIn[33], line 2\u001b[0m\n\u001b[0;32m      1\u001b[0m \u001b[38;5;66;03m# Remove the specified item by value using ‘remove()'\u001b[39;00m\n\u001b[1;32m----> 2\u001b[0m \u001b[43mcolors\u001b[49m\u001b[38;5;241;43m.\u001b[39;49m\u001b[43mremove\u001b[49m\u001b[43m(\u001b[49m\u001b[38;5;124;43m'\u001b[39;49m\u001b[38;5;124;43mpurple\u001b[39;49m\u001b[38;5;124;43m'\u001b[39;49m\u001b[43m)\u001b[49m\n\u001b[0;32m      3\u001b[0m \u001b[38;5;28mprint\u001b[39m(colors)\u001b[38;5;66;03m#ไม่มีม่วง\u001b[39;00m\n",
      "\u001b[1;31mValueError\u001b[0m: list.remove(x): x not in list"
     ]
    }
   ],
   "source": [
    "# Remove the specified item by value using ‘remove()'\n",
    "colors.remove('purple')\n",
    "print(colors)#ไม่มีม่วง"
   ]
  },
  {
   "cell_type": "code",
   "execution_count": 34,
   "id": "54d76225",
   "metadata": {},
   "outputs": [
    {
     "name": "stdout",
     "output_type": "stream",
     "text": [
      "['gold', 'silver', 'bronze', 'yellow', 'cyan', 'magenta', 'navy', 'white']\n"
     ]
    }
   ],
   "source": [
    "# Remove the specified item by index using `pop()'\n",
    "colors.pop(2)\n",
    "print (colors)"
   ]
  },
  {
   "cell_type": "code",
   "execution_count": 35,
   "id": "04421df3",
   "metadata": {},
   "outputs": [
    {
     "name": "stdout",
     "output_type": "stream",
     "text": [
      "['gold', 'silver', 'bronze', 'yellow', 'cyan', 'magenta', 'navy']\n"
     ]
    }
   ],
   "source": [
    "# Remove the last item:\n",
    "colors.pop()\n",
    "print (colors)"
   ]
  },
  {
   "cell_type": "code",
   "execution_count": 36,
   "id": "60b5d160",
   "metadata": {},
   "outputs": [
    {
     "name": "stdout",
     "output_type": "stream",
     "text": [
      "navy\n",
      "['gold', 'silver', 'bronze', 'yellow', 'cyan', 'magenta']\n"
     ]
    }
   ],
   "source": [
    "#Get pop() return value\n",
    "c  = colors.pop()\n",
    "print(c)\n",
    "print (colors)"
   ]
  },
  {
   "cell_type": "code",
   "execution_count": 37,
   "id": "e3eb8f3a",
   "metadata": {},
   "outputs": [
    {
     "name": "stdout",
     "output_type": "stream",
     "text": [
      "['silver', 'bronze', 'yellow', 'cyan', 'magenta']\n"
     ]
    }
   ],
   "source": [
    "# Delete the specified item by index using ‘del’ function\n",
    "del colors[0]\n",
    "print(colors)"
   ]
  },
  {
   "cell_type": "code",
   "execution_count": 38,
   "id": "f1ba9f5a",
   "metadata": {},
   "outputs": [
    {
     "name": "stdout",
     "output_type": "stream",
     "text": [
      "['yellow', 'cyan', 'magenta']\n"
     ]
    }
   ],
   "source": [
    "# Delete the specified items using slicing\n",
    "del colors[:2]\n",
    "print(colors)"
   ]
  },
  {
   "cell_type": "code",
   "execution_count": 39,
   "id": "7a30e10d",
   "metadata": {},
   "outputs": [
    {
     "ename": "NameError",
     "evalue": "name 'colors' is not defined",
     "output_type": "error",
     "traceback": [
      "\u001b[1;31m---------------------------------------------------------------------------\u001b[0m",
      "\u001b[1;31mNameError\u001b[0m                                 Traceback (most recent call last)",
      "Cell \u001b[1;32mIn[39], line 3\u001b[0m\n\u001b[0;32m      1\u001b[0m \u001b[38;5;66;03m# Delete completely\u001b[39;00m\n\u001b[0;32m      2\u001b[0m \u001b[38;5;28;01mdel\u001b[39;00m colors\n\u001b[1;32m----> 3\u001b[0m \u001b[38;5;28mprint\u001b[39m(\u001b[43mcolors\u001b[49m)\n",
      "\u001b[1;31mNameError\u001b[0m: name 'colors' is not defined"
     ]
    }
   ],
   "source": [
    "# Delete completely\n",
    "del colors\n",
    "print(colors)"
   ]
  },
  {
   "cell_type": "code",
   "execution_count": 40,
   "id": "5d5f342d",
   "metadata": {},
   "outputs": [
    {
     "name": "stdout",
     "output_type": "stream",
     "text": [
      "['red', 'green', 'blue', 'black']\n"
     ]
    }
   ],
   "source": [
    "# Empty the list using ‘clear()'\n",
    "colors = ['red', 'green', 'blue', 'black']\n",
    "print (colors)"
   ]
  },
  {
   "cell_type": "code",
   "execution_count": 41,
   "id": "44d1c416",
   "metadata": {},
   "outputs": [
    {
     "name": "stdout",
     "output_type": "stream",
     "text": [
      "[]\n"
     ]
    }
   ],
   "source": [
    "colors.clear()\n",
    "print (colors)"
   ]
  },
  {
   "cell_type": "markdown",
   "id": "b3ed4820",
   "metadata": {},
   "source": [
    "### Lists are \"iterable\" objects.\n",
    "\n",
    "- We can **iterate** through list."
   ]
  },
  {
   "cell_type": "code",
   "execution_count": 42,
   "id": "13507a54",
   "metadata": {},
   "outputs": [],
   "source": [
    "planets = ['Mercury', 'Venus','Earth', 'Mars', 'Jupiter', 'Saturn', 'Uranus', 'Neptune' ]"
   ]
  },
  {
   "cell_type": "code",
   "execution_count": 43,
   "id": "7ceb376c",
   "metadata": {},
   "outputs": [
    {
     "name": "stdout",
     "output_type": "stream",
     "text": [
      "Mercury\n",
      "Venus\n",
      "Earth\n",
      "Mars\n",
      "Jupiter\n",
      "Saturn\n",
      "Uranus\n",
      "Neptune\n"
     ]
    }
   ],
   "source": [
    "# use for loop\n",
    "for i in planets:\n",
    "\tprint(i)"
   ]
  },
  {
   "cell_type": "code",
   "execution_count": 45,
   "id": "3e740c13",
   "metadata": {},
   "outputs": [
    {
     "name": "stdout",
     "output_type": "stream",
     "text": [
      "Mercury\n",
      "Venus\n",
      "Earth\n",
      "Mars\n",
      "Jupiter\n",
      "Saturn\n",
      "Uranus\n",
      "Neptune\n"
     ]
    }
   ],
   "source": [
    "# use while loop\n",
    "i = 0;\n",
    "while i < len(planets):\n",
    "    print(planets[i])\n",
    "    i+=1"
   ]
  },
  {
   "cell_type": "code",
   "execution_count": 46,
   "id": "73ce020f",
   "metadata": {},
   "outputs": [
    {
     "name": "stdout",
     "output_type": "stream",
     "text": [
      "0 Mercury\n",
      "1 Venus\n",
      "2 Earth\n",
      "3 Mars\n",
      "4 Jupiter\n",
      "5 Saturn\n",
      "6 Uranus\n",
      "7 Neptune\n"
     ]
    }
   ],
   "source": [
    "# loop using enumerate()\n",
    "for i,v in enumerate(planets):\n",
    "\tprint(i,v)"
   ]
  },
  {
   "cell_type": "code",
   "execution_count": 47,
   "id": "db4ce969",
   "metadata": {},
   "outputs": [
    {
     "name": "stdout",
     "output_type": "stream",
     "text": [
      "Mercury\n",
      "Venus\n",
      "Earth\n",
      "Mars\n",
      "Jupiter\n",
      "Saturn\n",
      "Uranus\n",
      "Neptune\n"
     ]
    },
    {
     "data": {
      "text/plain": [
       "[None, None, None, None, None, None, None, None]"
      ]
     },
     "execution_count": 47,
     "metadata": {},
     "output_type": "execute_result"
    }
   ],
   "source": [
    "# use list comprehension\n",
    "[print(x) for x in planets]"
   ]
  },
  {
   "cell_type": "markdown",
   "id": "73371d2d",
   "metadata": {},
   "source": [
    "### Cloning or copying a list.\n",
    "\n",
    "- using *slicing*\n",
    "- using `list()` function\n",
    "- using `copy()` meth"
   ]
  },
  {
   "cell_type": "code",
   "execution_count": 48,
   "id": "a53b1c74",
   "metadata": {},
   "outputs": [],
   "source": [
    "l = [1,2,3]"
   ]
  },
  {
   "cell_type": "code",
   "execution_count": 50,
   "id": "4bacce6f",
   "metadata": {},
   "outputs": [
    {
     "name": "stdout",
     "output_type": "stream",
     "text": [
      "[1, 2, 3]\n"
     ]
    }
   ],
   "source": [
    "# use '=' assignment statement\n",
    "m=l\n",
    "print(m)"
   ]
  },
  {
   "cell_type": "code",
   "execution_count": 52,
   "id": "cadece65",
   "metadata": {},
   "outputs": [
    {
     "name": "stdout",
     "output_type": "stream",
     "text": [
      "[1, 2, 3]\n"
     ]
    }
   ],
   "source": [
    "# use slicing\n",
    "n= l[:]\n",
    "print(n)"
   ]
  },
  {
   "cell_type": "code",
   "execution_count": 53,
   "id": "be26830a",
   "metadata": {},
   "outputs": [
    {
     "name": "stdout",
     "output_type": "stream",
     "text": [
      "[1, 2, 3]\n"
     ]
    }
   ],
   "source": [
    "# use list() function\n",
    "o = list(l)\n",
    "print(o)"
   ]
  },
  {
   "cell_type": "code",
   "execution_count": 54,
   "id": "bda01b96",
   "metadata": {},
   "outputs": [
    {
     "name": "stdout",
     "output_type": "stream",
     "text": [
      "[1, 2, 3]\n"
     ]
    }
   ],
   "source": [
    "# use copy() method\n",
    "p = l.copy()\n",
    "print (p)"
   ]
  },
  {
   "cell_type": "markdown",
   "id": "1b210871",
   "metadata": {},
   "source": [
    "### Finding item(s) in a List."
   ]
  },
  {
   "cell_type": "code",
   "execution_count": 55,
   "id": "2fb54b31",
   "metadata": {},
   "outputs": [],
   "source": [
    "friends = ['Cad','Be','Pui','Am','Tua','Ead','Pui']"
   ]
  },
  {
   "cell_type": "code",
   "execution_count": 56,
   "id": "d621304e",
   "metadata": {},
   "outputs": [
    {
     "data": {
      "text/plain": [
       "2"
      ]
     },
     "execution_count": 56,
     "metadata": {},
     "output_type": "execute_result"
    }
   ],
   "source": [
    "# Find the position of a given item in a list using ‘index()' method.\n",
    "friends.index('Pui') # return the index of the first occurrence"
   ]
  },
  {
   "cell_type": "code",
   "execution_count": 57,
   "id": "70603b77",
   "metadata": {},
   "outputs": [
    {
     "data": {
      "text/plain": [
       "6"
      ]
     },
     "execution_count": 57,
     "metadata": {},
     "output_type": "execute_result"
    }
   ],
   "source": [
    "friends.index('Pui', 3) # starting index is giver"
   ]
  },
  {
   "cell_type": "code",
   "execution_count": 58,
   "id": "16d8d998",
   "metadata": {},
   "outputs": [
    {
     "data": {
      "text/plain": [
       "2"
      ]
     },
     "execution_count": 58,
     "metadata": {},
     "output_type": "execute_result"
    }
   ],
   "source": [
    "friends.index('Pui', 2,5)"
   ]
  },
  {
   "cell_type": "code",
   "execution_count": 59,
   "id": "d94106ac",
   "metadata": {},
   "outputs": [
    {
     "name": "stdout",
     "output_type": "stream",
     "text": [
      "Yes, she is in the position# 2 of the list.\n"
     ]
    }
   ],
   "source": [
    "# Check if an item exists in a list\n",
    "if 'Pui' in friends:\n",
    "    print('Yes, she is in the position#', friends.index('Pui'), 'of the list.')"
   ]
  },
  {
   "cell_type": "code",
   "execution_count": 60,
   "id": "ca1c014a",
   "metadata": {},
   "outputs": [
    {
     "data": {
      "text/plain": [
       "2"
      ]
     },
     "execution_count": 60,
     "metadata": {},
     "output_type": "execute_result"
    }
   ],
   "source": [
    "# Count the number of occurence for a given item in a list using ‘count()' method.\n",
    "friends.count('Pui')"
   ]
  },
  {
   "cell_type": "code",
   "execution_count": 61,
   "id": "09cd81bc",
   "metadata": {},
   "outputs": [
    {
     "data": {
      "text/plain": [
       "0"
      ]
     },
     "execution_count": 61,
     "metadata": {},
     "output_type": "execute_result"
    }
   ],
   "source": [
    "friends.count ('Pinky')"
   ]
  },
  {
   "cell_type": "markdown",
   "id": "5a194ecd",
   "metadata": {},
   "source": [
    "### Reversing the List."
   ]
  },
  {
   "cell_type": "markdown",
   "id": "496b1cbd",
   "metadata": {},
   "source": [
    "- Reverse the items in a liat using `reverse()` method."
   ]
  },
  {
   "cell_type": "code",
   "execution_count": 62,
   "id": "99cfbb2c",
   "metadata": {},
   "outputs": [
    {
     "name": "stdout",
     "output_type": "stream",
     "text": [
      "['Mercury', 'Venus', 'Earth', 'Mars', 'Jupiter', 'Saturn', 'Uranus', 'Neptune']\n"
     ]
    }
   ],
   "source": [
    "print(planets)"
   ]
  },
  {
   "cell_type": "code",
   "execution_count": 66,
   "id": "5142792a",
   "metadata": {},
   "outputs": [],
   "source": [
    "planets.reverse()"
   ]
  },
  {
   "cell_type": "code",
   "execution_count": 65,
   "id": "1cfe6451",
   "metadata": {},
   "outputs": [
    {
     "name": "stdout",
     "output_type": "stream",
     "text": [
      "['Neptune', 'Uranus', 'Saturn', 'Jupiter', 'Mars', 'Earth', 'Venus', 'Mercury']\n"
     ]
    }
   ],
   "source": [
    "print(planets)"
   ]
  },
  {
   "cell_type": "code",
   "execution_count": 67,
   "id": "701df1f8",
   "metadata": {},
   "outputs": [
    {
     "name": "stdout",
     "output_type": "stream",
     "text": [
      "['Neptune', 'Uranus', 'Saturn', 'Jupiter', 'Mars', 'Earth', 'Venus', 'Mercury']\n"
     ]
    }
   ],
   "source": [
    "print (planets[::-1])"
   ]
  },
  {
   "cell_type": "markdown",
   "id": "cef34d5b",
   "metadata": {},
   "source": [
    "### More on Lists"
   ]
  },
  {
   "cell_type": "markdown",
   "id": "1ecec235",
   "metadata": {},
   "source": [
    "- https://docs.python.org/3/tutorial/datastructures.html#more-on-lists\n",
    "- https://www.pythonprogramming.in/list.htm!"
   ]
  },
  {
   "cell_type": "markdown",
   "id": "7e092084",
   "metadata": {},
   "source": [
    "The end :)"
   ]
  }
 ],
 "metadata": {
  "kernelspec": {
   "display_name": "Python 3 (ipykernel)",
   "language": "python",
   "name": "python3"
  },
  "language_info": {
   "codemirror_mode": {
    "name": "ipython",
    "version": 3
   },
   "file_extension": ".py",
   "mimetype": "text/x-python",
   "name": "python",
   "nbconvert_exporter": "python",
   "pygments_lexer": "ipython3",
   "version": "3.11.3"
  }
 },
 "nbformat": 4,
 "nbformat_minor": 5
}
