{
 "cells": [
  {
   "cell_type": "markdown",
   "id": "77064ba7",
   "metadata": {},
   "source": [
    "## Built-in Function Examples\n",
    "\n",
    "### abs()"
   ]
  },
  {
   "cell_type": "code",
   "execution_count": 1,
   "id": "3976b84a",
   "metadata": {},
   "outputs": [
    {
     "name": "stdout",
     "output_type": "stream",
     "text": [
      "5\n",
      "5\n"
     ]
    }
   ],
   "source": [
    "print(abs(5))\n",
    "print(abs(-5))"
   ]
  },
  {
   "cell_type": "code",
   "execution_count": 2,
   "id": "37a3e480",
   "metadata": {},
   "outputs": [
    {
     "name": "stdout",
     "output_type": "stream",
     "text": [
      "5.0\n",
      "5.0\n"
     ]
    }
   ],
   "source": [
    "print(abs(5.0))\n",
    "print(abs(-5.0))"
   ]
  },
  {
   "cell_type": "code",
   "execution_count": 3,
   "id": "6235978a",
   "metadata": {},
   "outputs": [
    {
     "name": "stdout",
     "output_type": "stream",
     "text": [
      "2.23606797749979\n",
      "5.0\n"
     ]
    }
   ],
   "source": [
    "print(abs(1+2j))\n",
    "print(abs(3+4j))"
   ]
  },
  {
   "cell_type": "code",
   "execution_count": 4,
   "id": "cf16c6a3",
   "metadata": {},
   "outputs": [
    {
     "name": "stdout",
     "output_type": "stream",
     "text": [
      "0b11001000\n",
      "<class 'str'>\n"
     ]
    }
   ],
   "source": [
    "x = bin(200)\n",
    "print(x)\n",
    "print(type(x))"
   ]
  },
  {
   "cell_type": "code",
   "execution_count": 5,
   "id": "f88b2dbc",
   "metadata": {},
   "outputs": [
    {
     "name": "stdout",
     "output_type": "stream",
     "text": [
      "Enter your name: Mr.Thanyawit\n",
      "Mr.Thanyawit\n"
     ]
    }
   ],
   "source": [
    "name = input(\"Enter your name: \")\n",
    "print(name)"
   ]
  },
  {
   "cell_type": "markdown",
   "id": "9b1ebb40",
   "metadata": {},
   "source": [
    "## pow()"
   ]
  },
  {
   "cell_type": "code",
   "execution_count": 3,
   "id": "27fd7b87",
   "metadata": {},
   "outputs": [
    {
     "name": "stdout",
     "output_type": "stream",
     "text": [
      "32\n"
     ]
    }
   ],
   "source": [
    "print(pow(2,5))"
   ]
  },
  {
   "cell_type": "code",
   "execution_count": 4,
   "id": "2aaf34f6",
   "metadata": {},
   "outputs": [
    {
     "name": "stdout",
     "output_type": "stream",
     "text": [
      "25\n"
     ]
    }
   ],
   "source": [
    "print(pow(5,2))"
   ]
  },
  {
   "cell_type": "code",
   "execution_count": 9,
   "id": "31cec121",
   "metadata": {},
   "outputs": [
    {
     "name": "stdout",
     "output_type": "stream",
     "text": [
      "1000\n",
      "1000\n"
     ]
    }
   ],
   "source": [
    "print(pow(base = 10, exp = 3))\n",
    "print(pow(exp = 3, base = 10))"
   ]
  },
  {
   "cell_type": "markdown",
   "id": "3d0e88d0",
   "metadata": {},
   "source": [
    "## max()"
   ]
  },
  {
   "cell_type": "code",
   "execution_count": 10,
   "id": "25a56a43",
   "metadata": {},
   "outputs": [
    {
     "name": "stdout",
     "output_type": "stream",
     "text": [
      "20.5\n"
     ]
    }
   ],
   "source": [
    "print(max(20,20.5))"
   ]
  },
  {
   "cell_type": "code",
   "execution_count": 11,
   "id": "5f6a3700",
   "metadata": {},
   "outputs": [
    {
     "name": "stdout",
     "output_type": "stream",
     "text": [
      "Z\n"
     ]
    }
   ],
   "source": [
    "print(max(\"T\",\"A\",\"X\",\"Z\"))"
   ]
  },
  {
   "cell_type": "markdown",
   "id": "6077bdba",
   "metadata": {},
   "source": [
    "## print()"
   ]
  },
  {
   "cell_type": "code",
   "execution_count": 12,
   "id": "1f3dd73c",
   "metadata": {},
   "outputs": [
    {
     "name": "stdout",
     "output_type": "stream",
     "text": [
      "Hello World Now\n"
     ]
    }
   ],
   "source": [
    "print(\"Hello\",\"World\",\"Now\")"
   ]
  },
  {
   "cell_type": "code",
   "execution_count": 13,
   "id": "963b492c",
   "metadata": {},
   "outputs": [
    {
     "name": "stdout",
     "output_type": "stream",
     "text": [
      "Hello++World++Now\n"
     ]
    }
   ],
   "source": [
    "print(\"Hello\",\"World\",\"Now\" , sep = \"++\")"
   ]
  },
  {
   "cell_type": "code",
   "execution_count": 14,
   "id": "e76eff05",
   "metadata": {},
   "outputs": [
    {
     "name": "stdout",
     "output_type": "stream",
     "text": [
      "Hello World Now\n",
      "Hello World Then.Hello Mars\n"
     ]
    }
   ],
   "source": [
    "print(\"Hello\",\"World\",\"Now\")\n",
    "print(\"Hello\",\"World\",\"Then\", end = \".\")\n",
    "print(\"Hello\",\"Mars\")"
   ]
  },
  {
   "cell_type": "code",
   "execution_count": 15,
   "id": "ce6263b6",
   "metadata": {},
   "outputs": [
    {
     "name": "stdout",
     "output_type": "stream",
     "text": [
      "Hello\n",
      "World\n",
      "Now\n"
     ]
    }
   ],
   "source": [
    "print(\"Hello\", \"World\", \"Now\", sep=\"\\n\")"
   ]
  },
  {
   "cell_type": "code",
   "execution_count": null,
   "id": "44a6f6e1",
   "metadata": {},
   "outputs": [],
   "source": []
  }
 ],
 "metadata": {
  "kernelspec": {
   "display_name": "Python 3 (ipykernel)",
   "language": "python",
   "name": "python3"
  },
  "language_info": {
   "codemirror_mode": {
    "name": "ipython",
    "version": 3
   },
   "file_extension": ".py",
   "mimetype": "text/x-python",
   "name": "python",
   "nbconvert_exporter": "python",
   "pygments_lexer": "ipython3",
   "version": "3.11.3"
  }
 },
 "nbformat": 4,
 "nbformat_minor": 5
}
