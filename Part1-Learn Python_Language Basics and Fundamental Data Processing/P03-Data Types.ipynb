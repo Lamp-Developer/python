{
 "cells": [
  {
   "cell_type": "markdown",
   "id": "351115c5",
   "metadata": {},
   "source": [
    "# Beginning Data Types in Python\n",
    "\n",
    "Let's get familiar with a first set of data types in Python.\n"
   ]
  },
  {
   "cell_type": "markdown",
   "id": "b1b84df7",
   "metadata": {},
   "source": [
    "## Numbers\n",
    "\n",
    "- `int` for integers\n",
    "- `float` for real numbers. They can represent decimal points.\n",
    "- `complex` for complex numbers (with real and imaginary parts, very scientific!)\n"
   ]
  },
  {
   "cell_type": "markdown",
   "id": "186f1f6d",
   "metadata": {},
   "source": [
    "To represent `int` values in the program, type *numbers* without decimal points."
   ]
  },
  {
   "cell_type": "code",
   "execution_count": 2,
   "id": "1ec81a40",
   "metadata": {},
   "outputs": [
    {
     "name": "stdout",
     "output_type": "stream",
     "text": [
      "32\n",
      "64\n",
      "128\n"
     ]
    }
   ],
   "source": [
    "print(32)\n",
    "print(64)\n",
    "print(128)\n"
   ]
  },
  {
   "cell_type": "markdown",
   "id": "43ac6b48",
   "metadata": {},
   "source": [
    "`type()` can be used for checking the data types of any values.\n"
   ]
  },
  {
   "cell_type": "code",
   "execution_count": 3,
   "id": "5f01b185",
   "metadata": {},
   "outputs": [
    {
     "name": "stdout",
     "output_type": "stream",
     "text": [
      "<class 'int'>\n",
      "<class 'int'>\n",
      "<class 'int'>\n"
     ]
    }
   ],
   "source": [
    "print(type(32))\n",
    "print(type(64))\n",
    "print(type(128))\n"
   ]
  },
  {
   "cell_type": "markdown",
   "id": "2e6e41d5",
   "metadata": {},
   "source": [
    "To represent `£loat` values in the program, type numbers with decimal points.\n"
   ]
  },
  {
   "cell_type": "code",
   "execution_count": 4,
   "id": "b223d4e6",
   "metadata": {},
   "outputs": [
    {
     "name": "stdout",
     "output_type": "stream",
     "text": [
      "48.5\n",
      "1.0\n",
      "<class 'float'>\n",
      "<class 'float'>\n"
     ]
    }
   ],
   "source": [
    "print(48.5)\n",
    "print(1.0)\n",
    "print(type(48.5))\n",
    "print(type(1.0))"
   ]
  },
  {
   "cell_type": "markdown",
   "id": "d7a858b4",
   "metadata": {},
   "source": [
    "To represent `complex` values in the program, use the format a+bj.\n"
   ]
  },
  {
   "cell_type": "code",
   "execution_count": 5,
   "id": "813909b3",
   "metadata": {},
   "outputs": [
    {
     "name": "stdout",
     "output_type": "stream",
     "text": [
      "(2+3j)\n",
      "(1.5-8j)\n",
      "<class 'complex'>\n",
      "<class 'complex'>\n"
     ]
    }
   ],
   "source": [
    "print(2+3j)\n",
    "print(1.5-8j)\n",
    "print(type(2+3j))\n",
    "print(type(1.5-8j))"
   ]
  },
  {
   "cell_type": "markdown",
   "id": "d6742eb9",
   "metadata": {},
   "source": [
    "Be warned that typing in just j is NOT a `complex` number."
   ]
  },
  {
   "cell_type": "markdown",
   "id": "461ee496",
   "metadata": {},
   "source": [
    " # Strings\n",
    "A string object is a sequence of characters. In Python, the data type is `str`.\n",
    "\n",
    "To represent `str` in the program, enclose text with quotes.\n",
    "Quotes could be:\n",
    "- Single quotes\n",
    "- Double quotes\n",
    "- Triple quotes"
   ]
  },
  {
   "cell_type": "code",
   "execution_count": 6,
   "id": "97569f35",
   "metadata": {},
   "outputs": [
    {
     "name": "stdout",
     "output_type": "stream",
     "text": [
      "Hello World\n",
      "Hello World\n",
      "Hello World\n",
      "<class 'str'>\n",
      "<class 'str'>\n",
      "<class 'str'>\n"
     ]
    }
   ],
   "source": [
    "print('Hello World')\n",
    "print(\"Hello World\")\n",
    "print('''Hello World''')\n",
    "print(type('Hello World'))\n",
    "print(type(\"Hello World\"))\n",
    "print(type('''Hello World'''))"
   ]
  },
  {
   "cell_type": "markdown",
   "id": "d7f4a118",
   "metadata": {},
   "source": [
    "Since quotes are used for signaling the starting/ending of a String object, how can we write a sentence like *He said \"Hello!\"* or *It's ok to say \"Goodbye\"*."
   ]
  },
  {
   "cell_type": "code",
   "execution_count": 2,
   "id": "b987729f",
   "metadata": {},
   "outputs": [
    {
     "name": "stdout",
     "output_type": "stream",
     "text": [
      "He said \"Hello!\"\n",
      "It's ok to say \"Goodbye\".\n"
     ]
    }
   ],
   "source": [
    "print('He said \"Hello!\"')\n",
    "print('''It's ok to say \"Goodbye\".''')"
   ]
  },
  {
   "cell_type": "markdown",
   "id": "f1ea55ec",
   "metadata": {},
   "source": [
    "If switching quotes is NOT a choice, we can escape the quote character with a backslash."
   ]
  },
  {
   "cell_type": "code",
   "execution_count": 3,
   "id": "219b4ff3",
   "metadata": {},
   "outputs": [
    {
     "name": "stdout",
     "output_type": "stream",
     "text": [
      "He said \"Hello!\"\n",
      "It's ok to say \"Goodbye\".\n"
     ]
    }
   ],
   "source": [
    "print(\"He said \\\"Hello!\\\"\")\n",
    "print(\"It's ok to say \\\"Goodbye\\\".\")"
   ]
  },
  {
   "cell_type": "markdown",
   "id": "fc24212e",
   "metadata": {},
   "source": [
    "What about when we need a backslash inside a String?\n",
    "\n",
    "We can also escape backslashes."
   ]
  },
  {
   "cell_type": "code",
   "execution_count": 4,
   "id": "06eeb038",
   "metadata": {},
   "outputs": [
    {
     "name": "stdout",
     "output_type": "stream",
     "text": [
      "Escape characters start with \\\n"
     ]
    }
   ],
   "source": [
    "print(\"Escape characters start with \\\\\")"
   ]
  },
  {
   "cell_type": "markdown",
   "id": "a4a13bbb",
   "metadata": {},
   "source": [
    "It is good to know in advanced that each escape character (E.g. * , ', \\) is counted as 1 character even though we typed two characters."
   ]
  },
  {
   "cell_type": "markdown",
   "id": "dc35f933",
   "metadata": {},
   "source": [
    "‘There are more escape characters than that we have mentioned. Another escape character you should be familiar with Is the newline character (\\n)."
   ]
  },
  {
   "cell_type": "code",
   "execution_count": 6,
   "id": "b9f84346",
   "metadata": {},
   "outputs": [
    {
     "name": "stdout",
     "output_type": "stream",
     "text": [
      "The first line.\n",
      "tThe second line.\n",
      "the third line.\n"
     ]
    }
   ],
   "source": [
    "print(\"The first line.\\ntThe second line.\\nthe third line.\")"
   ]
  },
  {
   "cell_type": "markdown",
   "id": "43a5cb4a",
   "metadata": {},
   "source": [
    "When multiple String objects are typed in a sequence, Python concatenate them automatically."
   ]
  },
  {
   "cell_type": "code",
   "execution_count": 8,
   "id": "361e10ba",
   "metadata": {},
   "outputs": [
    {
     "name": "stdout",
     "output_type": "stream",
     "text": [
      "Storekeeper\n",
      "Storekeeper\n",
      "Storekeeper\n",
      "Storekeeper\n"
     ]
    }
   ],
   "source": [
    "print(\"Store\" \"keep\" \"er\")\n",
    "print (\"Store\"      \"keep\" \"er\")\n",
    "print(\"Store\"\"keep\"\"er\")\n",
    "print('Store' \"keep\" '''er''')"
   ]
  },
  {
   "cell_type": "markdown",
   "id": "86323750",
   "metadata": {},
   "source": [
    "## Boolean\n",
    "We type keywords True and False to represent the (truth) value true and false, respectively."
   ]
  },
  {
   "cell_type": "code",
   "execution_count": 9,
   "id": "f142239e",
   "metadata": {},
   "outputs": [
    {
     "name": "stdout",
     "output_type": "stream",
     "text": [
      "True\n",
      "<class 'bool'>\n",
      "False\n",
      "<class 'bool'>\n"
     ]
    }
   ],
   "source": [
    "print(True)\n",
    "print(type(True))\n",
    "print(False)\n",
    "print(type(False))"
   ]
  },
  {
   "cell_type": "markdown",
   "id": "3c36b195",
   "metadata": {},
   "source": [
    "Be reminded that Python is case-sensitive. Therefore, true and false are NOT boolean values."
   ]
  }
 ],
 "metadata": {
  "kernelspec": {
   "display_name": "Python 3 (ipykernel)",
   "language": "python",
   "name": "python3"
  },
  "language_info": {
   "codemirror_mode": {
    "name": "ipython",
    "version": 3
   },
   "file_extension": ".py",
   "mimetype": "text/x-python",
   "name": "python",
   "nbconvert_exporter": "python",
   "pygments_lexer": "ipython3",
   "version": "3.11.3"
  }
 },
 "nbformat": 4,
 "nbformat_minor": 5
}
