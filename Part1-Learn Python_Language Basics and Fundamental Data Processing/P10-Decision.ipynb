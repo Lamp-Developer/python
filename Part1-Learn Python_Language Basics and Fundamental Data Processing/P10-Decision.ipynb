{
 "cells": [
  {
   "cell_type": "code",
   "execution_count": null,
   "id": "aac111b7",
   "metadata": {},
   "outputs": [],
   "source": [
    "score = input('จงกรอกคะแนนรวม: ')\n",
    "if float(score) >= 50:\n",
    "    print('สอบผ่าน')\n",
    "    print('********')\n",
    "else:\n",
    "    print('สอบไม่ผ่าน')\n",
    "    print('เสียใจด้วย โปรดกลับมาสอบอีกครั้ง')\n",
    "print('สวัสดี')"
   ]
  },
  {
   "cell_type": "code",
   "execution_count": null,
   "id": "c3ad1a4a",
   "metadata": {},
   "outputs": [],
   "source": [
    "score = input('จงกรอกคะแนนรวม: ')\n",
    "if float(score) >= 50:\n",
    "    print('สอบผ่าน')\n",
    "    print('********')\n",
    "else:\n",
    "    print('สอบไม่ผ่าน')\n",
    "    print('เสียใจด้วย โปรดกลับมาสอบอีกครั้ง')\n",
    "print('สวัสดี')\n"
   ]
  },
  {
   "cell_type": "markdown",
   "id": "c3584f5c",
   "metadata": {},
   "source": [
    "## Loop"
   ]
  },
  {
   "cell_type": "code",
   "execution_count": null,
   "id": "7ef769da",
   "metadata": {},
   "outputs": [],
   "source": [
    "s = \"บางระจัน\"\n",
    "print(s)\n",
    "print(s)\n",
    "print(s)"
   ]
  },
  {
   "cell_type": "code",
   "execution_count": null,
   "id": "f0710ccd",
   "metadata": {},
   "outputs": [],
   "source": [
    "s = \"บางระจัน\"\n",
    "n = 0\n",
    "while n <3 :\n",
    "    print(s)\n",
    "    n +=1"
   ]
  },
  {
   "cell_type": "code",
   "execution_count": null,
   "id": "6a170931",
   "metadata": {},
   "outputs": [],
   "source": [
    "max_x = float(input())\n",
    "e = input()\n",
    "while e != \"stop\":\n",
    "    x = float(e)\n",
    "    if x > max_x:\n",
    "        max_x = x\n",
    "        e = input()\n",
    "print(max_x) "
   ]
  },
  {
   "cell_type": "code",
   "execution_count": null,
   "id": "b8594c6a",
   "metadata": {},
   "outputs": [],
   "source": [
    "max_x = float(input())\n",
    "e = input()\n",
    "while e != \"stop\":\n",
    "    x = float(e)\n",
    "    if x > max_x:\n",
    "        max_x = x\n",
    "        e = input()\n",
    "print(max_x) "
   ]
  },
  {
   "cell_type": "code",
   "execution_count": 1,
   "id": "407a4099",
   "metadata": {},
   "outputs": [
    {
     "name": "stdout",
     "output_type": "stream",
     "text": [
      "20\n",
      "210\n"
     ]
    }
   ],
   "source": [
    "n = int(input())\n",
    "s=0\n",
    "for i in range(n+1):\n",
    "    s += i\n",
    "print(s)"
   ]
  },
  {
   "cell_type": "code",
   "execution_count": 2,
   "id": "c001f58f",
   "metadata": {},
   "outputs": [],
   "source": [
    "res_list = [\"KFA\", \"NK\", \"Bon Zhon\", \"Zubway\",\"Burger Queen\", \"The Pizza Hat\",\"Sevenzen\", \"StarBug\"]"
   ]
  },
  {
   "cell_type": "code",
   "execution_count": 8,
   "id": "189108b7",
   "metadata": {},
   "outputs": [
    {
     "name": "stdout",
     "output_type": "stream",
     "text": [
      "ร้านที่ 1 ชอบคือ KFA\n",
      "ร้านที่ 2 ชอบคือ NK\n",
      "ร้านที่ 3 ชอบคือ Bon Zhon\n",
      "ร้านที่ 4 ชอบคือ Zubway\n",
      "ร้านที่ 5 ชอบคือ Burger Queen\n",
      "ร้านที่ 6 ชอบคือ The Pizza Hat\n",
      "ร้านที่ 7 ชอบคือ Sevenzen\n",
      "ร้านที่ 8 ชอบคือ StarBug\n"
     ]
    }
   ],
   "source": [
    "i=1\n",
    "for res in res_list: \n",
    "    print(\"ร้านที่\",i,\"ชอบคือ\",res)\n",
    "    i += 1\n"
   ]
  },
  {
   "cell_type": "code",
   "execution_count": 10,
   "id": "abdcc814",
   "metadata": {},
   "outputs": [
    {
     "name": "stdout",
     "output_type": "stream",
     "text": [
      "ร้านที่ 1 ชอบคือ KFA\n",
      "ร้านที่ 2 ชอบคือ NK\n",
      "ร้านที่ 3 ชอบคือ Bon Zhon\n",
      "ร้านที่ 4 ชอบคือ Zubway\n",
      "ร้านที่ 5 ชอบคือ Burger Queen\n",
      "ร้านที่ 6 ชอบคือ The Pizza Hat\n",
      "ร้านที่ 7 ชอบคือ Sevenzen\n",
      "ร้านที่ 8 ชอบคือ StarBug\n"
     ]
    }
   ],
   "source": [
    "for i in range(len(res_list)):\n",
    "\tprint(\"ร้านที่\", i+1, \"ชอบคือ\", res_list[i])"
   ]
  },
  {
   "cell_type": "markdown",
   "id": "6276e8dd",
   "metadata": {},
   "source": [
    "## break`()`"
   ]
  },
  {
   "cell_type": "code",
   "execution_count": 12,
   "id": "c75730a2",
   "metadata": {},
   "outputs": [
    {
     "name": "stdout",
     "output_type": "stream",
     "text": [
      "ผัดกระเพราหมูกรอบ\n",
      "Ordered ผัดกระเพราหมูกรอบ\n",
      "หมูทอดกระเทียม\n",
      "Ordered หมูทอดกระเทียม\n",
      "ไข่เจียวหมูสับ\n",
      "Ordered ไข่เจียวหมูสับ\n",
      "ช้าวผัดรวมมิตร\n",
      "Ordered ช้าวผัดรวมมิตร\n",
      "ต้มยำกุ้งน้ำข้น\n",
      "Ordered ต้มยำกุ้งน้ำข้น\n",
      "Done\n"
     ]
    }
   ],
   "source": [
    "n=0\n",
    "while n < 5:\n",
    "    menu = input()\n",
    "    if menu == \"stop\":\n",
    "        break\n",
    "    print(\"Ordered\", menu)\n",
    "    n += 1\n",
    "print(\"Done\")"
   ]
  },
  {
   "cell_type": "code",
   "execution_count": 13,
   "id": "f31cfaf6",
   "metadata": {},
   "outputs": [
    {
     "name": "stdout",
     "output_type": "stream",
     "text": [
      "กระเพราหมูสับไข่ดาว\n",
      "Ordered กระเพราหมูสับไข่ดาว\n",
      "หมูกรอบทอด\n",
      "Ordered หมูกรอบทอด\n",
      "หมูกรอบหมูสับผัดน้ำมันหอย\n",
      "Ordered หมูกรอบหมูสับผัดน้ำมันหอย\n",
      "stop\n",
      "Done\n"
     ]
    }
   ],
   "source": [
    "n=0\n",
    "while n < 5:\n",
    "    menu = input()\n",
    "    if menu == \"stop\":\n",
    "        break\n",
    "    print(\"Ordered\", menu)\n",
    "    n += 1\n",
    "print(\"Done\")"
   ]
  },
  {
   "cell_type": "code",
   "execution_count": 14,
   "id": "5710f64d",
   "metadata": {},
   "outputs": [
    {
     "name": "stdout",
     "output_type": "stream",
     "text": [
      "น้ำตกคอหมูย่าง\n",
      "Ordered น้ำตกคอหมูย่าง\n",
      "stop\n",
      "Done\n"
     ]
    }
   ],
   "source": [
    "n=0\n",
    "while n < 5:\n",
    "    menu = input()\n",
    "    if menu == \"stop\":\n",
    "        break\n",
    "    print(\"Ordered\", menu)\n",
    "    n += 1\n",
    "print(\"Done\")\n"
   ]
  }
 ],
 "metadata": {
  "kernelspec": {
   "display_name": "Python 3 (ipykernel)",
   "language": "python",
   "name": "python3"
  },
  "language_info": {
   "codemirror_mode": {
    "name": "ipython",
    "version": 3
   },
   "file_extension": ".py",
   "mimetype": "text/x-python",
   "name": "python",
   "nbconvert_exporter": "python",
   "pygments_lexer": "ipython3",
   "version": "3.11.3"
  }
 },
 "nbformat": 4,
 "nbformat_minor": 5
}
