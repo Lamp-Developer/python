{
 "cells": [
  {
   "cell_type": "markdown",
   "id": "68abe8aa",
   "metadata": {},
   "source": [
    "## Write lambda function vs normal named function\n",
    "![lambda python](https://miro.medium.com/v2/resize:fit:960/1*QXqq-wElxkqjBZ_e-HI2kw.png)"
   ]
  },
  {
   "cell_type": "code",
   "execution_count": 1,
   "id": "6826b272",
   "metadata": {},
   "outputs": [
    {
     "name": "stdout",
     "output_type": "stream",
     "text": [
      "Hi Lamp,how are you doing?\n"
     ]
    }
   ],
   "source": [
    "def say_hi(name):\n",
    "\tprint('Hi', name + ',how are you doing?')\n",
    "\n",
    "say_hi('Lamp')"
   ]
  },
  {
   "cell_type": "code",
   "execution_count": 2,
   "id": "5b51c0b1",
   "metadata": {},
   "outputs": [
    {
     "name": "stdout",
     "output_type": "stream",
     "text": [
      "Hi Lamp, how are you doing?\n"
     ]
    }
   ],
   "source": [
    "(lambda name: print('Hi', name + ', how are you doing?'))('Lamp')"
   ]
  },
  {
   "cell_type": "code",
   "execution_count": 4,
   "id": "46226e8e",
   "metadata": {},
   "outputs": [
    {
     "data": {
      "text/plain": [
       "[2, 12, 30]"
      ]
     },
     "execution_count": 4,
     "metadata": {},
     "output_type": "execute_result"
    }
   ],
   "source": [
    "rects = [(1,2), (3,4), (5,6)]\n",
    "list(map(lambda x: x[0]*x[1], rects))"
   ]
  },
  {
   "cell_type": "code",
   "execution_count": 6,
   "id": "f372e50b",
   "metadata": {},
   "outputs": [
    {
     "data": {
      "text/plain": [
       "[2, 12, 30]"
      ]
     },
     "execution_count": 6,
     "metadata": {},
     "output_type": "execute_result"
    }
   ],
   "source": [
    "def get_rect_area(x):\n",
    "\treturn x[0]*x[1]\n",
    "\n",
    "list(map(get_rect_area, rects))"
   ]
  },
  {
   "cell_type": "code",
   "execution_count": 7,
   "id": "d753abd6",
   "metadata": {},
   "outputs": [
    {
     "data": {
      "text/plain": [
       "15"
      ]
     },
     "execution_count": 7,
     "metadata": {},
     "output_type": "execute_result"
    }
   ],
   "source": [
    "from functools import reduce\n",
    "\n",
    "reduce(lambda x,y: x + y, [1,2,3,4,5])"
   ]
  },
  {
   "cell_type": "code",
   "execution_count": 8,
   "id": "bcdff967",
   "metadata": {},
   "outputs": [
    {
     "data": {
      "text/plain": [
       "['Nick', 'Mike']"
      ]
     },
     "execution_count": 8,
     "metadata": {},
     "output_type": "execute_result"
    }
   ],
   "source": [
    "names = ['Dave', 'Nick', 'Tom', 'Mike']\n",
    "\n",
    "list(filter(lambda s:s[0] in ['M', 'N'], names))"
   ]
  },
  {
   "cell_type": "code",
   "execution_count": 9,
   "id": "fed74af0",
   "metadata": {},
   "outputs": [
    {
     "name": "stdout",
     "output_type": "stream",
     "text": [
      "[2, 12, 30]\n",
      "[2, 12, 30]\n"
     ]
    }
   ],
   "source": [
    "rects = [(1,2), (3,4), (5,6)]\n",
    "\n",
    "# Lambda\n",
    "print(list(map(lambda x: x[0]*x[1], rects)))\n",
    "\n",
    "# List comprehension\n",
    "print([x[0]*x[1] for x in rects])"
   ]
  },
  {
   "cell_type": "code",
   "execution_count": 10,
   "id": "17ada5d1",
   "metadata": {},
   "outputs": [
    {
     "name": "stdout",
     "output_type": "stream",
     "text": [
      "15\n",
      "15\n"
     ]
    }
   ],
   "source": [
    "seq = [1,2,3,4,5]\n",
    "\n",
    "# Lambda\n",
    "print(reduce(lambda x,y: x + y, [1,2,3,4,5]))\n",
    "\n",
    "# List\n",
    "print(sum(seq))"
   ]
  },
  {
   "cell_type": "code",
   "execution_count": 11,
   "id": "aef3cbb0",
   "metadata": {},
   "outputs": [
    {
     "name": "stdout",
     "output_type": "stream",
     "text": [
      "['Nick', 'Mike']\n",
      "['Nick', 'Mike']\n"
     ]
    }
   ],
   "source": [
    "names = ['Dave', 'Nick', 'Tom', 'Mike']\n",
    "\n",
    "# Lambda\n",
    "print(list(filter(lambda s:s[0] in ['M', 'N'], names)))\n",
    "\n",
    "# List\n",
    "print([x for x in names if x[0] in ['M', 'N']])"
   ]
  },
  {
   "cell_type": "markdown",
   "id": "2d7548a4",
   "metadata": {},
   "source": [
    "# Summarize"
   ]
  },
  {
   "cell_type": "markdown",
   "id": "1a778c1f",
   "metadata": {},
   "source": [
    "- This chapter focuses on getting to know each other, not in-depth.\n",
    "![](https://miro.medium.com/v2/resize:fit:1200/0*4eRr7IZ3sP2ZAE8H.png)"
   ]
  }
 ],
 "metadata": {
  "kernelspec": {
   "display_name": "Python 3 (ipykernel)",
   "language": "python",
   "name": "python3"
  },
  "language_info": {
   "codemirror_mode": {
    "name": "ipython",
    "version": 3
   },
   "file_extension": ".py",
   "mimetype": "text/x-python",
   "name": "python",
   "nbconvert_exporter": "python",
   "pygments_lexer": "ipython3",
   "version": "3.11.3"
  }
 },
 "nbformat": 4,
 "nbformat_minor": 5
}
