{
 "cells": [
  {
   "cell_type": "code",
   "execution_count": 4,
   "id": "c52c6a16",
   "metadata": {},
   "outputs": [
    {
     "ename": "TypeError",
     "evalue": "'str' object does not support item assignment",
     "output_type": "error",
     "traceback": [
      "\u001b[1;31m---------------------------------------------------------------------------\u001b[0m",
      "\u001b[1;31mTypeError\u001b[0m                                 Traceback (most recent call last)",
      "Cell \u001b[1;32mIn[4], line 2\u001b[0m\n\u001b[0;32m      1\u001b[0m s \u001b[38;5;241m=\u001b[39m \u001b[38;5;124m'\u001b[39m\u001b[38;5;124mbuild\u001b[39m\u001b[38;5;124m'\u001b[39m \u001b[38;5;66;03m# >> 'built'\u001b[39;00m\n\u001b[1;32m----> 2\u001b[0m \u001b[43ms\u001b[49m\u001b[43m[\u001b[49m\u001b[38;5;241;43m-\u001b[39;49m\u001b[38;5;241;43m1\u001b[39;49m\u001b[43m]\u001b[49m \u001b[38;5;241m=\u001b[39m \u001b[38;5;124m'\u001b[39m\u001b[38;5;124mt\u001b[39m\u001b[38;5;124m'\u001b[39m\n",
      "\u001b[1;31mTypeError\u001b[0m: 'str' object does not support item assignment"
     ]
    }
   ],
   "source": [
    "s = 'build' # >> 'built'\n",
    "s[-1] = 't'"
   ]
  },
  {
   "cell_type": "code",
   "execution_count": 5,
   "id": "2634b8e7",
   "metadata": {},
   "outputs": [
    {
     "name": "stdout",
     "output_type": "stream",
     "text": [
      "built\n"
     ]
    }
   ],
   "source": [
    "s = s[:-1] + 't' #re assignment ด้วย\n",
    "print(s)"
   ]
  },
  {
   "cell_type": "markdown",
   "id": "3fce4d44",
   "metadata": {},
   "source": [
    "### TUPLE\n",
    "\n",
    "Tuples stores multiple items in a single variable, similar to Lists. The difference is that tuples are immutable."
   ]
  },
  {
   "cell_type": "markdown",
   "id": "f517f637",
   "metadata": {},
   "source": [
    "Creating Tuples\n",
    "\n",
    "- Tuples can be created using round brackets (parentheses) `( )`"
   ]
  },
  {
   "cell_type": "markdown",
   "id": "2798242c",
   "metadata": {},
   "source": [
    "![tuple](https://pythonexamples.org/images/python-tuple-access.svg)"
   ]
  },
  {
   "cell_type": "code",
   "execution_count": 6,
   "id": "e87b994d",
   "metadata": {},
   "outputs": [
    {
     "data": {
      "text/plain": [
       "tuple"
      ]
     },
     "execution_count": 6,
     "metadata": {},
     "output_type": "execute_result"
    }
   ],
   "source": [
    "# Create a tuple using a parenthesis.\n",
    "\n",
    "position = (100, 50)\n",
    "type(position)"
   ]
  },
  {
   "cell_type": "code",
   "execution_count": 7,
   "id": "dc9a0072",
   "metadata": {},
   "outputs": [
    {
     "data": {
      "text/plain": [
       "2"
      ]
     },
     "execution_count": 7,
     "metadata": {},
     "output_type": "execute_result"
    }
   ],
   "source": [
    "len(position)"
   ]
  },
  {
   "cell_type": "markdown",
   "id": "1519d4ee",
   "metadata": {},
   "source": [
    "- Tuples can be create using tuple() function."
   ]
  },
  {
   "cell_type": "code",
   "execution_count": 8,
   "id": "558a5a18",
   "metadata": {},
   "outputs": [],
   "source": [
    "# The tuple() function creates a tuple object.\n",
    "# Parameter = iterable object (optional).\n",
    "\n",
    "t = tuple([1,2,3])"
   ]
  },
  {
   "cell_type": "code",
   "execution_count": 9,
   "id": "f1910d35",
   "metadata": {},
   "outputs": [
    {
     "name": "stdout",
     "output_type": "stream",
     "text": [
      "(1, 2, 3)\n"
     ]
    }
   ],
   "source": [
    "print(t)"
   ]
  },
  {
   "cell_type": "code",
   "execution_count": 10,
   "id": "0c2b4aea",
   "metadata": {},
   "outputs": [
    {
     "name": "stdout",
     "output_type": "stream",
     "text": [
      "('a', 'b', 'c')\n"
     ]
    }
   ],
   "source": [
    "t = tuple('abc')\n",
    "print(t)"
   ]
  },
  {
   "cell_type": "code",
   "execution_count": 11,
   "id": "9fd0fb48",
   "metadata": {},
   "outputs": [
    {
     "name": "stdout",
     "output_type": "stream",
     "text": [
      "(1, 2, 3)\n"
     ]
    }
   ],
   "source": [
    "t = tuple((1,2,3))\n",
    "print (t)"
   ]
  },
  {
   "cell_type": "markdown",
   "id": "cf6453c1",
   "metadata": {},
   "source": [
    "- Can tuple be empty ?"
   ]
  },
  {
   "cell_type": "code",
   "execution_count": 12,
   "id": "095d4591",
   "metadata": {},
   "outputs": [
    {
     "name": "stdout",
     "output_type": "stream",
     "text": [
      "() <class 'tuple'>\n",
      "() <class 'tuple'>\n"
     ]
    }
   ],
   "source": [
    "t1 = ()\n",
    "t2 = tuple()\n",
    "print(t1, type(t1))\n",
    "print(t2, type(t2))"
   ]
  },
  {
   "cell_type": "markdown",
   "id": "1b9b53b7",
   "metadata": {},
   "source": [
    "- Create a tuple with one item."
   ]
  },
  {
   "cell_type": "code",
   "execution_count": 13,
   "id": "68c2565c",
   "metadata": {},
   "outputs": [],
   "source": [
    "t1 = (1)"
   ]
  },
  {
   "cell_type": "code",
   "execution_count": 14,
   "id": "e34a7a99",
   "metadata": {},
   "outputs": [
    {
     "name": "stdout",
     "output_type": "stream",
     "text": [
      "<class 'int'>\n"
     ]
    }
   ],
   "source": [
    "print(type(t1))"
   ]
  },
  {
   "cell_type": "code",
   "execution_count": 15,
   "id": "63c40b26",
   "metadata": {},
   "outputs": [
    {
     "name": "stdout",
     "output_type": "stream",
     "text": [
      "(1,) <class 'tuple'>\n"
     ]
    }
   ],
   "source": [
    "t1 = (1,)\n",
    "print(t1 , type(t1))"
   ]
  },
  {
   "cell_type": "code",
   "execution_count": 16,
   "id": "c3d83dcb",
   "metadata": {},
   "outputs": [
    {
     "ename": "TypeError",
     "evalue": "'int' object is not iterable",
     "output_type": "error",
     "traceback": [
      "\u001b[1;31m---------------------------------------------------------------------------\u001b[0m",
      "\u001b[1;31mTypeError\u001b[0m                                 Traceback (most recent call last)",
      "Cell \u001b[1;32mIn[16], line 1\u001b[0m\n\u001b[1;32m----> 1\u001b[0m t2 \u001b[38;5;241m=\u001b[39m \u001b[38;5;28;43mtuple\u001b[39;49m\u001b[43m(\u001b[49m\u001b[38;5;241;43m1\u001b[39;49m\u001b[43m)\u001b[49m\n",
      "\u001b[1;31mTypeError\u001b[0m: 'int' object is not iterable"
     ]
    }
   ],
   "source": [
    "t2 = tuple(1)"
   ]
  },
  {
   "cell_type": "code",
   "execution_count": 17,
   "id": "76fc2619",
   "metadata": {},
   "outputs": [
    {
     "name": "stdout",
     "output_type": "stream",
     "text": [
      "<class 'tuple'>\n"
     ]
    }
   ],
   "source": [
    "tuple = ([1])\n",
    "print(type(t2))"
   ]
  },
  {
   "cell_type": "markdown",
   "id": "6c0f8930",
   "metadata": {},
   "source": [
    "## Items in a tuple can be same or different data types. (Heterogenous)"
   ]
  },
  {
   "cell_type": "code",
   "execution_count": 18,
   "id": "5af8f191",
   "metadata": {},
   "outputs": [
    {
     "name": "stdout",
     "output_type": "stream",
     "text": [
      "('Python Basics', 39.99, 2021, ('D.Amos', 'D.Bader', 'J.Jablonski', 'F.Heisler'))\n"
     ]
    }
   ],
   "source": [
    "days = ('Sun','Mon','Tue','Wed','Thu','Fri', 'Sat') \n",
    "\n",
    "book_info = ('Python Basics', 39.99, 2021, ('D.Amos','D.Bader','J.Jablonski', 'F.Heisler'))\n",
    "print(book_info)"
   ]
  },
  {
   "cell_type": "code",
   "execution_count": 19,
   "id": "11f2781b",
   "metadata": {},
   "outputs": [
    {
     "name": "stdout",
     "output_type": "stream",
     "text": [
      "Python Basics\n"
     ]
    }
   ],
   "source": [
    "print(book_info[0])"
   ]
  },
  {
   "cell_type": "code",
   "execution_count": 20,
   "id": "80d8386c",
   "metadata": {},
   "outputs": [
    {
     "name": "stdout",
     "output_type": "stream",
     "text": [
      "('D.Amos', 'D.Bader', 'J.Jablonski', 'F.Heisler')\n"
     ]
    }
   ],
   "source": [
    "print(book_info[-1])"
   ]
  },
  {
   "cell_type": "markdown",
   "id": "518183b3",
   "metadata": {},
   "source": [
    "## Slicing\n",
    "\n",
    "- We can also use slicing to access a range of items by defining the start , stop, an step parameters.\n"
   ]
  },
  {
   "cell_type": "code",
   "execution_count": 21,
   "id": "e73bd4d9",
   "metadata": {},
   "outputs": [
    {
     "name": "stdout",
     "output_type": "stream",
     "text": [
      "('Python Basics', 39.99, 2021)\n"
     ]
    }
   ],
   "source": [
    "print (book_info[:3])"
   ]
  },
  {
   "cell_type": "markdown",
   "id": "16c8d35e",
   "metadata": {},
   "source": [
    "## Unpacking tuples\n",
    "\n",
    "- We can extract the values of tuple's items assigning to variables."
   ]
  },
  {
   "cell_type": "code",
   "execution_count": 22,
   "id": "eb23e5fb",
   "metadata": {},
   "outputs": [],
   "source": [
    "title, price, year = book_info[:-1]"
   ]
  },
  {
   "cell_type": "code",
   "execution_count": 23,
   "id": "6ac1d0e9",
   "metadata": {},
   "outputs": [
    {
     "name": "stdout",
     "output_type": "stream",
     "text": [
      "Python Basics\n"
     ]
    }
   ],
   "source": [
    "print(title)"
   ]
  },
  {
   "cell_type": "code",
   "execution_count": 24,
   "id": "00c63c12",
   "metadata": {},
   "outputs": [
    {
     "name": "stdout",
     "output_type": "stream",
     "text": [
      "39.99\n"
     ]
    }
   ],
   "source": [
    "print(price)"
   ]
  },
  {
   "cell_type": "code",
   "execution_count": 25,
   "id": "2c03ffc0",
   "metadata": {},
   "outputs": [
    {
     "name": "stdout",
     "output_type": "stream",
     "text": [
      "2021\n"
     ]
    }
   ],
   "source": [
    "print(year)"
   ]
  },
  {
   "cell_type": "markdown",
   "id": "a6f94cc3",
   "metadata": {},
   "source": [
    "## Tuple are \"immutable\"; can not be modified."
   ]
  },
  {
   "cell_type": "code",
   "execution_count": 26,
   "id": "97aecfd2",
   "metadata": {},
   "outputs": [],
   "source": [
    "position = (100 , 50)\n",
    "x , y = position"
   ]
  },
  {
   "cell_type": "code",
   "execution_count": 27,
   "id": "79724419",
   "metadata": {},
   "outputs": [
    {
     "ename": "TypeError",
     "evalue": "'tuple' object does not support item assignment",
     "output_type": "error",
     "traceback": [
      "\u001b[1;31m---------------------------------------------------------------------------\u001b[0m",
      "\u001b[1;31mTypeError\u001b[0m                                 Traceback (most recent call last)",
      "Cell \u001b[1;32mIn[27], line 1\u001b[0m\n\u001b[1;32m----> 1\u001b[0m \u001b[43mposition\u001b[49m\u001b[43m[\u001b[49m\u001b[38;5;241;43m0\u001b[39;49m\u001b[43m]\u001b[49m \u001b[38;5;241m=\u001b[39m \u001b[38;5;241m120\u001b[39m\n",
      "\u001b[1;31mTypeError\u001b[0m: 'tuple' object does not support item assignment"
     ]
    }
   ],
   "source": [
    "position[0] = 120"
   ]
  },
  {
   "cell_type": "code",
   "execution_count": 28,
   "id": "84cc46e3",
   "metadata": {},
   "outputs": [
    {
     "name": "stdout",
     "output_type": "stream",
     "text": [
      "(120, 50)\n"
     ]
    }
   ],
   "source": [
    "position = (120,50)\n",
    "print (position)"
   ]
  },
  {
   "cell_type": "code",
   "execution_count": 29,
   "id": "f77ee75e",
   "metadata": {},
   "outputs": [],
   "source": [
    "# Combining tuples using operator '+'\n",
    "\n",
    "pos = (1,2,3)\n",
    "position += pos"
   ]
  },
  {
   "cell_type": "code",
   "execution_count": 30,
   "id": "e831e223",
   "metadata": {},
   "outputs": [
    {
     "name": "stdout",
     "output_type": "stream",
     "text": [
      "(120, 50, 1, 2, 3)\n"
     ]
    }
   ],
   "source": [
    "print(position)"
   ]
  },
  {
   "cell_type": "code",
   "execution_count": 31,
   "id": "fc46ffb2",
   "metadata": {},
   "outputs": [
    {
     "name": "stdout",
     "output_type": "stream",
     "text": [
      "2181090632768 (1, 2, 3)\n"
     ]
    }
   ],
   "source": [
    "# id() function returns the identity of the object.\n",
    "# Parameter = an object\n",
    "\n",
    "t1 = (1,2,3)\n",
    "print(id(t1), t1)"
   ]
  },
  {
   "cell_type": "code",
   "execution_count": 32,
   "id": "d989d58e",
   "metadata": {},
   "outputs": [
    {
     "name": "stdout",
     "output_type": "stream",
     "text": [
      "2181084671744 (40, 50)\n"
     ]
    }
   ],
   "source": [
    "t2 = (40,50)\n",
    "print(id(t2), t2)"
   ]
  },
  {
   "cell_type": "code",
   "execution_count": 33,
   "id": "4b878d2f",
   "metadata": {},
   "outputs": [
    {
     "name": "stdout",
     "output_type": "stream",
     "text": [
      "2181084656752 (1, 2, 3, 40, 50)\n"
     ]
    }
   ],
   "source": [
    "t1 += t2\n",
    "print(id(t1), t1)"
   ]
  },
  {
   "cell_type": "markdown",
   "id": "ff48796e",
   "metadata": {},
   "source": [
    "- To delete item(s) from a list.\n",
    "\t- can not delete item(s) in the tuple\n",
    "\t- del deletes the whole tuple object."
   ]
  },
  {
   "cell_type": "code",
   "execution_count": 34,
   "id": "213bf2b7",
   "metadata": {},
   "outputs": [],
   "source": [
    "del position"
   ]
  },
  {
   "cell_type": "code",
   "execution_count": 35,
   "id": "f9a6054b",
   "metadata": {},
   "outputs": [
    {
     "ename": "NameError",
     "evalue": "name 'position' is not defined",
     "output_type": "error",
     "traceback": [
      "\u001b[1;31m---------------------------------------------------------------------------\u001b[0m",
      "\u001b[1;31mNameError\u001b[0m                                 Traceback (most recent call last)",
      "Cell \u001b[1;32mIn[35], line 1\u001b[0m\n\u001b[1;32m----> 1\u001b[0m \u001b[38;5;28mprint\u001b[39m(\u001b[43mposition\u001b[49m)\n",
      "\u001b[1;31mNameError\u001b[0m: name 'position' is not defined"
     ]
    }
   ],
   "source": [
    "print(position)"
   ]
  },
  {
   "cell_type": "markdown",
   "id": "7460b8be",
   "metadata": {},
   "source": [
    "## Tuple are \"iterable\" objects.\n",
    "\n",
    "- we can iterate through tuples."
   ]
  },
  {
   "cell_type": "code",
   "execution_count": 36,
   "id": "d9cb9bb5",
   "metadata": {},
   "outputs": [],
   "source": [
    "planets = ('Mercury','Venus', 'Earth', 'Mars', 'Jupiter', 'Saturn', 'Uranus', 'Neptune')"
   ]
  },
  {
   "cell_type": "code",
   "execution_count": 37,
   "id": "3b13d134",
   "metadata": {},
   "outputs": [
    {
     "name": "stdout",
     "output_type": "stream",
     "text": [
      "Mercury\n",
      "Venus\n",
      "Earth\n",
      "Mars\n",
      "Jupiter\n",
      "Saturn\n",
      "Uranus\n",
      "Neptune\n"
     ]
    }
   ],
   "source": [
    "# use for loop\n",
    "for i in planets:\n",
    "\tprint (i)"
   ]
  },
  {
   "cell_type": "code",
   "execution_count": 38,
   "id": "24027acb",
   "metadata": {},
   "outputs": [
    {
     "name": "stdout",
     "output_type": "stream",
     "text": [
      "Mercury\n",
      "Venus\n",
      "Earth\n",
      "Mars\n",
      "Jupiter\n",
      "Saturn\n",
      "Uranus\n",
      "Neptune\n"
     ]
    }
   ],
   "source": [
    "# use for loop\n",
    "for i in planets:\n",
    "\tprint (i)"
   ]
  },
  {
   "cell_type": "code",
   "execution_count": 39,
   "id": "b23305b2",
   "metadata": {},
   "outputs": [
    {
     "name": "stdout",
     "output_type": "stream",
     "text": [
      "Mercury\n",
      "Venus\n",
      "Earth\n",
      "Mars\n",
      "Jupiter\n",
      "Saturn\n",
      "Uranus\n",
      "Neptune\n"
     ]
    }
   ],
   "source": [
    "# loop through the index number\n",
    "for i in range(len(planets)):\n",
    "\tprint(planets[i])"
   ]
  },
  {
   "cell_type": "code",
   "execution_count": 40,
   "id": "5d122a98",
   "metadata": {},
   "outputs": [
    {
     "name": "stdout",
     "output_type": "stream",
     "text": [
      "0 Mercury\n",
      "1 Venus\n",
      "2 Earth\n",
      "3 Mars\n",
      "4 Jupiter\n",
      "5 Saturn\n",
      "6 Uranus\n",
      "7 Neptune\n"
     ]
    }
   ],
   "source": [
    "# loop using enumerate()\n",
    "for i,v in enumerate(planets):\n",
    "\tprint(i, v)"
   ]
  },
  {
   "cell_type": "code",
   "execution_count": 41,
   "id": "50a8b152",
   "metadata": {},
   "outputs": [
    {
     "name": "stdout",
     "output_type": "stream",
     "text": [
      "Mercury\n",
      "Venus\n",
      "Earth\n",
      "Mars\n",
      "Jupiter\n",
      "Saturn\n",
      "Uranus\n",
      "Neptune\n"
     ]
    },
    {
     "data": {
      "text/plain": [
       "[None, None, None, None, None, None, None, None]"
      ]
     },
     "execution_count": 41,
     "metadata": {},
     "output_type": "execute_result"
    }
   ],
   "source": [
    "# use list comprehension\n",
    "[print(x) for x in planets]"
   ]
  },
  {
   "cell_type": "markdown",
   "id": "83c99d54",
   "metadata": {},
   "source": [
    "## Cloning or copying a tuple"
   ]
  },
  {
   "cell_type": "code",
   "execution_count": 42,
   "id": "3f419c7a",
   "metadata": {},
   "outputs": [],
   "source": [
    "t = (1,2,3)"
   ]
  },
  {
   "cell_type": "code",
   "execution_count": 43,
   "id": "f03bf286",
   "metadata": {},
   "outputs": [
    {
     "name": "stdout",
     "output_type": "stream",
     "text": [
      "(1, 2, 3)\n"
     ]
    }
   ],
   "source": [
    "#use '=' assigment statement\n",
    "a=t\n",
    "print(a)"
   ]
  },
  {
   "cell_type": "code",
   "execution_count": 44,
   "id": "06a4984f",
   "metadata": {},
   "outputs": [
    {
     "name": "stdout",
     "output_type": "stream",
     "text": [
      "(1, 2, 3)\n"
     ]
    }
   ],
   "source": [
    "# use slicing\n",
    "b = t[:]\n",
    "print(b)"
   ]
  },
  {
   "cell_type": "code",
   "execution_count": 45,
   "id": "49928209",
   "metadata": {},
   "outputs": [
    {
     "ename": "TypeError",
     "evalue": "'list' object is not callable",
     "output_type": "error",
     "traceback": [
      "\u001b[1;31m---------------------------------------------------------------------------\u001b[0m",
      "\u001b[1;31mTypeError\u001b[0m                                 Traceback (most recent call last)",
      "Cell \u001b[1;32mIn[45], line 2\u001b[0m\n\u001b[0;32m      1\u001b[0m \u001b[38;5;66;03m# use 'tuple()' function\u001b[39;00m\n\u001b[1;32m----> 2\u001b[0m c \u001b[38;5;241m=\u001b[39m \u001b[38;5;28;43mtuple\u001b[39;49m\u001b[43m(\u001b[49m\u001b[43mt\u001b[49m\u001b[43m)\u001b[49m\n\u001b[0;32m      3\u001b[0m \u001b[38;5;28mprint\u001b[39m(c) \n",
      "\u001b[1;31mTypeError\u001b[0m: 'list' object is not callable"
     ]
    }
   ],
   "source": [
    "# use 'tuple()' function\n",
    "c = tuple(t)\n",
    "print(c) "
   ]
  },
  {
   "cell_type": "code",
   "execution_count": 46,
   "id": "85892a06",
   "metadata": {},
   "outputs": [
    {
     "ename": "AttributeError",
     "evalue": "'tuple' object has no attribute 'copy'",
     "output_type": "error",
     "traceback": [
      "\u001b[1;31m---------------------------------------------------------------------------\u001b[0m",
      "\u001b[1;31mAttributeError\u001b[0m                            Traceback (most recent call last)",
      "Cell \u001b[1;32mIn[46], line 2\u001b[0m\n\u001b[0;32m      1\u001b[0m \u001b[38;5;66;03m# use ‘copy()' method\u001b[39;00m\n\u001b[1;32m----> 2\u001b[0m d \u001b[38;5;241m=\u001b[39m \u001b[43mt\u001b[49m\u001b[38;5;241;43m.\u001b[39;49m\u001b[43mcopy\u001b[49m()\n\u001b[0;32m      3\u001b[0m \u001b[38;5;28mprint\u001b[39m(d)\n",
      "\u001b[1;31mAttributeError\u001b[0m: 'tuple' object has no attribute 'copy'"
     ]
    }
   ],
   "source": [
    "# use ‘copy()' method\n",
    "d = t.copy()\n",
    "print(d)"
   ]
  },
  {
   "cell_type": "markdown",
   "id": "45b6d2c7",
   "metadata": {},
   "source": [
    "## Tuple's methods"
   ]
  },
  {
   "cell_type": "code",
   "execution_count": 47,
   "id": "b746d68a",
   "metadata": {},
   "outputs": [
    {
     "data": {
      "text/plain": [
       "2"
      ]
     },
     "execution_count": 47,
     "metadata": {},
     "output_type": "execute_result"
    }
   ],
   "source": [
    "# index() searches the tuple for a specified value and returns the index.\n",
    "\n",
    "planets.index('Earth') # return the index of the first occurrence"
   ]
  },
  {
   "cell_type": "code",
   "execution_count": 48,
   "id": "7531adce",
   "metadata": {},
   "outputs": [
    {
     "data": {
      "text/plain": [
       "2"
      ]
     },
     "execution_count": 48,
     "metadata": {},
     "output_type": "execute_result"
    }
   ],
   "source": [
    "planets.index('Earth', 0, 3)"
   ]
  },
  {
   "cell_type": "code",
   "execution_count": 49,
   "id": "80bb5b4d",
   "metadata": {},
   "outputs": [
    {
     "ename": "ValueError",
     "evalue": "tuple.index(x): x not in tuple",
     "output_type": "error",
     "traceback": [
      "\u001b[1;31m---------------------------------------------------------------------------\u001b[0m",
      "\u001b[1;31mValueError\u001b[0m                                Traceback (most recent call last)",
      "Cell \u001b[1;32mIn[49], line 1\u001b[0m\n\u001b[1;32m----> 1\u001b[0m \u001b[43mplanets\u001b[49m\u001b[38;5;241;43m.\u001b[39;49m\u001b[43mindex\u001b[49m\u001b[43m(\u001b[49m\u001b[38;5;124;43m'\u001b[39;49m\u001b[38;5;124;43mEarth\u001b[39;49m\u001b[38;5;124;43m'\u001b[39;49m\u001b[43m,\u001b[49m\u001b[43m \u001b[49m\u001b[38;5;241;43m3\u001b[39;49m\u001b[43m)\u001b[49m\n",
      "\u001b[1;31mValueError\u001b[0m: tuple.index(x): x not in tuple"
     ]
    }
   ],
   "source": [
    "planets.index('Earth', 3)"
   ]
  },
  {
   "cell_type": "code",
   "execution_count": 51,
   "id": "d9e19f5b",
   "metadata": {},
   "outputs": [
    {
     "name": "stdout",
     "output_type": "stream",
     "text": [
      "Not Found\n"
     ]
    }
   ],
   "source": [
    "if 'Earth' in planets[3:]:\n",
    "   \tprint(planets.index('Earth', 3) )\n",
    "else:\n",
    "\tprint('Not Found')"
   ]
  },
  {
   "cell_type": "code",
   "execution_count": 52,
   "id": "4399f4d4",
   "metadata": {},
   "outputs": [
    {
     "name": "stdout",
     "output_type": "stream",
     "text": [
      "1\n"
     ]
    }
   ],
   "source": [
    "print(planets.count('Earth'))"
   ]
  },
  {
   "cell_type": "code",
   "execution_count": 53,
   "id": "067c6e17",
   "metadata": {},
   "outputs": [
    {
     "name": "stdout",
     "output_type": "stream",
     "text": [
      "0\n"
     ]
    }
   ],
   "source": [
    "print(planets.count('Moon'))"
   ]
  },
  {
   "cell_type": "code",
   "execution_count": 54,
   "id": "edbbb768",
   "metadata": {},
   "outputs": [
    {
     "name": "stdout",
     "output_type": "stream",
     "text": [
      "False\n"
     ]
    }
   ],
   "source": [
    "print('Moon' in planets)"
   ]
  },
  {
   "cell_type": "code",
   "execution_count": 55,
   "id": "ee2f41bb",
   "metadata": {},
   "outputs": [
    {
     "name": "stdout",
     "output_type": "stream",
     "text": [
      "True\n"
     ]
    }
   ],
   "source": [
    "print('Venus' in planets)"
   ]
  }
 ],
 "metadata": {
  "kernelspec": {
   "display_name": "Python 3 (ipykernel)",
   "language": "python",
   "name": "python3"
  },
  "language_info": {
   "codemirror_mode": {
    "name": "ipython",
    "version": 3
   },
   "file_extension": ".py",
   "mimetype": "text/x-python",
   "name": "python",
   "nbconvert_exporter": "python",
   "pygments_lexer": "ipython3",
   "version": "3.11.3"
  }
 },
 "nbformat": 4,
 "nbformat_minor": 5
}
