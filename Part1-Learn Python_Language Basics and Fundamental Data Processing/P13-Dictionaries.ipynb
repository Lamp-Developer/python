{
 "cells": [
  {
   "cell_type": "markdown",
   "id": "3bd2a33c",
   "metadata": {},
   "source": [
    "## DICTIONARY\n",
    "\n",
    "- Dictionaries are **mapping** data type in Python, storing data in a collection of **key:value** pairs."
   ]
  },
  {
   "cell_type": "code",
   "execution_count": 1,
   "id": "608ee0d2",
   "metadata": {},
   "outputs": [],
   "source": [
    "# book_info using Tuple\n",
    "book_info = ('Python Basics', 39.99, 2021, ('D.Amos', 'D.Bader','J.Jablonski','F.Heisler'))"
   ]
  },
  {
   "cell_type": "code",
   "execution_count": 2,
   "id": "d2997ab3",
   "metadata": {},
   "outputs": [
    {
     "name": "stdout",
     "output_type": "stream",
     "text": [
      "('Python Basics', 39.99, 2021, ('D.Amos', 'D.Bader', 'J.Jablonski', 'F.Heisler'))\n"
     ]
    }
   ],
   "source": [
    "print(book_info)"
   ]
  },
  {
   "cell_type": "markdown",
   "id": "9be4151e",
   "metadata": {},
   "source": [
    "### Creating Dictionary\n",
    "\n",
    "- Dictionaries can be created using curly brackets (braces) { }.\n",
    "- Each item is separated by , ;\n",
    "- Anitem has a **key** and a corresponding **value** (key:value pai).\n",
    "\n",
    "\t\td ={<key>: <value>,\n",
    "\t\t       <key>: <value>,\n",
    "        \t\t.\n",
    "       \t \t.\n",
    "\t\t\t<key>: <value>\n",
    "\t\t\t}"
   ]
  },
  {
   "cell_type": "code",
   "execution_count": 15,
   "id": "3ac77268",
   "metadata": {},
   "outputs": [],
   "source": [
    "# Create a dictionary using curly brackets.\n",
    "\n",
    "dbook_info = {'title' : 'Python Basics',\n",
    "              'price': 39.99,\n",
    "              'year' : 2021,\n",
    "              'authors':('D.Amos','D.Bader','J.Jablonski','F.Heisler')}"
   ]
  },
  {
   "cell_type": "code",
   "execution_count": 5,
   "id": "02281248",
   "metadata": {},
   "outputs": [
    {
     "name": "stdout",
     "output_type": "stream",
     "text": [
      "{'title': 'Python Basics', 'price': 39.99, 'year': 2021, 'authors': ('D.Amos', 'D.Bader', 'J.Jablonski', 'F.Heisler')}\n"
     ]
    }
   ],
   "source": [
    "print(dbook_info)"
   ]
  },
  {
   "cell_type": "markdown",
   "id": "f75dfdc3",
   "metadata": {},
   "source": [
    "![Figure: Dict structure.](https://sv1.picz.in.th/images/2023/05/21/FgUput.png)\n",
    "Ref: <http://pythontutor.com/visualize. html>"
   ]
  },
  {
   "cell_type": "markdown",
   "id": "e2091838",
   "metadata": {},
   "source": [
    "- Dictionaries can be created using “dict()~ function.\n",
    "\n",
    "```\n",
    "\t\td= dict([ (<key>, <value>),\n",
    "\t\t\t\t  (<key>, <value),\n",
    "                 \t .\n",
    "                 \t .\n",
    "\t\t\t\t  (<key>, <value>))\n",
    "                ])\n",
    "```"
   ]
  },
  {
   "cell_type": "code",
   "execution_count": 1,
   "id": "516a0377",
   "metadata": {},
   "outputs": [],
   "source": [
    "c = [('name', 'Somsri Jaidee'), ('tel', '02-222-1222')]"
   ]
  },
  {
   "cell_type": "code",
   "execution_count": 2,
   "id": "60d8881f",
   "metadata": {},
   "outputs": [
    {
     "name": "stdout",
     "output_type": "stream",
     "text": [
      "{'name': 'Somsri Jaidee', 'tel': '02-222-1222'}\n",
      "<class 'dict'>\n"
     ]
    }
   ],
   "source": [
    "customer = dict(c)\n",
    "print (customer)\n",
    "print (type(customer))"
   ]
  },
  {
   "cell_type": "markdown",
   "id": "85e1320b",
   "metadata": {},
   "source": [
    "- If the key values are strings, they can be specified as keyword arguments."
   ]
  },
  {
   "cell_type": "code",
   "execution_count": 3,
   "id": "f7e3bb5b",
   "metadata": {},
   "outputs": [
    {
     "name": "stdout",
     "output_type": "stream",
     "text": [
      "<class 'dict'>\n",
      "{'name': 'Somsri Jaidee', 'tel': '02-222-1222'}\n"
     ]
    }
   ],
   "source": [
    "customer = dict(name = 'Somsri Jaidee', tel = '02-222-1222' )\n",
    "print (type(customer) )\n",
    "print (customer)"
   ]
  },
  {
   "cell_type": "code",
   "execution_count": 4,
   "id": "55cd57bb",
   "metadata": {},
   "outputs": [
    {
     "name": "stdout",
     "output_type": "stream",
     "text": [
      "{}\n",
      "<class 'dict'>\n"
     ]
    }
   ],
   "source": [
    "# Creating an empty Dict\n",
    "\n",
    "d = {}\n",
    "print(d)\n",
    "print(type(d))"
   ]
  },
  {
   "cell_type": "markdown",
   "id": "e92c62fa",
   "metadata": {},
   "source": [
    "- Keys must be **immutable** type, e.g., int, float, string, tuple, and **unique**.\n",
    "- Values can be any data type (**Heterogeous**) and allowed to be **duplicated**."
   ]
  },
  {
   "cell_type": "code",
   "execution_count": 5,
   "id": "08afdc9d",
   "metadata": {},
   "outputs": [],
   "source": [
    "# key can be 'int'\n",
    "\n",
    "d = {1: 'a', 2: 'b'}"
   ]
  },
  {
   "cell_type": "code",
   "execution_count": 6,
   "id": "c03d38c0",
   "metadata": {},
   "outputs": [
    {
     "name": "stdout",
     "output_type": "stream",
     "text": [
      "{1: 'a', 2: 'b'}\n"
     ]
    }
   ],
   "source": [
    "print(d)"
   ]
  },
  {
   "cell_type": "code",
   "execution_count": 10,
   "id": "b37f5356",
   "metadata": {},
   "outputs": [],
   "source": [
    "# key can be 'float'\n",
    "\n",
    "d = {1.0: 'a' , 2.0: 'b'}"
   ]
  },
  {
   "cell_type": "code",
   "execution_count": 11,
   "id": "8205f736",
   "metadata": {},
   "outputs": [],
   "source": [
    "# key can be ‘tuple’\n",
    "\n",
    "d= {(1,1):10, (1,2):20}"
   ]
  },
  {
   "cell_type": "code",
   "execution_count": 12,
   "id": "5e24fe16",
   "metadata": {},
   "outputs": [],
   "source": [
    "# key can be mixed\n",
    " \n",
    "d = {1:[1,2,3],\n",
    "       'name':'Sara'}"
   ]
  },
  {
   "cell_type": "code",
   "execution_count": 13,
   "id": "0094c290",
   "metadata": {},
   "outputs": [
    {
     "ename": "TypeError",
     "evalue": "unhashable type: 'list'",
     "output_type": "error",
     "traceback": [
      "\u001b[1;31m---------------------------------------------------------------------------\u001b[0m",
      "\u001b[1;31mTypeError\u001b[0m                                 Traceback (most recent call last)",
      "Cell \u001b[1;32mIn[13], line 1\u001b[0m\n\u001b[1;32m----> 1\u001b[0m d \u001b[38;5;241m=\u001b[39m {[\u001b[38;5;241m1\u001b[39m,\u001b[38;5;241m1\u001b[39m]:\u001b[38;5;241m10\u001b[39m, [\u001b[38;5;241m1\u001b[39m,\u001b[38;5;241m2\u001b[39m]:\u001b[38;5;241m20\u001b[39m} \u001b[38;5;66;03m# Mutable object can not be \"key\" in dictionary\u001b[39;00m\n",
      "\u001b[1;31mTypeError\u001b[0m: unhashable type: 'list'"
     ]
    }
   ],
   "source": [
    "d = {[1,1]:10, [1,2]:20} # Mutable object can not be \"key\" in dictionary"
   ]
  },
  {
   "cell_type": "markdown",
   "id": "ec37149e",
   "metadata": {},
   "source": [
    "## Accessing Dictionary\n",
    "\n",
    "1. An item's value in Dictionary can be referred to using the `key` name in a square bracket `[ ]`.\n",
    "2. Using get`()` method."
   ]
  },
  {
   "cell_type": "code",
   "execution_count": 16,
   "id": "d903f776",
   "metadata": {},
   "outputs": [
    {
     "name": "stdout",
     "output_type": "stream",
     "text": [
      "{'title': 'Python Basics', 'price': 39.99, 'year': 2021, 'authors': ('D.Amos', 'D.Bader', 'J.Jablonski', 'F.Heisler')}\n"
     ]
    }
   ],
   "source": [
    "print(dbook_info)"
   ]
  },
  {
   "cell_type": "code",
   "execution_count": 19,
   "id": "ba9f35cf",
   "metadata": {},
   "outputs": [
    {
     "name": "stdout",
     "output_type": "stream",
     "text": [
      "('D.Amos', 'D.Bader', 'J.Jablonski', 'F.Heisler')\n"
     ]
    }
   ],
   "source": [
    "print(dbook_info['authors'])"
   ]
  },
  {
   "cell_type": "code",
   "execution_count": 20,
   "id": "ae04a568",
   "metadata": {},
   "outputs": [
    {
     "data": {
      "text/plain": [
       "'Python Basics'"
      ]
     },
     "execution_count": 20,
     "metadata": {},
     "output_type": "execute_result"
    }
   ],
   "source": [
    "# using get() method\n",
    "\n",
    "dbook_info.get('title')"
   ]
  },
  {
   "cell_type": "markdown",
   "id": "6e42c754",
   "metadata": {},
   "source": [
    "- Incase of `[ ]`, KeyError is raised if the key is not found in the dictionary; meanwhile, the get `()` method will return None .\n"
   ]
  },
  {
   "cell_type": "code",
   "execution_count": 21,
   "id": "4e18e37c",
   "metadata": {},
   "outputs": [
    {
     "name": "stdout",
     "output_type": "stream",
     "text": [
      "None\n"
     ]
    }
   ],
   "source": [
    "print (dbook_info.get('name'))"
   ]
  },
  {
   "cell_type": "markdown",
   "id": "9ecd2c3e",
   "metadata": {},
   "source": [
    "## Adding & Updating Dictionary\n",
    "\n",
    "- 1. Adding one value at atime: Dict[<Key>] = <Value>.    \n",
    "- 2. Updating can be done using the built-in update() method.\n",
    "\n",
    "Note that if the key value already exists, the value gets **updated**; otherwise, anew <Key> with the <value> is **added** to the Dictionary."
   ]
  },
  {
   "cell_type": "code",
   "execution_count": 22,
   "id": "dc8ac8a9",
   "metadata": {},
   "outputs": [],
   "source": [
    "customer = dict(name = 'Somsri Jaidee', tel = '02-111-2222')"
   ]
  },
  {
   "cell_type": "code",
   "execution_count": 23,
   "id": "6a22ca05",
   "metadata": {},
   "outputs": [],
   "source": [
    "customer['tel'] = '02-218-9999'"
   ]
  },
  {
   "cell_type": "code",
   "execution_count": 26,
   "id": "0f1dfbc0",
   "metadata": {},
   "outputs": [
    {
     "name": "stdout",
     "output_type": "stream",
     "text": [
      "{'name': 'Somsri Jaidee', 'tel': '02-218-9999'}\n"
     ]
    }
   ],
   "source": [
    "print(customer)"
   ]
  },
  {
   "cell_type": "code",
   "execution_count": 27,
   "id": "d85a33ab",
   "metadata": {},
   "outputs": [],
   "source": [
    "customer['DOB'] = '01-07-1990'"
   ]
  },
  {
   "cell_type": "code",
   "execution_count": 28,
   "id": "2a36bf10",
   "metadata": {},
   "outputs": [
    {
     "name": "stdout",
     "output_type": "stream",
     "text": [
      "{'name': 'Somsri Jaidee', 'tel': '02-218-9999', 'DOB': '01-07-1990'}\n"
     ]
    }
   ],
   "source": [
    "print(customer)"
   ]
  },
  {
   "cell_type": "code",
   "execution_count": 29,
   "id": "fd939461",
   "metadata": {},
   "outputs": [
    {
     "name": "stdout",
     "output_type": "stream",
     "text": [
      "{'name': 'Somsri Jaidee', 'tel': '02-218-9999', 'DOB': '01-07-1990', 'address': 'Bangkok'}\n"
     ]
    }
   ],
   "source": [
    "# update() method\n",
    "# Parameter: a dictionary, or an iterable object with key:value pairs.\n",
    "\n",
    "customer.update({'address': 'Bangkok'})\n",
    "print (customer)"
   ]
  },
  {
   "cell_type": "code",
   "execution_count": 30,
   "id": "f212b3b0",
   "metadata": {},
   "outputs": [
    {
     "name": "stdout",
     "output_type": "stream",
     "text": [
      "{'name': 'Somsri Jaidee', 'tel': '02-218-9999', 'DOB': '01-07-1990', 'address': 'Phuket'}\n"
     ]
    }
   ],
   "source": [
    "customer.update({'address': 'Phuket'})\n",
    "print (customer)"
   ]
  },
  {
   "cell_type": "markdown",
   "id": "c83b627c",
   "metadata": {},
   "source": [
    "## Deleting Dictionary\n",
    "\n",
    "1. del keyword deletes the **item** with the specified **key** name.\n",
    "   del Dict will delete the entire dictionary;\n",
    "\n",
    "2. `pop()` method deletes the **item** with the specified **key** name, and return the **value**.\n",
    "3. `popitem()` method deletes the **last_item** `(key, value)` pair from the dictionary.\n",
    "4. `clear()` method deletes all the items from the dictionary."
   ]
  },
  {
   "cell_type": "code",
   "execution_count": 31,
   "id": "e215dea2",
   "metadata": {},
   "outputs": [
    {
     "name": "stdout",
     "output_type": "stream",
     "text": [
      "{'name': 'Somsri Jaidee', 'tel': '02-218-9999', 'DOB': '01-07-1990', 'address': 'Phuket'}\n",
      "{'name': 'Somsri Jaidee', 'tel': '02-218-9999', 'DOB': '01-07-1990'}\n"
     ]
    }
   ],
   "source": [
    "# Using del keyword to delete the item with the specified key name.\n",
    "\n",
    "print (customer)\n",
    "del customer ['address']\n",
    "print (customer)"
   ]
  },
  {
   "cell_type": "code",
   "execution_count": 34,
   "id": "22606244",
   "metadata": {},
   "outputs": [
    {
     "ename": "NameError",
     "evalue": "name 'customer' is not defined",
     "output_type": "error",
     "traceback": [
      "\u001b[1;31m---------------------------------------------------------------------------\u001b[0m",
      "\u001b[1;31mNameError\u001b[0m                                 Traceback (most recent call last)",
      "Cell \u001b[1;32mIn[34], line 2\u001b[0m\n\u001b[0;32m      1\u001b[0m \u001b[38;5;66;03m# Using del to delete the whole Dict\u001b[39;00m\n\u001b[1;32m----> 2\u001b[0m \u001b[38;5;28;01mdel\u001b[39;00m \u001b[43mcustomer\u001b[49m\n",
      "\u001b[1;31mNameError\u001b[0m: name 'customer' is not defined"
     ]
    }
   ],
   "source": [
    "# Using del to delete the whole Dict\n",
    "del customer"
   ]
  },
  {
   "cell_type": "code",
   "execution_count": 33,
   "id": "0d3fe60a",
   "metadata": {},
   "outputs": [
    {
     "ename": "NameError",
     "evalue": "name 'customer' is not defined",
     "output_type": "error",
     "traceback": [
      "\u001b[1;31m---------------------------------------------------------------------------\u001b[0m",
      "\u001b[1;31mNameError\u001b[0m                                 Traceback (most recent call last)",
      "Cell \u001b[1;32mIn[33], line 1\u001b[0m\n\u001b[1;32m----> 1\u001b[0m \u001b[38;5;28mprint\u001b[39m(\u001b[43mcustomer\u001b[49m)\n",
      "\u001b[1;31mNameError\u001b[0m: name 'customer' is not defined"
     ]
    }
   ],
   "source": [
    "print(customer)"
   ]
  },
  {
   "cell_type": "markdown",
   "id": "1f3f2f8a",
   "metadata": {},
   "source": [
    "- `pop()` method deletes the **item** with the specified **key** name, and return the **value**.\n"
   ]
  },
  {
   "cell_type": "code",
   "execution_count": 35,
   "id": "7cf95cef",
   "metadata": {},
   "outputs": [
    {
     "name": "stdout",
     "output_type": "stream",
     "text": [
      "{'title': 'Python Basics', 'price': 39.99, 'year': 2021, 'authors': ('D.Amos', 'D.Bader', 'J.Jablonski', 'F.Heisler')}\n"
     ]
    }
   ],
   "source": [
    "print(dbook_info)"
   ]
  },
  {
   "cell_type": "code",
   "execution_count": 36,
   "id": "b4032d4e",
   "metadata": {},
   "outputs": [
    {
     "name": "stdout",
     "output_type": "stream",
     "text": [
      "39.99\n"
     ]
    }
   ],
   "source": [
    "p = dbook_info.pop('price')\n",
    "print(p)"
   ]
  },
  {
   "cell_type": "code",
   "execution_count": 37,
   "id": "64bdfa62",
   "metadata": {},
   "outputs": [
    {
     "name": "stdout",
     "output_type": "stream",
     "text": [
      "{'title': 'Python Basics', 'year': 2021, 'authors': ('D.Amos', 'D.Bader', 'J.Jablonski', 'F.Heisler')}\n"
     ]
    }
   ],
   "source": [
    "print(dbook_info)"
   ]
  },
  {
   "cell_type": "code",
   "execution_count": 38,
   "id": "79e41cd3",
   "metadata": {},
   "outputs": [
    {
     "ename": "KeyError",
     "evalue": "'price'",
     "output_type": "error",
     "traceback": [
      "\u001b[1;31m---------------------------------------------------------------------------\u001b[0m",
      "\u001b[1;31mKeyError\u001b[0m                                  Traceback (most recent call last)",
      "Cell \u001b[1;32mIn[38], line 1\u001b[0m\n\u001b[1;32m----> 1\u001b[0m p \u001b[38;5;241m=\u001b[39m \u001b[43mdbook_info\u001b[49m\u001b[38;5;241;43m.\u001b[39;49m\u001b[43mpop\u001b[49m\u001b[43m(\u001b[49m\u001b[38;5;124;43m'\u001b[39;49m\u001b[38;5;124;43mprice\u001b[39;49m\u001b[38;5;124;43m'\u001b[39;49m\u001b[43m)\u001b[49m \u001b[38;5;66;03m# Error if no key exist\u001b[39;00m\n",
      "\u001b[1;31mKeyError\u001b[0m: 'price'"
     ]
    }
   ],
   "source": [
    "p = dbook_info.pop('price') # Error if no key exist"
   ]
  },
  {
   "cell_type": "markdown",
   "id": "07b4624e",
   "metadata": {},
   "source": [
    "- popitem() method deletes the **last item** (key, value) pair from the dictionary. (LIFO)"
   ]
  },
  {
   "cell_type": "code",
   "execution_count": 39,
   "id": "e713af95",
   "metadata": {},
   "outputs": [
    {
     "name": "stdout",
     "output_type": "stream",
     "text": [
      "('authors', ('D.Amos', 'D.Bader', 'J.Jablonski', 'F.Heisler'))\n"
     ]
    }
   ],
   "source": [
    "i = dbook_info.popitem()\n",
    "print (i)"
   ]
  },
  {
   "cell_type": "markdown",
   "id": "0a8c1d34",
   "metadata": {},
   "source": [
    "- clear() method deletes **all items** from the dictionary."
   ]
  },
  {
   "cell_type": "code",
   "execution_count": 41,
   "id": "feba9e88",
   "metadata": {},
   "outputs": [],
   "source": [
    "dbook_info.clear()"
   ]
  },
  {
   "cell_type": "code",
   "execution_count": 42,
   "id": "97ff07f9",
   "metadata": {},
   "outputs": [
    {
     "name": "stdout",
     "output_type": "stream",
     "text": [
      "{}\n"
     ]
    }
   ],
   "source": [
    "print(dbook_info)"
   ]
  },
  {
   "cell_type": "markdown",
   "id": "d142e97e",
   "metadata": {},
   "source": [
    "## Iterating through Dictionary\n",
    "\n",
    "- wecanuse for loop to iterate through dictionaries.\n"
   ]
  },
  {
   "cell_type": "code",
   "execution_count": 43,
   "id": "a77e5058",
   "metadata": {},
   "outputs": [
    {
     "name": "stdout",
     "output_type": "stream",
     "text": [
      "{'soccer': 11, 'rugby': 15, 'volleyball': 6, 'basketball': 5, 'polo': 4, 'softball': 9}\n"
     ]
    }
   ],
   "source": [
    "sport = dict(soccer=11, rugby=15, volleyball=6, basketball=5, polo=4, softball=9)\n",
    "print (sport)"
   ]
  },
  {
   "cell_type": "code",
   "execution_count": 47,
   "id": "2a70e143",
   "metadata": {},
   "outputs": [
    {
     "name": "stdout",
     "output_type": "stream",
     "text": [
      "soccer\n",
      "rugby\n",
      "volleyball\n",
      "basketball\n",
      "polo\n",
      "softball\n"
     ]
    }
   ],
   "source": [
    "# loop by keys\n",
    "\n",
    "for i in sport.keys():\n",
    "    print(i)"
   ]
  },
  {
   "cell_type": "code",
   "execution_count": 48,
   "id": "2f6df345",
   "metadata": {},
   "outputs": [
    {
     "name": "stdout",
     "output_type": "stream",
     "text": [
      "soccer\n",
      "rugby\n",
      "volleyball\n",
      "basketball\n",
      "polo\n",
      "softball\n"
     ]
    }
   ],
   "source": [
    "for i in sport:\n",
    "\tprint(i)"
   ]
  },
  {
   "cell_type": "code",
   "execution_count": 49,
   "id": "b17665b2",
   "metadata": {},
   "outputs": [
    {
     "name": "stdout",
     "output_type": "stream",
     "text": [
      "11\n",
      "15\n",
      "6\n",
      "5\n",
      "4\n",
      "9\n"
     ]
    }
   ],
   "source": [
    "# Loop by Values\n",
    "\n",
    "for i in sport.values():\n",
    "   \tprint(i)"
   ]
  },
  {
   "cell_type": "code",
   "execution_count": 50,
   "id": "a161275e",
   "metadata": {},
   "outputs": [
    {
     "name": "stdout",
     "output_type": "stream",
     "text": [
      "11\n",
      "15\n",
      "6\n",
      "5\n",
      "4\n",
      "9\n"
     ]
    }
   ],
   "source": [
    "for i in sport:\n",
    "\tprint (sport[i])"
   ]
  },
  {
   "cell_type": "code",
   "execution_count": 51,
   "id": "6d97696e",
   "metadata": {},
   "outputs": [
    {
     "name": "stdout",
     "output_type": "stream",
     "text": [
      "('soccer', 11)\n",
      "('rugby', 15)\n",
      "('volleyball', 6)\n",
      "('basketball', 5)\n",
      "('polo', 4)\n",
      "('softball', 9)\n"
     ]
    }
   ],
   "source": [
    "# Loop by item (key-value)\n",
    "\n",
    "for i in sport.items():\n",
    "\tprint(i)"
   ]
  },
  {
   "cell_type": "code",
   "execution_count": 52,
   "id": "a64ba1f3",
   "metadata": {},
   "outputs": [
    {
     "name": "stdout",
     "output_type": "stream",
     "text": [
      "soccer 11\n",
      "rugby 15\n",
      "volleyball 6\n",
      "basketball 5\n",
      "polo 4\n",
      "softball 9\n"
     ]
    }
   ],
   "source": [
    "for s, p in sport.items():\n",
    "\tprint(s, p)"
   ]
  },
  {
   "cell_type": "markdown",
   "id": "f4e440e7",
   "metadata": {},
   "source": [
    "## Cloning or copying Dictionary\n",
    "\n",
    "1. `copy()` method copies a dictionary.\n",
    "2. `dict()` function can be used to copyig a dictionary."
   ]
  },
  {
   "cell_type": "code",
   "execution_count": 53,
   "id": "82047e04",
   "metadata": {},
   "outputs": [
    {
     "name": "stdout",
     "output_type": "stream",
     "text": [
      "{'soccer': 11, 'rugby': 15, 'volleyball': 6, 'basketball': 5, 'polo': 4, 'softball': 9}\n"
     ]
    }
   ],
   "source": [
    "a = sport.copy()\n",
    "print(a)"
   ]
  },
  {
   "cell_type": "code",
   "execution_count": 54,
   "id": "13a7d3e2",
   "metadata": {},
   "outputs": [
    {
     "data": {
      "text/plain": [
       "('softball', 9)"
      ]
     },
     "execution_count": 54,
     "metadata": {},
     "output_type": "execute_result"
    }
   ],
   "source": [
    "a.popitem()"
   ]
  },
  {
   "cell_type": "code",
   "execution_count": 55,
   "id": "d7b81c9c",
   "metadata": {},
   "outputs": [
    {
     "name": "stdout",
     "output_type": "stream",
     "text": [
      "{'soccer': 11, 'rugby': 15, 'volleyball': 6, 'basketball': 5, 'polo': 4}\n"
     ]
    }
   ],
   "source": [
    "print(a)"
   ]
  },
  {
   "cell_type": "code",
   "execution_count": 56,
   "id": "4af43f9a",
   "metadata": {},
   "outputs": [
    {
     "name": "stdout",
     "output_type": "stream",
     "text": [
      "{'soccer': 11, 'rugby': 15, 'volleyball': 6, 'basketball': 5, 'polo': 4, 'softball': 9}\n"
     ]
    }
   ],
   "source": [
    "print(sport)"
   ]
  },
  {
   "cell_type": "code",
   "execution_count": 57,
   "id": "b6f48237",
   "metadata": {},
   "outputs": [],
   "source": [
    "b = dict(sport)"
   ]
  },
  {
   "cell_type": "code",
   "execution_count": 58,
   "id": "a0b132af",
   "metadata": {},
   "outputs": [
    {
     "name": "stdout",
     "output_type": "stream",
     "text": [
      "{'soccer': 11, 'rugby': 15, 'volleyball': 6, 'basketball': 5, 'polo': 4, 'softball': 9}\n"
     ]
    }
   ],
   "source": [
    "print(b)"
   ]
  },
  {
   "cell_type": "code",
   "execution_count": 59,
   "id": "0159eef3",
   "metadata": {},
   "outputs": [],
   "source": [
    "del b ['soccer']"
   ]
  },
  {
   "cell_type": "code",
   "execution_count": 60,
   "id": "e5d72a41",
   "metadata": {},
   "outputs": [
    {
     "name": "stdout",
     "output_type": "stream",
     "text": [
      "{'rugby': 15, 'volleyball': 6, 'basketball': 5, 'polo': 4, 'softball': 9}\n"
     ]
    }
   ],
   "source": [
    "print(b)"
   ]
  },
  {
   "cell_type": "markdown",
   "id": "93a532fa",
   "metadata": {},
   "source": [
    "## Nested Dictionary"
   ]
  },
  {
   "cell_type": "code",
   "execution_count": 62,
   "id": "8aee7497",
   "metadata": {},
   "outputs": [],
   "source": [
    "kids = {1 : {'name':'Poom', 'age':10},\n",
    "\t   2 : {'name':'Pao', 'age':9},\n",
    "\t   3 : {'name':'Put', 'age':7},\n",
    "       }"
   ]
  },
  {
   "cell_type": "code",
   "execution_count": 63,
   "id": "c1a6e304",
   "metadata": {},
   "outputs": [
    {
     "name": "stdout",
     "output_type": "stream",
     "text": [
      "{1: {'name': 'Poom', 'age': 10}, 2: {'name': 'Pao', 'age': 9}, 3: {'name': 'Put', 'age': 7}}\n"
     ]
    }
   ],
   "source": [
    "print(kids)"
   ]
  },
  {
   "cell_type": "markdown",
   "id": "eba1bfe0",
   "metadata": {},
   "source": [
    "![dict](https://sv1.picz.in.th/images/2023/05/21/FgUJwl.png)"
   ]
  }
 ],
 "metadata": {
  "kernelspec": {
   "display_name": "Python 3 (ipykernel)",
   "language": "python",
   "name": "python3"
  },
  "language_info": {
   "codemirror_mode": {
    "name": "ipython",
    "version": 3
   },
   "file_extension": ".py",
   "mimetype": "text/x-python",
   "name": "python",
   "nbconvert_exporter": "python",
   "pygments_lexer": "ipython3",
   "version": "3.11.3"
  }
 },
 "nbformat": 4,
 "nbformat_minor": 5
}
