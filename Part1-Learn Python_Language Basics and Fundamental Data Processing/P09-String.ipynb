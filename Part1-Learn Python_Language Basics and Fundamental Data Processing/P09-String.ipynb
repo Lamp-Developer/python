{
 "cells": [
  {
   "cell_type": "code",
   "execution_count": 2,
   "id": "12dd36b2",
   "metadata": {},
   "outputs": [
    {
     "data": {
      "text/plain": [
       "14"
      ]
     },
     "execution_count": 2,
     "metadata": {},
     "output_type": "execute_result"
    }
   ],
   "source": [
    "s ='  Hello COVID '\n",
    "len(s)"
   ]
  },
  {
   "cell_type": "code",
   "execution_count": 3,
   "id": "e361170a",
   "metadata": {},
   "outputs": [
    {
     "data": {
      "text/plain": [
       "0"
      ]
     },
     "execution_count": 3,
     "metadata": {},
     "output_type": "execute_result"
    }
   ],
   "source": [
    "len(\"\")"
   ]
  },
  {
   "cell_type": "code",
   "execution_count": 5,
   "id": "f44ec5e2",
   "metadata": {},
   "outputs": [
    {
     "data": {
      "text/plain": [
       "'  hello covid '"
      ]
     },
     "execution_count": 5,
     "metadata": {},
     "output_type": "execute_result"
    }
   ],
   "source": [
    "s.lower()"
   ]
  },
  {
   "cell_type": "code",
   "execution_count": 6,
   "id": "2baeea0a",
   "metadata": {},
   "outputs": [
    {
     "data": {
      "text/plain": [
       "'  HELLO COVID '"
      ]
     },
     "execution_count": 6,
     "metadata": {},
     "output_type": "execute_result"
    }
   ],
   "source": [
    "s.upper()"
   ]
  },
  {
   "cell_type": "code",
   "execution_count": 7,
   "id": "c478a674",
   "metadata": {},
   "outputs": [
    {
     "data": {
      "text/plain": [
       "'Hello COVID'"
      ]
     },
     "execution_count": 7,
     "metadata": {},
     "output_type": "execute_result"
    }
   ],
   "source": [
    "s.strip()"
   ]
  },
  {
   "cell_type": "code",
   "execution_count": 12,
   "id": "7fa107f0",
   "metadata": {},
   "outputs": [
    {
     "data": {
      "text/plain": [
       "4"
      ]
     },
     "execution_count": 12,
     "metadata": {},
     "output_type": "execute_result"
    }
   ],
   "source": [
    "s.find('l')"
   ]
  },
  {
   "cell_type": "code",
   "execution_count": 14,
   "id": "424ad327",
   "metadata": {},
   "outputs": [
    {
     "data": {
      "text/plain": [
       "-1"
      ]
     },
     "execution_count": 14,
     "metadata": {},
     "output_type": "execute_result"
    }
   ],
   "source": [
    "s.find(\"a\")"
   ]
  },
  {
   "cell_type": "code",
   "execution_count": 15,
   "id": "0e9b7a19",
   "metadata": {},
   "outputs": [
    {
     "data": {
      "text/plain": [
       "5"
      ]
     },
     "execution_count": 15,
     "metadata": {},
     "output_type": "execute_result"
    }
   ],
   "source": [
    "s.find('l' , 5)"
   ]
  },
  {
   "cell_type": "code",
   "execution_count": 16,
   "id": "0aeecb47",
   "metadata": {},
   "outputs": [
    {
     "data": {
      "text/plain": [
       "True"
      ]
     },
     "execution_count": 16,
     "metadata": {},
     "output_type": "execute_result"
    }
   ],
   "source": [
    "'COVID' in s"
   ]
  },
  {
   "cell_type": "code",
   "execution_count": 17,
   "id": "6ba521e9",
   "metadata": {},
   "outputs": [
    {
     "name": "stdout",
     "output_type": "stream",
     "text": [
      ">>I'm OK!\n",
      "4\n"
     ]
    }
   ],
   "source": [
    "text = input(\">>\")\n",
    "strip_text = text.strip()\n",
    "upper_stripped_text = strip_text.upper()\n",
    "index_of_ok = upper_stripped_text.find(\"OK\")\n",
    "print (index_of_ok)"
   ]
  },
  {
   "cell_type": "code",
   "execution_count": 18,
   "id": "b679ab3d",
   "metadata": {},
   "outputs": [
    {
     "name": "stdout",
     "output_type": "stream",
     "text": [
      ">>I'm OK!\n",
      "4\n"
     ]
    }
   ],
   "source": [
    "Andex_of_ok = input(\">>\").strip().upper().find(\"Ok\")\n",
    "print (index_of_ok)"
   ]
  },
  {
   "cell_type": "code",
   "execution_count": 21,
   "id": "f84657b6",
   "metadata": {},
   "outputs": [
    {
     "name": "stdout",
     "output_type": "stream",
     "text": [
      "ชื่อของคุณ: ธัญวิชญ์\n",
      "เลือกคำคุณศัพท์ (adjective) มา 3 คำ: สวย รวย เก่ง\n",
      "จดหมายฉบับที่: 12\n",
      "ทำไมเธอสวยจัง\n",
      "แถมยังรวยและเก่งอีก\n",
      "ให้ฉันพูดอีกกี่ทีก็จะบอกว่าเธอสวย รวยและเก่ง\n",
      "จากฉันคนเดิมที่รักเธอ\n",
      "ธัญวิชญ์\n"
     ]
    }
   ],
   "source": [
    "name = input(\"ชื่อของคุณ: \").strip()\n",
    "adj = input(\"เลือกคำคุณศัพท์ (adjective) มา 3 คำ: \").strip()\n",
    "adj1, adj2, adj3 = adj.split()\n",
    "print(\"จดหมายฉบับที่:\", len(adj))\n",
    "print(\"ทำไมเธอ\" + adj1 + \"จัง\")\n",
    "print(\"แถมยัง\" + adj2 + \"และ\" + adj3 + \"อีก\")\n",
    "print(\"ให้ฉันพูดอีกกี่ทีก็จะบอกว่าเธอ\" + adj1 +\" \" + adj2 + \"และ\" + adj3)\n",
    "print(\"จากฉันคนเดิมที่รักเธอ\")\n",
    "print(name)"
   ]
  },
  {
   "cell_type": "code",
   "execution_count": 22,
   "id": "f5bc0a58",
   "metadata": {},
   "outputs": [
    {
     "data": {
      "text/plain": [
       "'19'"
      ]
     },
     "execution_count": 22,
     "metadata": {},
     "output_type": "execute_result"
    }
   ],
   "source": [
    "'1'+'9'"
   ]
  },
  {
   "cell_type": "code",
   "execution_count": 23,
   "id": "4ded867a",
   "metadata": {},
   "outputs": [
    {
     "data": {
      "text/plain": [
       "'el,i'"
      ]
     },
     "execution_count": 23,
     "metadata": {},
     "output_type": "execute_result"
    }
   ],
   "source": [
    "s = '''Hello, it's me'''\n",
    "s[1:-5:2]"
   ]
  },
  {
   "cell_type": "code",
   "execution_count": 25,
   "id": "8d13580a",
   "metadata": {},
   "outputs": [
    {
     "ename": "TypeError",
     "evalue": "'str' object does not support item assignment",
     "output_type": "error",
     "traceback": [
      "\u001b[1;31m---------------------------------------------------------------------------\u001b[0m",
      "\u001b[1;31mTypeError\u001b[0m                                 Traceback (most recent call last)",
      "Cell \u001b[1;32mIn[25], line 2\u001b[0m\n\u001b[0;32m      1\u001b[0m S \u001b[38;5;241m=\u001b[39m \u001b[38;5;124m'\u001b[39m\u001b[38;5;124mCat\u001b[39m\u001b[38;5;124m'\u001b[39m\n\u001b[1;32m----> 2\u001b[0m \u001b[43mS\u001b[49m\u001b[43m[\u001b[49m\u001b[38;5;241;43m0\u001b[39;49m\u001b[43m]\u001b[49m \u001b[38;5;241m=\u001b[39m \u001b[38;5;124m'\u001b[39m\u001b[38;5;124mR\u001b[39m\u001b[38;5;124m'\u001b[39m\n",
      "\u001b[1;31mTypeError\u001b[0m: 'str' object does not support item assignment"
     ]
    }
   ],
   "source": [
    "S = 'Cat'\n",
    "S[0] = 'R'"
   ]
  },
  {
   "cell_type": "code",
   "execution_count": 26,
   "id": "1a9b6707",
   "metadata": {},
   "outputs": [
    {
     "data": {
      "text/plain": [
       "-1"
      ]
     },
     "execution_count": 26,
     "metadata": {},
     "output_type": "execute_result"
    }
   ],
   "source": [
    "S = \"Dog\"\n",
    "S[:1].find(\"g\")"
   ]
  },
  {
   "cell_type": "code",
   "execution_count": null,
   "id": "b2c321e7",
   "metadata": {},
   "outputs": [],
   "source": []
  }
 ],
 "metadata": {
  "kernelspec": {
   "display_name": "Python 3 (ipykernel)",
   "language": "python",
   "name": "python3"
  },
  "language_info": {
   "codemirror_mode": {
    "name": "ipython",
    "version": 3
   },
   "file_extension": ".py",
   "mimetype": "text/x-python",
   "name": "python",
   "nbconvert_exporter": "python",
   "pygments_lexer": "ipython3",
   "version": "3.11.3"
  }
 },
 "nbformat": 4,
 "nbformat_minor": 5
}
