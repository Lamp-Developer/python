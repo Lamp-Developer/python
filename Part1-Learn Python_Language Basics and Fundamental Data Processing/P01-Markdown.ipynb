{
 "cells": [
  {
   "cell_type": "markdown",
   "id": "b2f4a205",
   "metadata": {},
   "source": [
    "# Hello Markdown\n",
    "## Level 2 Heading\n",
    "### Level 3 Heading\n",
    "#### Level 4 Heading\n",
    "##### Level 5 Heading\n",
    "###### Level 6 Heading\n",
    "This is a paragraph. This is a paragraph. This is a paragraph. This is a paragraph.\n",
    "\n",
    "This is the second paragraph.\n",
    "\n",
    "---\n",
    "This is the third paragraph.\n",
    "\n",
    "we want to format **Bold** *ltalic*\n",
    "\n",
    "- Item 1\n",
    "- Item 2 \n",
    "- Item 3\n",
    "\n",
    "1. Item 1\n",
    "2. Item 2\n",
    "3. Item 3\n",
    "\n",
    "| ID | Score |\n",
    "|----|----|\n",
    "| 1 | 99 |\n",
    "| 2 | 76 |\n",
    "| 3 | 50 |\n",
    "| 4 | 84 |"
   ]
  },
  {
   "cell_type": "markdown",
   "id": "93381f88",
   "metadata": {},
   "source": [
    "![The last of us](https://sv1.picz.in.th/images/2023/05/21/FgUKfN.jpg)"
   ]
  },
  {
   "cell_type": "markdown",
   "id": "a2da9b2b",
   "metadata": {},
   "source": [
    "[Link main photo the last of us](https://sv1.picz.in.th/images/2023/05/21/FgUKfN.jpg)"
   ]
  }
 ],
 "metadata": {
  "kernelspec": {
   "display_name": "Python 3 (ipykernel)",
   "language": "python",
   "name": "python3"
  },
  "language_info": {
   "codemirror_mode": {
    "name": "ipython",
    "version": 3
   },
   "file_extension": ".py",
   "mimetype": "text/x-python",
   "name": "python",
   "nbconvert_exporter": "python",
   "pygments_lexer": "ipython3",
   "version": "3.11.3"
  }
 },
 "nbformat": 4,
 "nbformat_minor": 5
}
