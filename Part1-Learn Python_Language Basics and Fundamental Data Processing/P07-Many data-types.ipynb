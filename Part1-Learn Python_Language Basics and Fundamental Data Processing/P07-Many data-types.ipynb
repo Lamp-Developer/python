{
 "cells": [
  {
   "cell_type": "markdown",
   "id": "993d6f2c",
   "metadata": {},
   "source": [
    "## Working with Different Data Types (1)"
   ]
  },
  {
   "cell_type": "markdown",
   "id": "de0cfb51",
   "metadata": {},
   "source": [
    "Let's observe the **data types** of expressions involving operands of the **same data types**."
   ]
  },
  {
   "cell_type": "code",
   "execution_count": 1,
   "id": "1d5f32b2",
   "metadata": {},
   "outputs": [
    {
     "name": "stdout",
     "output_type": "stream",
     "text": [
      "<class 'int'>\n"
     ]
    }
   ],
   "source": [
    "print(type(78 + 59))"
   ]
  },
  {
   "cell_type": "code",
   "execution_count": 2,
   "id": "65f8c58e",
   "metadata": {},
   "outputs": [
    {
     "name": "stdout",
     "output_type": "stream",
     "text": [
      "<class 'int'>\n"
     ]
    }
   ],
   "source": [
    "print(type(72 + 92 * 12))"
   ]
  },
  {
   "cell_type": "code",
   "execution_count": 3,
   "id": "1ba38b0d",
   "metadata": {},
   "outputs": [
    {
     "name": "stdout",
     "output_type": "stream",
     "text": [
      "<class 'float'>\n"
     ]
    }
   ],
   "source": [
    "print(type(15.8 - 12.7))"
   ]
  },
  {
   "cell_type": "code",
   "execution_count": 5,
   "id": "a3e64fcf",
   "metadata": {},
   "outputs": [
    {
     "name": "stdout",
     "output_type": "stream",
     "text": [
      "<class 'complex'>\n"
     ]
    }
   ],
   "source": [
    "print(type(1j + 8j))"
   ]
  },
  {
   "cell_type": "markdown",
   "id": "920eb099",
   "metadata": {},
   "source": [
    "We can see that binary Arithmetic operators with *both operands being of similar data types* result in\n",
    "values with the *same data types of the operands*.|"
   ]
  },
  {
   "cell_type": "markdown",
   "id": "4f9ce229",
   "metadata": {},
   "source": [
    "Except for the division operator."
   ]
  },
  {
   "cell_type": "code",
   "execution_count": 6,
   "id": "5f9987ab",
   "metadata": {},
   "outputs": [
    {
     "name": "stdout",
     "output_type": "stream",
     "text": [
      "<class 'float'>\n"
     ]
    }
   ],
   "source": [
    "print(type(2 / 2))"
   ]
  },
  {
   "cell_type": "markdown",
   "id": "df9ad263",
   "metadata": {},
   "source": [
    "We can see that whether the operands were either `int` or `float`, the results were always `float`. This\n",
    "makes sense since the result of a division can have ‘decimal points*."
   ]
  },
  {
   "cell_type": "markdown",
   "id": "5a90a014",
   "metadata": {},
   "source": [
    "Now, let's try dividing complex numbers."
   ]
  },
  {
   "cell_type": "code",
   "execution_count": 3,
   "id": "c238fce1",
   "metadata": {},
   "outputs": [
    {
     "name": "stdout",
     "output_type": "stream",
     "text": [
      "1.8329896907216494\n",
      "<class 'float'>\n"
     ]
    }
   ],
   "source": [
    "cl = 4445\n",
    "c2 = 2425\n",
    "print(cl / c2)\n",
    "print(type(cl / c2))"
   ]
  },
  {
   "cell_type": "markdown",
   "id": "1a5785e8",
   "metadata": {},
   "source": [
    "This, again, made sense since a division of two complex numbers can result in another complex number."
   ]
  },
  {
   "cell_type": "markdown",
   "id": "ee8a0dc9",
   "metadata": {},
   "source": [
    "## Working with Different Data Types (2)\n",
    "\n",
    "### Polymorphic Operators\n",
    "\n"
   ]
  },
  {
   "cell_type": "markdown",
   "id": "fa263aca",
   "metadata": {},
   "source": [
    "### Arithmetic Addition & String Concatenation"
   ]
  },
  {
   "cell_type": "markdown",
   "id": "1015632e",
   "metadata": {},
   "source": [
    "The `+` symbol performs *Arithmetic Addition* when both operands are *numbers*."
   ]
  },
  {
   "cell_type": "code",
   "execution_count": 5,
   "id": "f44f2c71",
   "metadata": {},
   "outputs": [
    {
     "name": "stdout",
     "output_type": "stream",
     "text": [
      "4\n",
      "9.8\n"
     ]
    }
   ],
   "source": [
    "print(2 + 2)\n",
    "print(2.0 + 3.5 + 4.3)"
   ]
  },
  {
   "cell_type": "markdown",
   "id": "d2eb8694",
   "metadata": {},
   "source": [
    "The `+` symbol performs *String Concatenation* when both operands are `str`."
   ]
  },
  {
   "cell_type": "code",
   "execution_count": 7,
   "id": "94e1a6a5",
   "metadata": {},
   "outputs": [
    {
     "name": "stdout",
     "output_type": "stream",
     "text": [
      "123\n"
     ]
    }
   ],
   "source": [
    "s = \"1\" + \"2\" + \"3\"\n",
    "print(s)"
   ]
  },
  {
   "cell_type": "markdown",
   "id": "5dd752e9",
   "metadata": {},
   "source": [
    "Mixing `str` and *numbers* as operands of `+` results in an **error** since the operator *does not\n",
    "support* such a data type combination."
   ]
  },
  {
   "cell_type": "code",
   "execution_count": 8,
   "id": "ac7dca36",
   "metadata": {},
   "outputs": [
    {
     "ename": "TypeError",
     "evalue": "can only concatenate str (not \"int\") to str",
     "output_type": "error",
     "traceback": [
      "\u001b[1;31m---------------------------------------------------------------------------\u001b[0m",
      "\u001b[1;31mTypeError\u001b[0m                                 Traceback (most recent call last)",
      "Cell \u001b[1;32mIn[8], line 2\u001b[0m\n\u001b[0;32m      1\u001b[0m x\u001b[38;5;241m=\u001b[39m \u001b[38;5;241m32\u001b[39m\n\u001b[1;32m----> 2\u001b[0m \u001b[38;5;28mprint\u001b[39m(\u001b[38;5;124;43m\"\u001b[39;49m\u001b[38;5;124;43mThe number is \u001b[39;49m\u001b[38;5;124;43m\"\u001b[39;49m\u001b[43m \u001b[49m\u001b[38;5;241;43m+\u001b[39;49m\u001b[43m \u001b[49m\u001b[43mx\u001b[49m)\n",
      "\u001b[1;31mTypeError\u001b[0m: can only concatenate str (not \"int\") to str"
     ]
    }
   ],
   "source": [
    "x= 32\n",
    "print(\"The number is \" + x)"
   ]
  },
  {
   "cell_type": "markdown",
   "id": "2e9d45f9",
   "metadata": {},
   "source": [
    "### Arithmetic Multiplication & String Multiplication"
   ]
  },
  {
   "cell_type": "markdown",
   "id": "f8717143",
   "metadata": {},
   "source": [
    "The `*` symbol performs *Arithmetic Multiplication* when both operands are *numbers*."
   ]
  },
  {
   "cell_type": "code",
   "execution_count": 9,
   "id": "0a952e55",
   "metadata": {},
   "outputs": [
    {
     "name": "stdout",
     "output_type": "stream",
     "text": [
      "-1.0\n",
      "1000\n"
     ]
    }
   ],
   "source": [
    "print(2 * -0.5)\n",
    "print(10 * 10 * 10)"
   ]
  },
  {
   "cell_type": "markdown",
   "id": "eb5e29c8",
   "metadata": {},
   "source": [
    "The `*` symbol performs *String Multiplication* when one operand is `str` while the other is `int`."
   ]
  },
  {
   "cell_type": "code",
   "execution_count": 11,
   "id": "4cd8e75c",
   "metadata": {},
   "outputs": [
    {
     "name": "stdout",
     "output_type": "stream",
     "text": [
      "(*__*)(*__*)(*__*)\n",
      "(* __*)(* __*)(* __*)(* __*)(* __*)(* __*)(* __*)(* __*)(* __*)(* __*)\n"
     ]
    }
   ],
   "source": [
    "print(\"(*__*)\" * 3)\n",
    "print(10 * \"(* __*)\")"
   ]
  },
  {
   "cell_type": "markdown",
   "id": "971ee6d5",
   "metadata": {},
   "source": [
    "In *String Multiplication*, the number **must** be `int` only."
   ]
  },
  {
   "cell_type": "markdown",
   "id": "e55a5783",
   "metadata": {},
   "source": [
    "## Working with Different Data Types (3)"
   ]
  },
  {
   "cell_type": "markdown",
   "id": "82afa919",
   "metadata": {},
   "source": [
    "## Implicit Data Type Conversion\n",
    "\n",
    "- Occurs *automatically*\n",
    "- **Implicit Data Type Conversion** always promote data type capable of holding *less information* to data type capable of holding *more information*."
   ]
  },
  {
   "cell_type": "code",
   "execution_count": 12,
   "id": "5803a6df",
   "metadata": {},
   "outputs": [
    {
     "name": "stdout",
     "output_type": "stream",
     "text": [
      "<class 'float'>\n"
     ]
    }
   ],
   "source": [
    "print(type(32 * 5.0))"
   ]
  },
  {
   "cell_type": "markdown",
   "id": "ae91c4b5",
   "metadata": {},
   "source": [
    "In the above statement, the ~int~ value of 32 was **converted** to ~float> and then **multiplied** with\n",
    "5.0."
   ]
  },
  {
   "cell_type": "code",
   "execution_count": 13,
   "id": "025ac140",
   "metadata": {},
   "outputs": [
    {
     "name": "stdout",
     "output_type": "stream",
     "text": [
      "<class 'int'>\n",
      "<class 'complex'>\n"
     ]
    }
   ],
   "source": [
    "print(type(5 * (3 + 23)))\n",
    "print(type((1 + 1j) + -0.5))"
   ]
  },
  {
   "cell_type": "markdown",
   "id": "73377584",
   "metadata": {},
   "source": [
    "In the code above, both `int` and `float` were **converted** to `complex` before being used as operands\n",
    "in their respective statements."
   ]
  },
  {
   "cell_type": "markdown",
   "id": "8de49563",
   "metadata": {},
   "source": [
    "## Working with Different Data Types (4)"
   ]
  },
  {
   "cell_type": "markdown",
   "id": "932e3292",
   "metadata": {},
   "source": [
    "## Explicit Data Type Conversion\n",
    "\n",
    "We use *typecasting functions* to convert data to the desired data types.\n",
    "\n",
    "Typecasting functions include (but not limited to):\n",
    "- `int()`\n",
    "- `float()`\n",
    "- `complex()`\n",
    "- `str()`\n",
    "- `bool()`"
   ]
  },
  {
   "cell_type": "markdown",
   "id": "a73791cd",
   "metadata": {},
   "source": [
    "### An example situation in which explicit data type conversion is needed."
   ]
  },
  {
   "cell_type": "code",
   "execution_count": 17,
   "id": "9a13ac2d",
   "metadata": {},
   "outputs": [
    {
     "name": "stdout",
     "output_type": "stream",
     "text": [
      "Please enter n:2\n",
      "n = 2 --> n*10 = 1024.0\n"
     ]
    }
   ],
   "source": [
    "# This program calculates n*10, where n is a number entered by the user.\n",
    "n = input(\"Please enter n:\")\n",
    "result = float(n) ** 10\n",
    "# Show the output as n = [the input] --> n*10 = [the result]\n",
    "print(\"n = \"+n +\" --> n*10 = \" + str(result))"
   ]
  },
  {
   "cell_type": "markdown",
   "id": "a6fb3d3d",
   "metadata": {},
   "source": [
    "## `int()`"
   ]
  },
  {
   "cell_type": "code",
   "execution_count": 21,
   "id": "8e6e38c4",
   "metadata": {},
   "outputs": [
    {
     "name": "stdout",
     "output_type": "stream",
     "text": [
      "1\n",
      "12\n",
      "1\n",
      "0\n"
     ]
    }
   ],
   "source": [
    "print(int(1.8))\n",
    "# print (int(2+2j))\n",
    "print(int(\"12\"))\n",
    "# print (int(\"12.5\"))\n",
    "# print (int(\"Hello\"))\n",
    "print (int (True) )\n",
    "print (int(False))"
   ]
  },
  {
   "cell_type": "markdown",
   "id": "12736983",
   "metadata": {},
   "source": [
    "## `float()`"
   ]
  },
  {
   "cell_type": "code",
   "execution_count": 23,
   "id": "65ac1066",
   "metadata": {
    "scrolled": true
   },
   "outputs": [
    {
     "name": "stdout",
     "output_type": "stream",
     "text": [
      "1.0\n",
      "12.0\n",
      "12.5\n",
      "1.0\n",
      "0.0\n"
     ]
    }
   ],
   "source": [
    "print (float(1))\n",
    "# print (float (2+2j))\n",
    "print (float(\"12\"))\n",
    "print (float(\"12.5\"))\n",
    "print (float (True) )\n",
    "print (float (False) )"
   ]
  },
  {
   "cell_type": "markdown",
   "id": "8e417bc5",
   "metadata": {},
   "source": [
    "## `complex()`"
   ]
  },
  {
   "cell_type": "code",
   "execution_count": 24,
   "id": "f1a41138",
   "metadata": {},
   "outputs": [
    {
     "name": "stdout",
     "output_type": "stream",
     "text": [
      "(1+0j)\n",
      "(1.8+0j)\n",
      "(12+0j)\n",
      "(12.5+0j)\n",
      "(1+0j)\n",
      "0j\n"
     ]
    }
   ],
   "source": [
    "print (complex(1))\n",
    "print (complex(1.8))\n",
    "print (complex(\"12\"))\n",
    "print (complex(\"12.5\"))\n",
    "print (complex (True) )\n",
    "print (complex(False))"
   ]
  },
  {
   "cell_type": "markdown",
   "id": "95f11cca",
   "metadata": {},
   "source": [
    "To create a new complex number with `complex()`, we can use `complex(re,im)` (called a *constructor\n",
    "function*)."
   ]
  },
  {
   "cell_type": "code",
   "execution_count": 25,
   "id": "34d7f673",
   "metadata": {},
   "outputs": [
    {
     "name": "stdout",
     "output_type": "stream",
     "text": [
      "(1+1j)\n",
      "(1.5-1j)\n",
      "(1+0j)\n",
      "1j\n"
     ]
    }
   ],
   "source": [
    "print (complex(1,1))\n",
    "print (complex(1.5,-1.0))\n",
    "print (complex(1,0))\n",
    "print (complex(0,1))"
   ]
  },
  {
   "cell_type": "markdown",
   "id": "403f1757",
   "metadata": {},
   "source": [
    "## `str()`"
   ]
  },
  {
   "cell_type": "code",
   "execution_count": 26,
   "id": "b432c100",
   "metadata": {},
   "outputs": [
    {
     "name": "stdout",
     "output_type": "stream",
     "text": [
      "1\n",
      "1.8\n",
      "(2+2j)\n",
      "True\n",
      "False\n"
     ]
    }
   ],
   "source": [
    "print (str(1))\n",
    "print(str(1.8))\n",
    "print (str(2+2j))\n",
    "print (str(True))\n",
    "print (str(False))"
   ]
  },
  {
   "cell_type": "markdown",
   "id": "0cf3c739",
   "metadata": {},
   "source": [
    "## `bool()`"
   ]
  },
  {
   "cell_type": "code",
   "execution_count": 29,
   "id": "5c4c20d0",
   "metadata": {},
   "outputs": [
    {
     "name": "stdout",
     "output_type": "stream",
     "text": [
      "True\n",
      "True\n",
      "True\n",
      "True\n",
      "True\n",
      "True\n",
      "----------\n",
      "False\n",
      "False\n",
      "False\n",
      "False\n",
      "----------\n",
      "True\n"
     ]
    }
   ],
   "source": [
    "print (bool(1))\n",
    "print (bool(1.8))\n",
    "print (bool(2+23))\n",
    "print (bool(\"12\"))\n",
    "print (bool(\"12.5\"))\n",
    "print (bool(\"HELLO\") )\n",
    "print(\"-\"*10)\n",
    "print (bool(0))\n",
    "print (bool(0.0))\n",
    "print (bool (0+0j))\n",
    "print(bool(\"\"))\n",
    "print(\"-\"*10)\n",
    "print (bool(\"False\"))"
   ]
  },
  {
   "cell_type": "code",
   "execution_count": 35,
   "id": "947cc340",
   "metadata": {},
   "outputs": [
    {
     "name": "stdout",
     "output_type": "stream",
     "text": [
      "3\n",
      " 1 + 2 \n",
      " 1  +  2 \n"
     ]
    }
   ],
   "source": [
    "print( 1 + 2 )\n",
    "print(\" 1 + 2 \")\n",
    "#print(\" 1 \" + 2 ) Error\n",
    "print(\" 1 \" + \" + \" + ' 2 ')"
   ]
  }
 ],
 "metadata": {
  "kernelspec": {
   "display_name": "Python 3 (ipykernel)",
   "language": "python",
   "name": "python3"
  },
  "language_info": {
   "codemirror_mode": {
    "name": "ipython",
    "version": 3
   },
   "file_extension": ".py",
   "mimetype": "text/x-python",
   "name": "python",
   "nbconvert_exporter": "python",
   "pygments_lexer": "ipython3",
   "version": "3.11.3"
  }
 },
 "nbformat": 4,
 "nbformat_minor": 5
}
