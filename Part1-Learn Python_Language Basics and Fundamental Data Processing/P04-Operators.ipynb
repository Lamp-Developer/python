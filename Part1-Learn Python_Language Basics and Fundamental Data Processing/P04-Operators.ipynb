{
 "cells": [
  {
   "cell_type": "markdown",
   "id": "219d40c6",
   "metadata": {},
   "source": [
    "## Operators\n",
    "\n",
    "Operators perform operations on values (via literals or in variables)."
   ]
  },
  {
   "cell_type": "markdown",
   "id": "ceeeb853",
   "metadata": {},
   "source": [
    "## Arithmetic Operators\n",
    "\n",
    "### Addition, Substraction, Multiplication, Division"
   ]
  },
  {
   "cell_type": "code",
   "execution_count": 1,
   "id": "33bfc256",
   "metadata": {},
   "outputs": [
    {
     "name": "stdout",
     "output_type": "stream",
     "text": [
      "25\n",
      "15\n",
      "100\n",
      "4.0\n"
     ]
    }
   ],
   "source": [
    "a = 20\n",
    "b=5\n",
    "print(a+b) # Addition\n",
    "print(a-b) # Subtraction\n",
    "print(a*b) # Multiplication\n",
    "print(a/b) # Division"
   ]
  },
  {
   "cell_type": "markdown",
   "id": "6df01837",
   "metadata": {},
   "source": [
    "### Unary Minus\n",
    "\n",
    "A unary minus *inverses the polarity* of the numeric operand."
   ]
  },
  {
   "cell_type": "code",
   "execution_count": 2,
   "id": "a21fa37b",
   "metadata": {},
   "outputs": [
    {
     "name": "stdout",
     "output_type": "stream",
     "text": [
      "-2\n",
      "5\n"
     ]
    }
   ],
   "source": [
    "a=2\n",
    "print(-a)\n",
    "b= -5\n",
    "print(-b)"
   ]
  },
  {
   "cell_type": "markdown",
   "id": "3247423d",
   "metadata": {},
   "source": [
    "### Modulus\n",
    "\n",
    "A modulus(`a % b` reads as \"a modulo b\") finds the *remainder* resulting from dividing the left operand\n",
    "(`a`) with the right operand (`b`)."
   ]
  },
  {
   "cell_type": "code",
   "execution_count": 3,
   "id": "1e2a113b",
   "metadata": {},
   "outputs": [
    {
     "name": "stdout",
     "output_type": "stream",
     "text": [
      "1\n",
      "0\n",
      "4\n"
     ]
    }
   ],
   "source": [
    "x= 25\n",
    "print(x % 4) # Since 25 = 4*6 +1\n",
    "print(x % 5) # Since 25 = 5*5 + 0\n",
    "print(x % 7) # Since 25 = 7*3 + 4"
   ]
  },
  {
   "cell_type": "markdown",
   "id": "d6a9e716",
   "metadata": {},
   "source": [
    "We cannot divide or modulo with 0."
   ]
  },
  {
   "cell_type": "code",
   "execution_count": 4,
   "id": "8ac31660",
   "metadata": {},
   "outputs": [
    {
     "ename": "ZeroDivisionError",
     "evalue": "division by zero",
     "output_type": "error",
     "traceback": [
      "\u001b[1;31m---------------------------------------------------------------------------\u001b[0m",
      "\u001b[1;31mZeroDivisionError\u001b[0m                         Traceback (most recent call last)",
      "Cell \u001b[1;32mIn[4], line 1\u001b[0m\n\u001b[1;32m----> 1\u001b[0m \u001b[38;5;28mprint\u001b[39m(\u001b[38;5;241;43m2\u001b[39;49m\u001b[38;5;241;43m/\u001b[39;49m\u001b[38;5;241;43m0\u001b[39;49m)\n",
      "\u001b[1;31mZeroDivisionError\u001b[0m: division by zero"
     ]
    }
   ],
   "source": [
    "print(2/0)"
   ]
  },
  {
   "cell_type": "code",
   "execution_count": 5,
   "id": "59164420",
   "metadata": {},
   "outputs": [
    {
     "ename": "ZeroDivisionError",
     "evalue": "integer modulo by zero",
     "output_type": "error",
     "traceback": [
      "\u001b[1;31m---------------------------------------------------------------------------\u001b[0m",
      "\u001b[1;31mZeroDivisionError\u001b[0m                         Traceback (most recent call last)",
      "Cell \u001b[1;32mIn[5], line 1\u001b[0m\n\u001b[1;32m----> 1\u001b[0m \u001b[38;5;28mprint\u001b[39m(\u001b[38;5;241;43m2\u001b[39;49m\u001b[38;5;241;43m%\u001b[39;49m\u001b[38;5;241;43m0\u001b[39;49m)\n",
      "\u001b[1;31mZeroDivisionError\u001b[0m: integer modulo by zero"
     ]
    }
   ],
   "source": [
    "print(2%0)"
   ]
  },
  {
   "cell_type": "markdown",
   "id": "0adbdaa8",
   "metadata": {},
   "source": [
    "### Exponentiation\n",
    "\n",
    "An exponentiation (`a ** b`) finds the value of the left operand ( `a` ) raised to the power of the value of the right operand (`b`).\n"
   ]
  },
  {
   "cell_type": "code",
   "execution_count": 6,
   "id": "cbe7572f",
   "metadata": {},
   "outputs": [
    {
     "name": "stdout",
     "output_type": "stream",
     "text": [
      "8\n",
      "625\n",
      "1\n",
      "0.5\n"
     ]
    }
   ],
   "source": [
    "print(2 ** 3)\n",
    "print(5 ** 4)\n",
    "print(99 ** 0) # Since any numbers raised to the power of 0 is 1\n",
    "print(2 ** -1) # Since it is 1/2"
   ]
  },
  {
   "cell_type": "markdown",
   "id": "80c8d5ff",
   "metadata": {},
   "source": [
    "### Floor Division\n",
    "\n",
    "A floor division (`//`) is a *division* that *rounds* the result *down* to the *nearest integer* (the\n",
    "next smaller integer).\n"
   ]
  },
  {
   "cell_type": "code",
   "execution_count": 7,
   "id": "f85ba582",
   "metadata": {},
   "outputs": [
    {
     "name": "stdout",
     "output_type": "stream",
     "text": [
      "10.666666666666666\n",
      "10\n",
      "-10.666666666666666\n",
      "-11\n"
     ]
    }
   ],
   "source": [
    "print(32 / 3)\n",
    "print(32 // 3)\n",
    "print(-32 / 3)\n",
    "print(-32 // 3)"
   ]
  },
  {
   "cell_type": "markdown",
   "id": "efe8a1ef",
   "metadata": {},
   "source": [
    "## Assignment Operators\n",
    "\n",
    "An *assignment operator* assigns a value to a variable."
   ]
  },
  {
   "cell_type": "markdown",
   "id": "5d7e8526",
   "metadata": {},
   "source": [
    "### Simple assignment operator\n",
    "We are already familiar with the (simple) assignment operator.\n"
   ]
  },
  {
   "cell_type": "code",
   "execution_count": 10,
   "id": "dec80320",
   "metadata": {},
   "outputs": [
    {
     "name": "stdout",
     "output_type": "stream",
     "text": [
      "3\n",
      "5\n"
     ]
    }
   ],
   "source": [
    "a = 3\n",
    "print(a)\n",
    "b = 4\n",
    "a = b + 1\n",
    "print(a)"
   ]
  },
  {
   "cell_type": "markdown",
   "id": "44a98b76",
   "metadata": {},
   "source": [
    "### Compound assignment operator\n",
    "In many circumstances, we might want to *tapply an operator* on a variable and, consequently, *re-assign\n",
    "the resulting value back* to the same variable"
   ]
  },
  {
   "cell_type": "code",
   "execution_count": 12,
   "id": "7f0cb17d",
   "metadata": {},
   "outputs": [
    {
     "name": "stdout",
     "output_type": "stream",
     "text": [
      "2\n",
      "5\n"
     ]
    }
   ],
   "source": [
    "a = 2\n",
    "print(a)\n",
    "a = a + 3\n",
    "print(a)"
   ]
  },
  {
   "cell_type": "code",
   "execution_count": 13,
   "id": "eac3615c",
   "metadata": {},
   "outputs": [
    {
     "name": "stdout",
     "output_type": "stream",
     "text": [
      "2\n",
      "5\n"
     ]
    }
   ],
   "source": [
    "a=2\n",
    "print(a)\n",
    "a += 3 # Similar toa =a + 3\n",
    "print(a)"
   ]
  },
  {
   "cell_type": "code",
   "execution_count": 15,
   "id": "213cef3e",
   "metadata": {},
   "outputs": [
    {
     "name": "stdout",
     "output_type": "stream",
     "text": [
      "54\n",
      "295\n",
      "11.8\n",
      "4\n",
      "714924299\n",
      "11\n"
     ]
    }
   ],
   "source": [
    "a = b = c = d = e = f = 59\n",
    "a-=5\n",
    "print(a)\n",
    "b *= 5\n",
    "print(b)\n",
    "c/=5\n",
    "print(c)\n",
    "d %= 5\n",
    "print(d)\n",
    "e **= 5\n",
    "print(e)\n",
    "f //= 5\n",
    "print(f)"
   ]
  },
  {
   "cell_type": "markdown",
   "id": "717d142f",
   "metadata": {},
   "source": [
    "## Comparison Operators\n",
    "\n",
    "A comparison operator *compares two values*. it returns `True` or `False`."
   ]
  },
  {
   "cell_type": "code",
   "execution_count": 16,
   "id": "94956e5c",
   "metadata": {},
   "outputs": [
    {
     "name": "stdout",
     "output_type": "stream",
     "text": [
      "True\n",
      "False\n",
      "False\n",
      "False\n",
      "True\n",
      "True\n"
     ]
    }
   ],
   "source": [
    "a= 20\n",
    "print(a == 20) # is equal to ?\n",
    "print(a != 20) # is NOT equal to ?\n",
    "print(a > 20) # is greater than ?\n",
    "print(a < 20) # is less than ?\n",
    "print(a >= 20) # is greater than or equal to ?\n",
    "print(a <= 20) # is less than or equal to ?"
   ]
  },
  {
   "cell_type": "markdown",
   "id": "d7752d89",
   "metadata": {},
   "source": [
    "## Logical Operators\n",
    "\n",
    "A logical operator performs a *boolean operation* (AND, OR, NOT)."
   ]
  },
  {
   "cell_type": "markdown",
   "id": "0b39004d",
   "metadata": {},
   "source": [
    "The logical `and` returns `True` if and only if both operands are `True`."
   ]
  },
  {
   "cell_type": "code",
   "execution_count": 17,
   "id": "fde13d92",
   "metadata": {},
   "outputs": [
    {
     "name": "stdout",
     "output_type": "stream",
     "text": [
      "True\n",
      "False\n",
      "False\n"
     ]
    }
   ],
   "source": [
    "p = True\n",
    "q = False\n",
    "print(p and p)\n",
    "print(p and q)\n",
    "print(q and q)"
   ]
  },
  {
   "cell_type": "markdown",
   "id": "6cf9ed57",
   "metadata": {},
   "source": [
    "The logical `or` operator returns `False` if and only if both operands are `False`."
   ]
  },
  {
   "cell_type": "code",
   "execution_count": 18,
   "id": "b1ff6d6f",
   "metadata": {},
   "outputs": [
    {
     "name": "stdout",
     "output_type": "stream",
     "text": [
      "True\n",
      "True\n",
      "False\n"
     ]
    }
   ],
   "source": [
    "p = True\n",
    "q = False\n",
    "print(p or p)\n",
    "print(p or q)\n",
    "print(q or q)"
   ]
  },
  {
   "cell_type": "markdown",
   "id": "e0fd4cfe",
   "metadata": {},
   "source": [
    "The logical `not` operator *negates* the boolean value of the operand."
   ]
  },
  {
   "cell_type": "code",
   "execution_count": 19,
   "id": "71bc1381",
   "metadata": {},
   "outputs": [
    {
     "name": "stdout",
     "output_type": "stream",
     "text": [
      "False\n",
      "True\n"
     ]
    }
   ],
   "source": [
    "p = True\n",
    "q = False\n",
    "print(not p)\n",
    "print(not q)"
   ]
  },
  {
   "cell_type": "markdown",
   "id": "de2c7579",
   "metadata": {},
   "source": [
    "Usually, *comparison operators* are used together with *logical operators."
   ]
  },
  {
   "cell_type": "code",
   "execution_count": 20,
   "id": "d0b05ee2",
   "metadata": {},
   "outputs": [
    {
     "name": "stdout",
     "output_type": "stream",
     "text": [
      "Tell me your name: jinny\n",
      "False\n"
     ]
    }
   ],
   "source": [
    "username = input(\"Tell me your name: \")\n",
    "print(username == \"John\" or username == \"Jim\")"
   ]
  },
  {
   "cell_type": "code",
   "execution_count": 21,
   "id": "f7e5c1f6",
   "metadata": {},
   "outputs": [
    {
     "name": "stdout",
     "output_type": "stream",
     "text": [
      "6\n"
     ]
    }
   ],
   "source": [
    "print( 13 // 2 )"
   ]
  },
  {
   "cell_type": "code",
   "execution_count": 22,
   "id": "f30a4199",
   "metadata": {},
   "outputs": [
    {
     "name": "stdout",
     "output_type": "stream",
     "text": [
      "6\n"
     ]
    }
   ],
   "source": [
    "x = 3\n",
    "x *= 2\n",
    "print(x)"
   ]
  }
 ],
 "metadata": {
  "kernelspec": {
   "display_name": "Python 3 (ipykernel)",
   "language": "python",
   "name": "python3"
  },
  "language_info": {
   "codemirror_mode": {
    "name": "ipython",
    "version": 3
   },
   "file_extension": ".py",
   "mimetype": "text/x-python",
   "name": "python",
   "nbconvert_exporter": "python",
   "pygments_lexer": "ipython3",
   "version": "3.11.3"
  }
 },
 "nbformat": 4,
 "nbformat_minor": 5
}
