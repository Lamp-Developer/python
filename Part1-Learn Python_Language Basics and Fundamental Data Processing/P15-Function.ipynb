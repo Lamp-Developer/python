{
 "cells": [
  {
   "cell_type": "markdown",
   "id": "58f28664",
   "metadata": {},
   "source": [
    "## FUNCTION\n",
    "\n",
    "Function is a **subprogram**, a block of codes, that performs a specific task."
   ]
  },
  {
   "cell_type": "markdown",
   "id": "b4b7ae57",
   "metadata": {},
   "source": [
    "   ## Python's built-in functions"
   ]
  },
  {
   "cell_type": "markdown",
   "id": "6a7198af",
   "metadata": {},
   "source": [
    "<img style=\"border-radius: 1%\" src=\"https://www.blog.pythonlibrary.org/wp-content/uploads/2023/03/builtins.png\" width=600 hight=400>"
   ]
  },
  {
   "cell_type": "markdown",
   "id": "8bcac85d",
   "metadata": {},
   "source": [
    "### How to use these functions:\n",
    "\n",
    "We must know:\n",
    "\n",
    "1. What arguments it takes.\n",
    "2. What value it returns."
   ]
  },
  {
   "cell_type": "code",
   "execution_count": 2,
   "id": "f6fe6892",
   "metadata": {},
   "outputs": [
    {
     "name": "stdout",
     "output_type": "stream",
     "text": [
      "10\n"
     ]
    }
   ],
   "source": [
    "a = abs(-10)\n",
    "print(a)"
   ]
  },
  {
   "cell_type": "markdown",
   "id": "26ca1ec7",
   "metadata": {},
   "source": [
    "### Benefits of functions\n",
    "To increase :\n",
    "\n",
    "- Modularity\n",
    "- Readability\n",
    "- Reusability\n",
    "- Maintainability"
   ]
  },
  {
   "cell_type": "markdown",
   "id": "32d09506",
   "metadata": {},
   "source": [
    "## Creating a user-defined function\n",
    "\n",
    "\tdef foo(n, a):\n",
    "\t\tif n == 0: return 1\n",
    "\t\treturn a**n\n",
    "\n",
    "### Components:\n",
    "\n",
    "- def keyword is to **define a function**\n",
    "\n",
    "- foo is **function name**\n",
    "\n",
    "- n,a are (optional) **parameter names**\n",
    "\n",
    "- return (optional)statement will return the output of the function if any; otherwise returns None object."
   ]
  },
  {
   "cell_type": "code",
   "execution_count": 6,
   "id": "8c8c5a4f",
   "metadata": {},
   "outputs": [],
   "source": [
    "def foo():\n",
    "    print('Hello')"
   ]
  },
  {
   "cell_type": "code",
   "execution_count": 4,
   "id": "5d2ccd7c",
   "metadata": {},
   "outputs": [
    {
     "data": {
      "text/plain": [
       "function"
      ]
     },
     "execution_count": 4,
     "metadata": {},
     "output_type": "execute_result"
    }
   ],
   "source": [
    "type(foo)"
   ]
  },
  {
   "cell_type": "code",
   "execution_count": 7,
   "id": "7a28ab8f",
   "metadata": {},
   "outputs": [
    {
     "name": "stdout",
     "output_type": "stream",
     "text": [
      "<function foo at 0x000002B361EA40E0>\n"
     ]
    }
   ],
   "source": [
    "print(foo)"
   ]
  },
  {
   "cell_type": "markdown",
   "id": "0f620912",
   "metadata": {},
   "source": [
    "### Calling functions"
   ]
  },
  {
   "cell_type": "code",
   "execution_count": 8,
   "id": "772b7555",
   "metadata": {},
   "outputs": [
    {
     "name": "stdout",
     "output_type": "stream",
     "text": [
      "Hello\n"
     ]
    }
   ],
   "source": [
    "foo()"
   ]
  },
  {
   "cell_type": "markdown",
   "id": "1eca82b7",
   "metadata": {},
   "source": [
    "## Parameters & Arguments\n",
    "\n",
    "- Aparameter is the variable defined in the function definition (listed inside the parentheses after function name).\n",
    "- An argument is the actual value passed to the function when it is called."
   ]
  },
  {
   "cell_type": "code",
   "execution_count": 10,
   "id": "5e5b2b3a",
   "metadata": {},
   "outputs": [],
   "source": [
    "def foo(name):\n",
    "\tprint(f\"Hi, my name is {name}\")"
   ]
  },
  {
   "cell_type": "code",
   "execution_count": 11,
   "id": "4af33f71",
   "metadata": {},
   "outputs": [
    {
     "name": "stdout",
     "output_type": "stream",
     "text": [
      "Hi, my name is Thanyawit\n"
     ]
    }
   ],
   "source": [
    "foo('Thanyawit')"
   ]
  },
  {
   "cell_type": "code",
   "execution_count": 12,
   "id": "1c69aa20",
   "metadata": {},
   "outputs": [],
   "source": [
    "def foo(first_name, nick_name):\n",
    "\tprint(f\"Hi, I am {first_name}; you can call me {nick_name}.\")"
   ]
  },
  {
   "cell_type": "code",
   "execution_count": 18,
   "id": "f78bb603",
   "metadata": {},
   "outputs": [
    {
     "name": "stdout",
     "output_type": "stream",
     "text": [
      "Hi, I am Thanyawit; you can call me Takeing(Lmap).\n"
     ]
    }
   ],
   "source": [
    "foo('Thanyawit','Takeing(Lmap)')"
   ]
  },
  {
   "cell_type": "code",
   "execution_count": 19,
   "id": "ac7c70c5",
   "metadata": {},
   "outputs": [
    {
     "name": "stdout",
     "output_type": "stream",
     "text": [
      "Hi, I am Thanyawit; you can call me Takeing(Lamp).\n"
     ]
    }
   ],
   "source": [
    "foo('Thanyawit','Takeing(Lamp)')"
   ]
  },
  {
   "cell_type": "code",
   "execution_count": 20,
   "id": "8e8dbd13",
   "metadata": {},
   "outputs": [
    {
     "name": "stdout",
     "output_type": "stream",
     "text": [
      "Hi, I am Takeing(lamp); you can call me Thnayawit.\n"
     ]
    }
   ],
   "source": [
    "foo('Takeing(lamp)',('Thnayawit'))"
   ]
  },
  {
   "cell_type": "markdown",
   "id": "46aabdc6",
   "metadata": {},
   "source": [
    "### Keyword arguments"
   ]
  },
  {
   "cell_type": "code",
   "execution_count": 26,
   "id": "b7f74db9",
   "metadata": {},
   "outputs": [
    {
     "name": "stdout",
     "output_type": "stream",
     "text": [
      "Hi, I am Thanyawit; you can call me Takeing(Lamp).\n"
     ]
    }
   ],
   "source": [
    "foo(nick_name = 'Takeing(Lamp)', first_name='Thanyawit')"
   ]
  },
  {
   "cell_type": "markdown",
   "id": "3d29372a",
   "metadata": {},
   "source": [
    "### Default arguments"
   ]
  },
  {
   "cell_type": "code",
   "execution_count": 27,
   "id": "51edcd05",
   "metadata": {},
   "outputs": [],
   "source": [
    "def foo(first_name, nick_name = 'Foo'):\n",
    "\tprint(f\"Hi, I am {first_name}; you can call me {nick_name}.\")"
   ]
  },
  {
   "cell_type": "code",
   "execution_count": 28,
   "id": "d205f42d",
   "metadata": {},
   "outputs": [
    {
     "name": "stdout",
     "output_type": "stream",
     "text": [
      "Hi, I am Thanyawit; you can call me Takeing(Lamp).\n"
     ]
    }
   ],
   "source": [
    "foo('Thanyawit','Takeing(Lamp)')"
   ]
  },
  {
   "cell_type": "code",
   "execution_count": 29,
   "id": "337454c8",
   "metadata": {},
   "outputs": [
    {
     "name": "stdout",
     "output_type": "stream",
     "text": [
      "Hi, I am Thanyawit; you can call me Foo.\n"
     ]
    }
   ],
   "source": [
    "foo('Thanyawit')"
   ]
  },
  {
   "cell_type": "markdown",
   "id": "b004bf43",
   "metadata": {},
   "source": [
    "### Arbitrary arguments (*args)\n",
    "\n",
    "- args allows you to pass a variable number of arguments to a function. The function will receive a *tuple* of arguments.\n"
   ]
  },
  {
   "cell_type": "code",
   "execution_count": 30,
   "id": "c825b18e",
   "metadata": {},
   "outputs": [],
   "source": [
    "def my_multiply(a,b):\n",
    "\treturn a*b"
   ]
  },
  {
   "cell_type": "code",
   "execution_count": 31,
   "id": "22e2f2bf",
   "metadata": {},
   "outputs": [
    {
     "data": {
      "text/plain": [
       "6"
      ]
     },
     "execution_count": 31,
     "metadata": {},
     "output_type": "execute_result"
    }
   ],
   "source": [
    "my_multiply(2,3)"
   ]
  },
  {
   "cell_type": "code",
   "execution_count": 32,
   "id": "caf641ea",
   "metadata": {},
   "outputs": [
    {
     "ename": "TypeError",
     "evalue": "my_multiply() takes 2 positional arguments but 3 were given",
     "output_type": "error",
     "traceback": [
      "\u001b[1;31m---------------------------------------------------------------------------\u001b[0m",
      "\u001b[1;31mTypeError\u001b[0m                                 Traceback (most recent call last)",
      "Cell \u001b[1;32mIn[32], line 1\u001b[0m\n\u001b[1;32m----> 1\u001b[0m \u001b[43mmy_multiply\u001b[49m\u001b[43m(\u001b[49m\u001b[38;5;241;43m2\u001b[39;49m\u001b[43m,\u001b[49m\u001b[38;5;241;43m3\u001b[39;49m\u001b[43m,\u001b[49m\u001b[38;5;241;43m4\u001b[39;49m\u001b[43m)\u001b[49m\n",
      "\u001b[1;31mTypeError\u001b[0m: my_multiply() takes 2 positional arguments but 3 were given"
     ]
    }
   ],
   "source": [
    "my_multiply(2,3,4)"
   ]
  },
  {
   "cell_type": "code",
   "execution_count": 33,
   "id": "d8fa9c3c",
   "metadata": {},
   "outputs": [],
   "source": [
    "#my_multiply() takes 2 positional arguments but 3 were given"
   ]
  },
  {
   "cell_type": "code",
   "execution_count": 35,
   "id": "d02fced8",
   "metadata": {},
   "outputs": [],
   "source": [
    "def my_multiply(*args):\n",
    "\tresult = 1\n",
    "\tfor n in args:\n",
    "\t\tresult *=n\n",
    "\treturn result"
   ]
  },
  {
   "cell_type": "code",
   "execution_count": 36,
   "id": "1bc879cc",
   "metadata": {},
   "outputs": [
    {
     "data": {
      "text/plain": [
       "6"
      ]
     },
     "execution_count": 36,
     "metadata": {},
     "output_type": "execute_result"
    }
   ],
   "source": [
    "my_multiply(2,3,)"
   ]
  },
  {
   "cell_type": "code",
   "execution_count": 37,
   "id": "9c4c179d",
   "metadata": {},
   "outputs": [
    {
     "data": {
      "text/plain": [
       "24"
      ]
     },
     "execution_count": 37,
     "metadata": {},
     "output_type": "execute_result"
    }
   ],
   "source": [
    "my_multiply(2,3,4)"
   ]
  },
  {
   "cell_type": "code",
   "execution_count": 38,
   "id": "3362c875",
   "metadata": {},
   "outputs": [
    {
     "data": {
      "text/plain": [
       "362880"
      ]
     },
     "execution_count": 38,
     "metadata": {},
     "output_type": "execute_result"
    }
   ],
   "source": [
    "my_multiply(2,3,4,5,6,7,8,9)"
   ]
  },
  {
   "cell_type": "code",
   "execution_count": 39,
   "id": "6380e47e",
   "metadata": {},
   "outputs": [],
   "source": [
    "def avg(n, *others):\n",
    "\treturn (n + sum(others)) / (1 + len(others))"
   ]
  },
  {
   "cell_type": "code",
   "execution_count": 40,
   "id": "8ff84ad2",
   "metadata": {},
   "outputs": [
    {
     "data": {
      "text/plain": [
       "3.0"
      ]
     },
     "execution_count": 40,
     "metadata": {},
     "output_type": "execute_result"
    }
   ],
   "source": [
    "avg(3)"
   ]
  },
  {
   "cell_type": "code",
   "execution_count": 41,
   "id": "61c2d004",
   "metadata": {},
   "outputs": [
    {
     "data": {
      "text/plain": [
       "4.5"
      ]
     },
     "execution_count": 41,
     "metadata": {},
     "output_type": "execute_result"
    }
   ],
   "source": [
    "avg(3,4,5,6)"
   ]
  },
  {
   "cell_type": "markdown",
   "id": "4f30f91c",
   "metadata": {},
   "source": [
    "### Arbitrary keyword arguments (`**kwargs`)\n",
    "\n",
    "`**kwargs` allows you to pass a variable number of keyword arguments to a function. The\n",
    "function will receive a *dictionary* of arguments."
   ]
  },
  {
   "cell_type": "code",
   "execution_count": 2,
   "id": "d9fb70fe",
   "metadata": {},
   "outputs": [],
   "source": [
    "def greeting(fname, **kwargs):\n",
    "\n",
    "\ttitle = lname = nname = ''\n",
    "\tfor k, v in kwargs.items():\n",
    "\n",
    "\t\tif k == 'gender'and v == 'male': title = 'Mr.'\n",
    "\t\telif k == 'gender' and v == 'female': title = 'Ms.'\n",
    "            \n",
    "\t\tif k == 'last_name' : lname = v\n",
    "\t\tif k == 'nick_name' : nname = ' ('+v+')'\n",
    "\n",
    "\treturn 'Hello ' + title + fname + ' ' + lname + nname"
   ]
  },
  {
   "cell_type": "code",
   "execution_count": 45,
   "id": "409e9c99",
   "metadata": {},
   "outputs": [
    {
     "data": {
      "text/plain": [
       "'Hello Thanyawit '"
      ]
     },
     "execution_count": 45,
     "metadata": {},
     "output_type": "execute_result"
    }
   ],
   "source": [
    "greeting('Thanyawit')"
   ]
  },
  {
   "cell_type": "code",
   "execution_count": 47,
   "id": "6fae4156",
   "metadata": {},
   "outputs": [
    {
     "data": {
      "text/plain": [
       "'Hello Thanyawit  (Takeing)'"
      ]
     },
     "execution_count": 47,
     "metadata": {},
     "output_type": "execute_result"
    }
   ],
   "source": [
    "greeting('Thanyawit',nick_name='Takeing')"
   ]
  },
  {
   "cell_type": "code",
   "execution_count": 48,
   "id": "7f9f12bc",
   "metadata": {},
   "outputs": [
    {
     "data": {
      "text/plain": [
       "'Hello Thanyawit Bangyeekhan (Takeing(Lamp))'"
      ]
     },
     "execution_count": 48,
     "metadata": {},
     "output_type": "execute_result"
    }
   ],
   "source": [
    "greeting('Thanyawit', nick_name='Takeing(Lamp)', last_name='Bangyeekhan')"
   ]
  },
  {
   "cell_type": "code",
   "execution_count": 3,
   "id": "91c7899d",
   "metadata": {},
   "outputs": [
    {
     "data": {
      "text/plain": [
       "'Hello Mr.Thanyawit Bangyeekhan (Takeing(Lamp))'"
      ]
     },
     "execution_count": 3,
     "metadata": {},
     "output_type": "execute_result"
    }
   ],
   "source": [
    "greeting('Thanyawit', nick_name='Takeing(Lamp)', last_name='Bangyeekhan',gender='male')"
   ]
  },
  {
   "cell_type": "markdown",
   "id": "5118e8f8",
   "metadata": {},
   "source": [
    "## Multiple return values"
   ]
  },
  {
   "cell_type": "code",
   "execution_count": 7,
   "id": "0ab3354f",
   "metadata": {},
   "outputs": [],
   "source": [
    "import math\n",
    "\n",
    "def compute_circle(r):#Formula for finding the area of a circle and Finding the circumference of a circle \n",
    "\tarea = math.pi*r*r\n",
    "\tcir = 2*math.pi*r\n",
    "\treturn area, cir"
   ]
  },
  {
   "cell_type": "code",
   "execution_count": 6,
   "id": "a2a0282a",
   "metadata": {},
   "outputs": [
    {
     "data": {
      "text/plain": [
       "(22698.006922186254, 534.0707511102648)"
      ]
     },
     "execution_count": 6,
     "metadata": {},
     "output_type": "execute_result"
    }
   ],
   "source": [
    "compute_circle(85)#The result is a tuple."
   ]
  },
  {
   "cell_type": "code",
   "execution_count": 9,
   "id": "66f6baba",
   "metadata": {},
   "outputs": [
    {
     "name": "stdout",
     "output_type": "stream",
     "text": [
      "<class 'tuple'>\n"
     ]
    }
   ],
   "source": [
    "print(type(compute_circle(85)))"
   ]
  },
  {
   "cell_type": "markdown",
   "id": "2a80e026",
   "metadata": {},
   "source": [
    "## Scope of variables in function"
   ]
  },
  {
   "cell_type": "code",
   "execution_count": 11,
   "id": "f8f36162",
   "metadata": {},
   "outputs": [
    {
     "name": "stdout",
     "output_type": "stream",
     "text": [
      "0 0 1\n",
      "in function 3.141592653589793 6.283185307179586\n",
      "a,b 3.141592653589793 6.283185307179586\n",
      "0 0 1\n"
     ]
    }
   ],
   "source": [
    "def compute_circle(r):\n",
    "\tarea = math.pi*r*r\n",
    "\tcir = 2*math.pi*r\n",
    "\tprint('in function', area, cir)\n",
    "\treturn area, cir   #Local variables\n",
    "\n",
    "area = 0 #Global varaibles\n",
    "cir = 0\n",
    "r = 1\n",
    "print(area, cir, r)\n",
    "\n",
    "a, b = compute_circle(r)\n",
    "\n",
    "print('a,b', a,b)\n",
    "print(area, cir, r)"
   ]
  },
  {
   "cell_type": "markdown",
   "id": "1eadd1f9",
   "metadata": {},
   "source": [
    "## Passing a list as an argument"
   ]
  },
  {
   "cell_type": "code",
   "execution_count": 12,
   "id": "d2843732",
   "metadata": {},
   "outputs": [],
   "source": [
    "def abs_numbers(numbers):\n",
    "\tfor i in range(len(numbers)):\n",
    "\t\tif numbers[i] < 0:\n",
    "\t\t\tnumbers[i] = abs(numbers[i])"
   ]
  },
  {
   "cell_type": "code",
   "execution_count": 13,
   "id": "e5058cda",
   "metadata": {},
   "outputs": [],
   "source": [
    "a = [0,-1,-2,3,4,-5]"
   ]
  },
  {
   "cell_type": "code",
   "execution_count": 14,
   "id": "1ea32bcf",
   "metadata": {},
   "outputs": [
    {
     "name": "stdout",
     "output_type": "stream",
     "text": [
      "<function abs_numbers at 0x000002442D78CA40>\n"
     ]
    }
   ],
   "source": [
    "print(abs_numbers)"
   ]
  },
  {
   "cell_type": "code",
   "execution_count": 15,
   "id": "0c20326e",
   "metadata": {},
   "outputs": [],
   "source": [
    "abs_numbers(a)"
   ]
  },
  {
   "cell_type": "code",
   "execution_count": 16,
   "id": "ef1c1b55",
   "metadata": {},
   "outputs": [
    {
     "name": "stdout",
     "output_type": "stream",
     "text": [
      "[0, 1, 2, 3, 4, 5]\n"
     ]
    }
   ],
   "source": [
    "print(a)"
   ]
  },
  {
   "cell_type": "markdown",
   "id": "03ce3c24",
   "metadata": {},
   "source": [
    "## Benefit of functions"
   ]
  },
  {
   "cell_type": "markdown",
   "id": "5acee080",
   "metadata": {},
   "source": [
    "- Writing a program to check whether 2 circles overlap to each other."
   ]
  },
  {
   "cell_type": "code",
   "execution_count": 1,
   "id": "5508970e",
   "metadata": {},
   "outputs": [],
   "source": [
    "from IPython.display import IFrame, YouTubeVideo, SVG, HTML"
   ]
  },
  {
   "cell_type": "code",
   "execution_count": 3,
   "id": "67a58fb6",
   "metadata": {},
   "outputs": [
    {
     "ename": "NameError",
     "evalue": "name 'IFram' is not defined",
     "output_type": "error",
     "traceback": [
      "\u001b[1;31m---------------------------------------------------------------------------\u001b[0m",
      "\u001b[1;31mNameError\u001b[0m                                 Traceback (most recent call last)",
      "Cell \u001b[1;32mIn[3], line 1\u001b[0m\n\u001b[1;32m----> 1\u001b[0m \u001b[43mIFram\u001b[49m(\u001b[38;5;124m\"\u001b[39m\u001b[38;5;124mhttps://drive.google.com/file/d/10RRCbaqRybJHoxSRJxmCVoqzXu3Z-1ly/view?usp=share_link\u001b[39m\u001b[38;5;124m\"\u001b[39m, width\u001b[38;5;241m=\u001b[39m\u001b[38;5;241m800\u001b[39m, height\u001b[38;5;241m=\u001b[39m\u001b[38;5;241m400\u001b[39m)\n",
      "\u001b[1;31mNameError\u001b[0m: name 'IFram' is not defined"
     ]
    }
   ],
   "source": [
    "<img (\"https://drive.google.com/file/d/10RRCbaqRybJHoxSRJxmCVoqzXu3Z-1ly/view?usp=share_link\", width=800, height=400)"
   ]
  },
  {
   "cell_type": "code",
   "execution_count": 20,
   "id": "fce616a2",
   "metadata": {},
   "outputs": [
    {
     "name": "stdout",
     "output_type": "stream",
     "text": [
      "x1=0\n",
      "y1=0\n",
      "r1=3\n",
      "x2=0\n",
      "y2=10\n",
      "r2=4\n",
      "10.0\n",
      "no overlap\n"
     ]
    }
   ],
   "source": [
    "x1 = int(input('x1='))\n",
    "y1 = int(input('y1='))\n",
    "r1 = int(input('r1='))\n",
    "          \n",
    "x2 = int(input('x2='))\n",
    "y2 = int(input('y2='))\n",
    "r2 = int(input('r2='))\n",
    "\n",
    "dist = ((x1-x2)**2 + (y1-y2)**2)**0.5\n",
    "print(dist)\n",
    "\n",
    "if dist > r1+r2: print('no overlap')\n",
    "else: print('overlap')"
   ]
  },
  {
   "cell_type": "code",
   "execution_count": 21,
   "id": "25dd3fde",
   "metadata": {},
   "outputs": [
    {
     "name": "stdout",
     "output_type": "stream",
     "text": [
      "x1=0\n",
      "y1=4\n",
      "r1=8\n",
      "x2=10\n",
      "y2=0\n",
      "r2=12\n",
      "10.770329614269007\n",
      "overlap\n"
     ]
    }
   ],
   "source": [
    "x1 = int(input('x1='))\n",
    "y1 = int(input('y1='))\n",
    "r1 = int(input('r1='))\n",
    "          \n",
    "x2 = int(input('x2='))\n",
    "y2 = int(input('y2='))\n",
    "r2 = int(input('r2='))\n",
    "\n",
    "dist = ((x1-x2)**2 + (y1-y2)**2)**0.5\n",
    "print(dist)\n",
    "\n",
    "if dist > r1+r2: print('no overlap')\n",
    "else: print('overlap')"
   ]
  },
  {
   "cell_type": "markdown",
   "id": "484c5510",
   "metadata": {},
   "source": [
    "- Adding another cirices."
   ]
  },
  {
   "cell_type": "code",
   "execution_count": 22,
   "id": "b130821b",
   "metadata": {
    "scrolled": true
   },
   "outputs": [
    {
     "name": "stdout",
     "output_type": "stream",
     "text": [
      "x1=0\n",
      "y1=0\n",
      "r1=3\n",
      "x2=5\n",
      "y2=5\n",
      "r2=0\n",
      "x3=0\n",
      "y3=3\n",
      "r3=2\n",
      "7.0710678118654755\n",
      "3.0\n",
      "5.385164807134504\n",
      "1&2 no overlap\n",
      "1&3 overlap\n",
      "3&2 no overlap\n"
     ]
    }
   ],
   "source": [
    "x1 = int(input('x1='))\n",
    "y1 = int(input('y1='))\n",
    "r1 = int(input('r1='))\n",
    "          \n",
    "x2 = int(input('x2='))\n",
    "y2 = int(input('y2='))\n",
    "r2 = int(input('r2='))\n",
    "\n",
    "x3 = int(input('x3='))\n",
    "y3 = int(input('y3='))\n",
    "r3 = int(input('r3='))\n",
    "\n",
    "dist12 = ((x1-x2)**2 + (y1-y2)**2)**0.5\n",
    "print(dist12)\n",
    "dist13 = ((x1-x3)**2 + (y1-y3)**2)**0.5\n",
    "print(dist13)\n",
    "dist32 = ((x3-x2)**2 + (y3-y2)**2)**0.5\n",
    "print(dist32)\n",
    "\n",
    "if dist12 > r1+r2: print('1&2 no overlap')\n",
    "else: print('1&2 overlap')\n",
    "if dist13 > r1+r3: print('1&3 no overlap')\n",
    "else: print('1&3 overlap')\n",
    "if dist32 > r3+r2: print('3&2 no overlap')\n",
    "else: print('3&2 overlap')"
   ]
  },
  {
   "cell_type": "markdown",
   "id": "7298df69",
   "metadata": {},
   "source": [
    "## Another version with functions."
   ]
  },
  {
   "cell_type": "code",
   "execution_count": 3,
   "id": "d4af4709",
   "metadata": {},
   "outputs": [
    {
     "name": "stdout",
     "output_type": "stream",
     "text": [
      "x = 0\n",
      "y = 0\n",
      "r = 3\n",
      "x = 0\n",
      "y = 10\n",
      "r = 4\n",
      "x = 0\n",
      "y = 0\n",
      "r = 0\n",
      "1&2: no overlap\n",
      "1&3: overlap\n",
      "3&2: no overlap\n"
     ]
    }
   ],
   "source": [
    "def get_circle():  # get circle's parameters from the keyboard\n",
    "    x = int(input(\"x = \"))\n",
    "    y = int(input(\"y = \"))\n",
    "    r = int(input(\"r = \"))\n",
    "    return ((x, y), r)\n",
    "\n",
    "def distance(p1, p2):  # calculate distance between 2 points\n",
    "    return ((p1[0] - p2[0]) ** 2 + (p1[1] - p2[1]) ** 2) ** 0.5\n",
    "\n",
    "def is_overlap(c1, c2):  # check if 2 circles overlap\n",
    "    dist = distance(c1[0], c2[0])\n",
    "    if dist > (c1[1] + c2[1]):\n",
    "        return 'no overlap'\n",
    "    elif dist == (c1[1] + c2[1]):\n",
    "        return 'touch'\n",
    "    else:\n",
    "        return 'overlap'\n",
    "\n",
    "c1 = get_circle()\n",
    "c2 = get_circle()\n",
    "c3 = get_circle()\n",
    "print('1&2:', is_overlap(c1, c2))\n",
    "print('1&3:', is_overlap(c1, c3))\n",
    "print('3&2:', is_overlap(c3, c2))"
   ]
  },
  {
   "cell_type": "markdown",
   "id": "75cc9a8e",
   "metadata": {},
   "source": [
    "###### Open Ai save me lol"
   ]
  }
 ],
 "metadata": {
  "kernelspec": {
   "display_name": "Python 3 (ipykernel)",
   "language": "python",
   "name": "python3"
  },
  "language_info": {
   "codemirror_mode": {
    "name": "ipython",
    "version": 3
   },
   "file_extension": ".py",
   "mimetype": "text/x-python",
   "name": "python",
   "nbconvert_exporter": "python",
   "pygments_lexer": "ipython3",
   "version": "3.11.3"
  }
 },
 "nbformat": 4,
 "nbformat_minor": 5
}
