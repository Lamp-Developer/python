{
 "cells": [
  {
   "cell_type": "markdown",
   "id": "5bc05690",
   "metadata": {},
   "source": [
    "## FILE I/O"
   ]
  },
  {
   "attachments": {},
   "cell_type": "markdown",
   "id": "5b661bf5",
   "metadata": {},
   "source": [
    "![FILE I/O](https://sv1.picz.in.th/images/2023/05/19/Fw39aZ.png)"
   ]
  },
  {
   "cell_type": "code",
   "execution_count": 46,
   "id": "978dc679",
   "metadata": {},
   "outputs": [],
   "source": [
    "f = open('Files/sample.txt')"
   ]
  },
  {
   "cell_type": "code",
   "execution_count": 21,
   "id": "5f0a172e",
   "metadata": {},
   "outputs": [
    {
     "name": "stdout",
     "output_type": "stream",
     "text": [
      "<_io.TextIOWrapper name='Files/sample.txt' mode='r' encoding='cp874'>\n"
     ]
    }
   ],
   "source": [
    "print(f)"
   ]
  },
  {
   "cell_type": "code",
   "execution_count": 22,
   "id": "15fcff90",
   "metadata": {},
   "outputs": [
    {
     "ename": "FileNotFoundError",
     "evalue": "[Errno 2] No such file or directory: 'Files/samples.txt'",
     "output_type": "error",
     "traceback": [
      "\u001b[1;31m---------------------------------------------------------------------------\u001b[0m",
      "\u001b[1;31mFileNotFoundError\u001b[0m                         Traceback (most recent call last)",
      "Cell \u001b[1;32mIn[22], line 1\u001b[0m\n\u001b[1;32m----> 1\u001b[0m f \u001b[38;5;241m=\u001b[39m \u001b[38;5;28;43mopen\u001b[39;49m\u001b[43m(\u001b[49m\u001b[38;5;124;43m'\u001b[39;49m\u001b[38;5;124;43mFiles/samples.txt\u001b[39;49m\u001b[38;5;124;43m'\u001b[39;49m\u001b[43m)\u001b[49m\n",
      "File \u001b[1;32m~\\AppData\\Local\\Programs\\Python\\Python311\\Lib\\site-packages\\IPython\\core\\interactiveshell.py:284\u001b[0m, in \u001b[0;36m_modified_open\u001b[1;34m(file, *args, **kwargs)\u001b[0m\n\u001b[0;32m    277\u001b[0m \u001b[38;5;28;01mif\u001b[39;00m file \u001b[38;5;129;01min\u001b[39;00m {\u001b[38;5;241m0\u001b[39m, \u001b[38;5;241m1\u001b[39m, \u001b[38;5;241m2\u001b[39m}:\n\u001b[0;32m    278\u001b[0m     \u001b[38;5;28;01mraise\u001b[39;00m \u001b[38;5;167;01mValueError\u001b[39;00m(\n\u001b[0;32m    279\u001b[0m         \u001b[38;5;124mf\u001b[39m\u001b[38;5;124m\"\u001b[39m\u001b[38;5;124mIPython won\u001b[39m\u001b[38;5;124m'\u001b[39m\u001b[38;5;124mt let you open fd=\u001b[39m\u001b[38;5;132;01m{\u001b[39;00mfile\u001b[38;5;132;01m}\u001b[39;00m\u001b[38;5;124m by default \u001b[39m\u001b[38;5;124m\"\u001b[39m\n\u001b[0;32m    280\u001b[0m         \u001b[38;5;124m\"\u001b[39m\u001b[38;5;124mas it is likely to crash IPython. If you know what you are doing, \u001b[39m\u001b[38;5;124m\"\u001b[39m\n\u001b[0;32m    281\u001b[0m         \u001b[38;5;124m\"\u001b[39m\u001b[38;5;124myou can use builtins\u001b[39m\u001b[38;5;124m'\u001b[39m\u001b[38;5;124m open.\u001b[39m\u001b[38;5;124m\"\u001b[39m\n\u001b[0;32m    282\u001b[0m     )\n\u001b[1;32m--> 284\u001b[0m \u001b[38;5;28;01mreturn\u001b[39;00m \u001b[43mio_open\u001b[49m\u001b[43m(\u001b[49m\u001b[43mfile\u001b[49m\u001b[43m,\u001b[49m\u001b[43m \u001b[49m\u001b[38;5;241;43m*\u001b[39;49m\u001b[43margs\u001b[49m\u001b[43m,\u001b[49m\u001b[43m \u001b[49m\u001b[38;5;241;43m*\u001b[39;49m\u001b[38;5;241;43m*\u001b[39;49m\u001b[43mkwargs\u001b[49m\u001b[43m)\u001b[49m\n",
      "\u001b[1;31mFileNotFoundError\u001b[0m: [Errno 2] No such file or directory: 'Files/samples.txt'"
     ]
    }
   ],
   "source": [
    "f = open('Files/samples.txt')"
   ]
  },
  {
   "cell_type": "code",
   "execution_count": 23,
   "id": "5d63b739",
   "metadata": {},
   "outputs": [],
   "source": [
    "f2 = open('Files/samples.txt', mode='w')"
   ]
  },
  {
   "cell_type": "code",
   "execution_count": 24,
   "id": "0e80b0cc",
   "metadata": {},
   "outputs": [],
   "source": [
    "f3 = open('Files/samples.txt', mode='a')"
   ]
  },
  {
   "cell_type": "markdown",
   "id": "c9141f7d",
   "metadata": {},
   "source": [
    "### Access Modes\n",
    "\n",
    "- `x` :read only (default)\n",
    "- `w` : write only\n",
    "- `r+` :read & write\n",
    "- `wt` : write & read\n",
    "- `a` :append\n",
    "\n",
    "- `t` : text mode (default)\n",
    "- `b` : binary mode"
   ]
  },
  {
   "cell_type": "markdown",
   "id": "a28fcdc1",
   "metadata": {},
   "source": [
    "## Read & write files"
   ]
  },
  {
   "cell_type": "markdown",
   "id": "ae9c10bb",
   "metadata": {},
   "source": [
    "Read a file\n",
    "\n",
    "- `read(<size>)` : reads size characters or bytes from the file. If no argument, it will read entire file.\n",
    "- `readlind( )` : reads a single line from the file, with \\n at the end (except the last line)\n",
    "- `readlines()` : reads all lines and return a list of each line.\n",
    "- `Loop to read each line` :\n",
    "\n",
    "\t\tfor line in file object:\n",
    "        \n",
    "        \t..."
   ]
  },
  {
   "cell_type": "code",
   "execution_count": 25,
   "id": "8aefc206",
   "metadata": {},
   "outputs": [
    {
     "name": "stdout",
     "output_type": "stream",
     "text": [
      "Hello python\n",
      "this is sample.\n"
     ]
    }
   ],
   "source": [
    "data = f.read()\n",
    "print(data)"
   ]
  },
  {
   "cell_type": "code",
   "execution_count": 29,
   "id": "b0937333",
   "metadata": {},
   "outputs": [
    {
     "name": "stdout",
     "output_type": "stream",
     "text": [
      "Hello\n"
     ]
    }
   ],
   "source": [
    "data = f.read(5)\n",
    "print(data)"
   ]
  },
  {
   "cell_type": "code",
   "execution_count": 30,
   "id": "604b71dd",
   "metadata": {},
   "outputs": [
    {
     "name": "stdout",
     "output_type": "stream",
     "text": [
      "5\n"
     ]
    }
   ],
   "source": [
    "print(len(data))"
   ]
  },
  {
   "cell_type": "code",
   "execution_count": 34,
   "id": "c4e45f47",
   "metadata": {
    "scrolled": true
   },
   "outputs": [
    {
     "name": "stdout",
     "output_type": "stream",
     "text": [
      "\n"
     ]
    }
   ],
   "source": [
    "data = f.readline()\n",
    "print(data)"
   ]
  },
  {
   "cell_type": "code",
   "execution_count": 38,
   "id": "cd1ed4f3",
   "metadata": {},
   "outputs": [
    {
     "name": "stdout",
     "output_type": "stream",
     "text": [
      "Hello python\n",
      "\n"
     ]
    }
   ],
   "source": [
    "data = f.readline()\n",
    "print(data)"
   ]
  },
  {
   "cell_type": "code",
   "execution_count": 39,
   "id": "a19cf453",
   "metadata": {},
   "outputs": [
    {
     "name": "stdout",
     "output_type": "stream",
     "text": [
      "13\n"
     ]
    }
   ],
   "source": [
    "print(len(data))#ที่นับเป็น13เพราะนับ\\n"
   ]
  },
  {
   "cell_type": "code",
   "execution_count": 42,
   "id": "57f82794",
   "metadata": {},
   "outputs": [
    {
     "name": "stdout",
     "output_type": "stream",
     "text": [
      "['Hello python\\n', 'this is sample.']\n"
     ]
    }
   ],
   "source": [
    "data = f.readlines()\n",
    "print(data)"
   ]
  },
  {
   "cell_type": "code",
   "execution_count": 45,
   "id": "dd2aab5a",
   "metadata": {},
   "outputs": [
    {
     "name": "stdout",
     "output_type": "stream",
     "text": [
      "Hello python\n",
      "\n",
      "this is sample.\n"
     ]
    }
   ],
   "source": [
    "for ln in f:\n",
    "    print(ln)"
   ]
  },
  {
   "cell_type": "code",
   "execution_count": 47,
   "id": "6ae4bad3",
   "metadata": {},
   "outputs": [
    {
     "name": "stdout",
     "output_type": "stream",
     "text": [
      "Hello python\n",
      "this is sample."
     ]
    }
   ],
   "source": [
    "for ln in f:\n",
    "\tprint(ln, end='')"
   ]
  },
  {
   "cell_type": "markdown",
   "id": "aeb0a96c",
   "metadata": {},
   "source": [
    "## Write to a file\n",
    "\n",
    "- `write(<string>)` : write the string to the file and return a number of written characters.\n",
    "- `writelines()` : write a list of lines to the file."
   ]
  },
  {
   "cell_type": "code",
   "execution_count": 48,
   "id": "d9ada137",
   "metadata": {},
   "outputs": [
    {
     "ename": "UnsupportedOperation",
     "evalue": "not writable",
     "output_type": "error",
     "traceback": [
      "\u001b[1;31m---------------------------------------------------------------------------\u001b[0m",
      "\u001b[1;31mUnsupportedOperation\u001b[0m                      Traceback (most recent call last)",
      "Cell \u001b[1;32mIn[48], line 1\u001b[0m\n\u001b[1;32m----> 1\u001b[0m \u001b[43mf\u001b[49m\u001b[38;5;241;43m.\u001b[39;49m\u001b[43mwrite\u001b[49m\u001b[43m(\u001b[49m\u001b[38;5;124;43m'\u001b[39;49m\u001b[38;5;124;43mbye\u001b[39;49m\u001b[38;5;124;43m'\u001b[39;49m\u001b[43m)\u001b[49m\n",
      "\u001b[1;31mUnsupportedOperation\u001b[0m: not writable"
     ]
    }
   ],
   "source": [
    "f.write('bye')"
   ]
  },
  {
   "cell_type": "code",
   "execution_count": 49,
   "id": "692fd12a",
   "metadata": {},
   "outputs": [],
   "source": [
    "f = open('Files/sample.txt', 'a')"
   ]
  },
  {
   "cell_type": "code",
   "execution_count": 50,
   "id": "1a8cbe97",
   "metadata": {},
   "outputs": [
    {
     "data": {
      "text/plain": [
       "3"
      ]
     },
     "execution_count": 50,
     "metadata": {},
     "output_type": "execute_result"
    }
   ],
   "source": [
    "f.write('bye')"
   ]
  },
  {
   "cell_type": "code",
   "execution_count": 51,
   "id": "e223ebc5",
   "metadata": {},
   "outputs": [],
   "source": [
    "f.close()"
   ]
  },
  {
   "cell_type": "code",
   "execution_count": 67,
   "id": "d6385053",
   "metadata": {},
   "outputs": [],
   "source": [
    "f = open('Files/sample.txt', 'r+') #open for read and write"
   ]
  },
  {
   "cell_type": "code",
   "execution_count": 60,
   "id": "f10c5ff1",
   "metadata": {},
   "outputs": [
    {
     "name": "stdout",
     "output_type": "stream",
     "text": [
      "Hello python\n",
      "this is sample.bye-..--..-\n"
     ]
    }
   ],
   "source": [
    "print(f.read())"
   ]
  },
  {
   "cell_type": "code",
   "execution_count": 61,
   "id": "b424b1f6",
   "metadata": {},
   "outputs": [
    {
     "data": {
      "text/plain": [
       "0"
      ]
     },
     "execution_count": 61,
     "metadata": {},
     "output_type": "execute_result"
    }
   ],
   "source": [
    "f.seek(0)"
   ]
  },
  {
   "cell_type": "code",
   "execution_count": 62,
   "id": "e51786d1",
   "metadata": {},
   "outputs": [
    {
     "name": "stdout",
     "output_type": "stream",
     "text": [
      "Hello python\n",
      "this is sample.bye-..--..-\n"
     ]
    }
   ],
   "source": [
    "print(f.read())"
   ]
  }
 ],
 "metadata": {
  "kernelspec": {
   "display_name": "Python 3 (ipykernel)",
   "language": "python",
   "name": "python3"
  },
  "language_info": {
   "codemirror_mode": {
    "name": "ipython",
    "version": 3
   },
   "file_extension": ".py",
   "mimetype": "text/x-python",
   "name": "python",
   "nbconvert_exporter": "python",
   "pygments_lexer": "ipython3",
   "version": "3.11.3"
  }
 },
 "nbformat": 4,
 "nbformat_minor": 5
}
