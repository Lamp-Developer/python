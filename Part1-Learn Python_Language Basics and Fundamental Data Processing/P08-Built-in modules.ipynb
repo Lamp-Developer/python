{
 "cells": [
  {
   "cell_type": "markdown",
   "id": "3fe10e30",
   "metadata": {},
   "source": [
    "## Built-in Modules "
   ]
  },
  {
   "cell_type": "markdown",
   "id": "0fca9f63",
   "metadata": {},
   "source": [
    "- Modules are Python files containing various objects and functions in closely-related programming tasks.\n",
    "- Built-in modules come with the Python standard library.\n",
    "- Typically, we simply make use of objects and functions from the modules.\n"
   ]
  },
  {
   "cell_type": "markdown",
   "id": "3e25d752",
   "metadata": {},
   "source": [
    "## Demonstration of using a a built- -in module"
   ]
  },
  {
   "cell_type": "markdown",
   "id": "306c9fca",
   "metadata": {},
   "source": [
    "##### Let's pick a module called math for this demonstration."
   ]
  },
  {
   "cell_type": "markdown",
   "id": "0cb19088",
   "metadata": {},
   "source": [
    "### Letting the program know we will use a module\n",
    "To start using a module, we need to `import` the module by its name"
   ]
  },
  {
   "cell_type": "code",
   "execution_count": 2,
   "id": "7a948603",
   "metadata": {},
   "outputs": [
    {
     "name": "stdout",
     "output_type": "stream",
     "text": [
      "<module 'math' (built-in)>\n"
     ]
    }
   ],
   "source": [
    "import math\n",
    "print(math)"
   ]
  },
  {
   "cell_type": "markdown",
   "id": "62ee864d",
   "metadata": {},
   "source": [
    "### Accessing values and functions in the module\n",
    "Once imported, we can access values and functions in the module using the *dot operator* with\n",
    "the name of the module."
   ]
  },
  {
   "cell_type": "code",
   "execution_count": 3,
   "id": "9f3cdfc9",
   "metadata": {},
   "outputs": [
    {
     "name": "stdout",
     "output_type": "stream",
     "text": [
      "3.141592653589793\n",
      "120\n"
     ]
    }
   ],
   "source": [
    "# Let's find the value of pi\n",
    "print(math.pi)\n",
    "# Find the factorial of 5 (i.e. 5!=5 *4 *3 * 2 * 1 = 120)\n",
    "print(math.factorial(5))"
   ]
  },
  {
   "cell_type": "code",
   "execution_count": null,
   "id": "e6f48c05",
   "metadata": {},
   "outputs": [],
   "source": [
    "help(math)"
   ]
  },
  {
   "cell_type": "markdown",
   "id": "46c5d1b0",
   "metadata": {},
   "source": [
    "From the documentation above, there are a few new notations in the function parameters that we\n",
    "have not yet covered.\n",
    "\n",
    "First is that many functions have `/` as their parameters, such as `factorial(x, /)`. This `/`\n",
    "is NOT an actual parameter but it is there just to say that **\"the parameters coming before `/`\n",
    "are positional-only\"**.\n",
    "\n",
    "Second is that a few functions have `*` as their parameters, such as `prod(iterable, /, *,\n",
    "start=1)`. This `*` is again NOT an actual parameter but it says that **\"the parameters coming\n",
    "after `*` must be input using keyword arguments\"**."
   ]
  },
  {
   "cell_type": "markdown",
   "id": "d66e5f74",
   "metadata": {},
   "source": [
    "These concepts are a bit advanced but we can now just focus on knowing how to call functions in\n",
    "the module."
   ]
  },
  {
   "cell_type": "markdown",
   "id": "184b7942",
   "metadata": {},
   "source": [
    "### Example 1 Square Root Finder\n",
    "Let's write a program to get an integer from the user and calculate the resulting square root\n",
    "of that integer."
   ]
  },
  {
   "cell_type": "code",
   "execution_count": 5,
   "id": "a187cc9f",
   "metadata": {},
   "outputs": [
    {
     "name": "stdout",
     "output_type": "stream",
     "text": [
      "Enter an integer n: 20\n",
      "The square root of 20 is 4.47213595499958.\n"
     ]
    }
   ],
   "source": [
    "# math has already been imported in this notebook\n",
    "n = input(\"Enter an integer n: \")\n",
    "result = math.sqrt(int(n))\n",
    "print(\"The square root of \" + n + \" is \" +  str (result) + \".\")"
   ]
  },
  {
   "cell_type": "markdown",
   "id": "e0d03f0c",
   "metadata": {},
   "source": [
    "### Example 2: Greatest Common Divisor Finder\n",
    "The program receives 3 integers and finds the largest integer that can divide the 3 integers\n",
    "(with no remainders).|"
   ]
  },
  {
   "cell_type": "code",
   "execution_count": 6,
   "id": "3270a927",
   "metadata": {},
   "outputs": [
    {
     "name": "stdout",
     "output_type": "stream",
     "text": [
      "Enter the lst integer: 140\n",
      "Enter the 2nd integer: 28\n",
      "Enter the 3rd integer: 154\n",
      "The GCD is 14.\n"
     ]
    }
   ],
   "source": [
    "# math has already been imported in this notebook\n",
    "nl = int(input(\"Enter the lst integer: \"))\n",
    "n2 = int(input(\"Enter the 2nd integer: \"))\n",
    "n3 = int(input(\"Enter the 3rd integer: \"))\n",
    "result = math.gcd(nl, n2, n3)\n",
    "print(\"The GCD is \" + str(result) + \".\")"
   ]
  },
  {
   "cell_type": "markdown",
   "id": "9eecceca",
   "metadata": {},
   "source": [
    "## More usage variations of import"
   ]
  },
  {
   "cell_type": "markdown",
   "id": "e2fcc1ba",
   "metadata": {},
   "source": [
    "At this point, we should restart the Kernel (`Kernel > Restart`) to make this notebook forget\n",
    "all of the variables including `math`"
   ]
  },
  {
   "cell_type": "markdown",
   "id": "84692f21",
   "metadata": {},
   "source": [
    "### Renaming the module"
   ]
  },
  {
   "cell_type": "code",
   "execution_count": 3,
   "id": "ef7ad7c2",
   "metadata": {},
   "outputs": [
    {
     "name": "stdout",
     "output_type": "stream",
     "text": [
      "3.141592653589793\n"
     ]
    }
   ],
   "source": [
    "import math as m\n",
    "print(m.pi)"
   ]
  },
  {
   "cell_type": "markdown",
   "id": "33ded4fb",
   "metadata": {},
   "source": [
    "### Importing specific values/functions from a module\n"
   ]
  },
  {
   "cell_type": "code",
   "execution_count": 5,
   "id": "16bcb712",
   "metadata": {},
   "outputs": [
    {
     "name": "stdout",
     "output_type": "stream",
     "text": [
      "12.0\n",
      "120\n"
     ]
    }
   ],
   "source": [
    "# Restart the Kernel first\n",
    "from math import sqrt, factorial as fact\n",
    "print (sqrt(144))\n",
    "print(fact(5))"
   ]
  },
  {
   "cell_type": "code",
   "execution_count": 6,
   "id": "8a1eb09e",
   "metadata": {},
   "outputs": [
    {
     "name": "stdout",
     "output_type": "stream",
     "text": [
      "12.0\n",
      "120\n",
      "3.141592653589793\n"
     ]
    }
   ],
   "source": [
    "# Restart the Kernel first\n",
    "from math import *\n",
    "print (sqrt(144))\n",
    "print(factorial(5))\n",
    "print (pi)"
   ]
  },
  {
   "cell_type": "code",
   "execution_count": null,
   "id": "c31ad4f7",
   "metadata": {},
   "outputs": [],
   "source": []
  },
  {
   "cell_type": "code",
   "execution_count": null,
   "id": "1be55945",
   "metadata": {},
   "outputs": [],
   "source": []
  }
 ],
 "metadata": {
  "kernelspec": {
   "display_name": "Python 3 (ipykernel)",
   "language": "python",
   "name": "python3"
  },
  "language_info": {
   "codemirror_mode": {
    "name": "ipython",
    "version": 3
   },
   "file_extension": ".py",
   "mimetype": "text/x-python",
   "name": "python",
   "nbconvert_exporter": "python",
   "pygments_lexer": "ipython3",
   "version": "3.11.3"
  }
 },
 "nbformat": 4,
 "nbformat_minor": 5
}
